{
  "nbformat": 4,
  "nbformat_minor": 0,
  "metadata": {
    "colab": {
      "name": "Python_basics_ST.ipynb",
      "provenance": [],
      "collapsed_sections": [],
      "toc_visible": true,
      "authorship_tag": "ABX9TyMJt5cnYiGQ1zkGKlNtVQr3",
      "include_colab_link": true
    },
    "kernelspec": {
      "name": "python3",
      "display_name": "Python 3"
    },
    "language_info": {
      "name": "python"
    }
  },
  "cells": [
    {
      "cell_type": "markdown",
      "metadata": {
        "id": "view-in-github",
        "colab_type": "text"
      },
      "source": [
        "<a href=\"https://colab.research.google.com/github/Jshndeep/Summer-Training-2k22/blob/main/Python_basics_ST.ipynb\" target=\"_parent\"><img src=\"https://colab.research.google.com/assets/colab-badge.svg\" alt=\"Open In Colab\"/></a>"
      ]
    },
    {
      "cell_type": "markdown",
      "source": [
        "# **Basics of Python**"
      ],
      "metadata": {
        "id": "v7H6yJjgnbEk"
      }
    },
    {
      "cell_type": "markdown",
      "source": [
        "Python was derived from **Monty Python's Flying Circus** in 1970 by **Van Rossum**.\n",
        "\n",
        "\n",
        "1.   Later on, **Iron Python** was developed which works with **.NET**.\n",
        "\n",
        "2.   **Jython** was developed which works with **Java Virtual Machine**.\n",
        "\n",
        "1.  **Django** was developed which works with **Web Framework**.\n",
        "\n",
        "\n",
        "\n",
        "\n",
        "\n"
      ],
      "metadata": {
        "id": "Zp21zukWuws5"
      }
    },
    {
      "cell_type": "markdown",
      "source": [
        "###**Ecosystem**\n",
        "\n",
        "> There are various packages like:\n",
        "*  Numpy\n",
        "*  Pandas\n",
        "*  Scikit\n",
        "*  Matplotlib\n",
        "*  Cartopy\n",
        "\n",
        "\n",
        "\n",
        "\n",
        "\n",
        "\n",
        "\n",
        "\n",
        "\n",
        "\n",
        "\n",
        "\n"
      ],
      "metadata": {
        "id": "SSGNSCcrx-Kq"
      }
    },
    {
      "cell_type": "markdown",
      "source": [
        "**Power of Python**\n",
        "\n",
        "*   Google\n",
        "*   Facebook\n",
        "\n",
        "\n",
        "\n"
      ],
      "metadata": {
        "id": "pcGecIrBy27c"
      }
    },
    {
      "cell_type": "markdown",
      "source": [
        "**Why Python?**\n",
        "1.  Free\n",
        "1.   Portable\n",
        "1.   Powerful\n",
        "1.   Mixable\n",
        "1.   Easy to use\n",
        "2.  Interactive\n",
        "2.   Object Oriented\n",
        "2.   Beginner's Language\n",
        "\n",
        "\n"
      ],
      "metadata": {
        "id": "v1n5v18MzPCw"
      }
    },
    {
      "cell_type": "markdown",
      "source": [
        "We can download Python from www.python.org"
      ],
      "metadata": {
        "id": "ldpg63cCz5fq"
      }
    },
    {
      "cell_type": "markdown",
      "source": [
        "Python is a **case sensitive** language. \n",
        "\n",
        "\n",
        "\n",
        "\n"
      ],
      "metadata": {
        "id": "BckOZy400Mh2"
      }
    },
    {
      "cell_type": "markdown",
      "source": [
        "### **Developing Environments**"
      ],
      "metadata": {
        "id": "qNmjuD_Pn1yv"
      }
    },
    {
      "cell_type": "markdown",
      "source": [
        "1.   PyDev with Eclipse\n",
        "2.   Komodo\n",
        "1.   Pycharm\n",
        "2.   Idle\n",
        "1.   Notepad\n",
        "\n",
        "In text editor, feature of intellisense is there."
      ],
      "metadata": {
        "id": "IKkY3VSAoUMm"
      }
    },
    {
      "cell_type": "markdown",
      "source": [
        "**Shell**:- It interacts with machine.Nothing will be saved permanently.But we have to make files and folders.So we dont use shell\n"
      ],
      "metadata": {
        "id": "w1w2BEsE7YRk"
      }
    },
    {
      "cell_type": "markdown",
      "source": [
        "So, We will make use of **IDLE(Integrated Development Environment)**.Examples:-**Jupyter, Spyder**."
      ],
      "metadata": {
        "id": "gpJXK-2j8Af9"
      }
    },
    {
      "cell_type": "markdown",
      "source": [
        "**Kernel**:-Interacts with Operating System."
      ],
      "metadata": {
        "id": "8v95pBuw8xGC"
      }
    },
    {
      "cell_type": "markdown",
      "source": [
        "Top 5 IDE's for Data Science:\n",
        "1.   Rodeo IDE\n",
        "1.   Pycharm\n",
        "1.   Jupyter\n",
        "2.   Spyder\n",
        "2.   Atom IDE\n",
        "\n",
        "\n",
        "\n",
        "\n"
      ],
      "metadata": {
        "id": "JQnvWKAV98Em"
      }
    },
    {
      "cell_type": "markdown",
      "source": [
        "### **Building Blocks**"
      ],
      "metadata": {
        "id": "70Op2gNuocYJ"
      }
    },
    {
      "cell_type": "markdown",
      "source": [
        "\n",
        "\n",
        "> Values and Variables\n",
        "\n",
        "*   numeric value\n",
        "*   variables\n",
        "*   assignment\n",
        "*   identifiers\n",
        "*  reserved words\n",
        "*   comments\n",
        "\n",
        "\n",
        "\n"
      ],
      "metadata": {
        "id": "kIv_kDKt-jm7"
      }
    },
    {
      "cell_type": "markdown",
      "source": [
        "\n",
        "\n",
        "*   **Constants**:-They have fixed value.\n",
        "*   **Variables**:-Value can be changed(used to define values).\n",
        "*   **Identifiers**:-Name given to variables, functions, classes etc.These start with letter A to Z or a to z or an underscore followed by zero or more letters,underscore and digits(0 to 9).It dont allow @,$ and % etc.\n",
        "\n",
        "\n",
        "\n",
        "\n",
        "\n"
      ],
      "metadata": {
        "id": "49sM4zZc_BL0"
      }
    },
    {
      "cell_type": "markdown",
      "source": [
        "### **Data Types**"
      ],
      "metadata": {
        "id": "G-WrQbG6oifI"
      }
    },
    {
      "cell_type": "markdown",
      "source": [
        "\n",
        "1.   Numbers\n",
        "2.   Strings\n",
        "1.   Lists\n",
        "1.   Tuples\n",
        "2.   Dictionary\n",
        "\n",
        "\n",
        "\n",
        "\n",
        "\n"
      ],
      "metadata": {
        "id": "1zMkfmtTAQjw"
      }
    },
    {
      "cell_type": "markdown",
      "source": [
        "###**Numbers in Python**\n"
      ],
      "metadata": {
        "id": "aUawU_foApPc"
      }
    },
    {
      "cell_type": "code",
      "source": [
        "#\"=\" sign is used to assign values.Assignment is always from right to left.\n",
        "var1=1\n",
        "print(var1)  #For printing the value of var1\n",
        "del var1     #For deleting its value"
      ],
      "metadata": {
        "id": "PjXe5IphA0Sd",
        "colab": {
          "base_uri": "https://localhost:8080/"
        },
        "outputId": "92ae9847-22d3-49c4-bd9a-59f5ab66aa1b"
      },
      "execution_count": null,
      "outputs": [
        {
          "output_type": "stream",
          "name": "stdout",
          "text": [
            "1\n"
          ]
        }
      ]
    },
    {
      "cell_type": "markdown",
      "source": [
        "It do not need explicit declaration.Python uses both single and double quotes as:"
      ],
      "metadata": {
        "id": "IWnfD4--CCMy"
      }
    },
    {
      "cell_type": "code",
      "source": [
        "#help(\"keywords\") will give complete list of keywords\n",
        "help(\"keywords\")"
      ],
      "metadata": {
        "colab": {
          "base_uri": "https://localhost:8080/"
        },
        "id": "lOY6b_M4D1c5",
        "outputId": "bf98c944-d54f-4268-cac9-781b3c34ec6a"
      },
      "execution_count": null,
      "outputs": [
        {
          "output_type": "stream",
          "name": "stdout",
          "text": [
            "\n",
            "Here is a list of the Python keywords.  Enter any keyword to get more help.\n",
            "\n",
            "False               class               from                or\n",
            "None                continue            global              pass\n",
            "True                def                 if                  raise\n",
            "and                 del                 import              return\n",
            "as                  elif                in                  try\n",
            "assert              else                is                  while\n",
            "async               except              lambda              with\n",
            "await               finally             nonlocal            yield\n",
            "break               for                 not                 \n",
            "\n"
          ]
        }
      ]
    },
    {
      "cell_type": "code",
      "source": [
        "x,y,z=100,-45,0;\n",
        "print(x,y,z);"
      ],
      "metadata": {
        "colab": {
          "base_uri": "https://localhost:8080/"
        },
        "id": "4c07KgkRG_-T",
        "outputId": "ffb7339c-4916-4806-dcb5-edb721c26853"
      },
      "execution_count": null,
      "outputs": [
        {
          "output_type": "stream",
          "name": "stdout",
          "text": [
            "100 -45 0\n"
          ]
        }
      ]
    },
    {
      "cell_type": "code",
      "source": [
        "#controlling print statement\n",
        "a,b,c,d=10,11,12,13;\n",
        "print(a,b,c,d,sep=\":\");\n",
        "print(a,b,c,d,sep=\";\");\n",
        "print(a,b,c,d);\n",
        "print(a,b,c,d,sep=\"----\");"
      ],
      "metadata": {
        "colab": {
          "base_uri": "https://localhost:8080/"
        },
        "id": "qvJ8epdeOTYm",
        "outputId": "e12cf271-57f6-4395-ab56-09c5052cacc9"
      },
      "execution_count": null,
      "outputs": [
        {
          "output_type": "stream",
          "name": "stdout",
          "text": [
            "10:11:12:13\n",
            "10;11;12;13\n",
            "10 11 12 13\n",
            "10----11----12----13\n"
          ]
        }
      ]
    },
    {
      "cell_type": "code",
      "source": [
        "#Program to find minimum of two numbers\n",
        "x,y=5,7;\n",
        "min=x if x<y else y;\n",
        "print(min);"
      ],
      "metadata": {
        "colab": {
          "base_uri": "https://localhost:8080/"
        },
        "id": "HbAtR1LCOzsb",
        "outputId": "a126dbe2-e4aa-44cd-89c1-a7d4521ae0a6"
      },
      "execution_count": null,
      "outputs": [
        {
          "output_type": "stream",
          "name": "stdout",
          "text": [
            "5\n"
          ]
        }
      ]
    },
    {
      "cell_type": "markdown",
      "source": [
        "#####**Type Conversion/Type Casting**"
      ],
      "metadata": {
        "id": "rRly-gWwpBmn"
      }
    },
    {
      "cell_type": "markdown",
      "source": [
        "Conversion of one data type to another.\n",
        "* In python,we make use of **input keyword** also. Input always take value in strings.\n",
        "\n",
        "\n",
        "\n"
      ],
      "metadata": {
        "id": "uMVWaI4LC_8U"
      }
    },
    {
      "cell_type": "code",
      "source": [
        "a=int(input(\"Enter value of a:\"))  #Here int is function\n",
        "print(\"a:\",a);\n",
        "print(type(a))   #Here type function will give us data type of a"
      ],
      "metadata": {
        "id": "wpxsjwLaEi52",
        "colab": {
          "base_uri": "https://localhost:8080/"
        },
        "outputId": "87010528-1858-47e4-e268-477bb8e3888f"
      },
      "execution_count": 42,
      "outputs": [
        {
          "output_type": "stream",
          "name": "stdout",
          "text": [
            "Enter value of a:2\n",
            "a: 2\n",
            "<class 'int'>\n"
          ]
        }
      ]
    },
    {
      "cell_type": "code",
      "source": [
        "#User input(first method)\n",
        "x=input(\"Enter first number:\");\n",
        "y=input(\"Enter second number:\");\n",
        "num1=int(x);\n",
        "num2=int(y);"
      ],
      "metadata": {
        "id": "VZa34TsFQokH"
      },
      "execution_count": null,
      "outputs": []
    },
    {
      "cell_type": "code",
      "source": [
        "#User input(second method)\n",
        "x=int(input(\"Enter first number:\"));\n",
        "y=int(input(\"Enter second number:\"));"
      ],
      "metadata": {
        "id": "rPZyC40bRU_0"
      },
      "execution_count": null,
      "outputs": []
    },
    {
      "cell_type": "markdown",
      "source": [
        "#####**Eval Function**"
      ],
      "metadata": {
        "id": "DPy0q-VWpIrM"
      }
    },
    {
      "cell_type": "markdown",
      "source": [
        "It evaluates the value of string.The three different examples for it are given below:"
      ],
      "metadata": {
        "id": "G9UeYoIcRugu"
      }
    },
    {
      "cell_type": "code",
      "source": [
        "a=eval(input(\"Enter first number:\"));\n",
        "b=eval(input(\"Enter second number:\"));\n",
        "av=(a+b)/2;\n",
        "print(\"average is:\",av);"
      ],
      "metadata": {
        "id": "vcHomaJYY4n3"
      },
      "execution_count": null,
      "outputs": []
    },
    {
      "cell_type": "code",
      "source": [
        "a=eval(input(\"Please enter an expression:\"));\n",
        "print(a);"
      ],
      "metadata": {
        "id": "LKrBZ752mDqr"
      },
      "execution_count": null,
      "outputs": []
    },
    {
      "cell_type": "code",
      "source": [
        "y1,y2=eval(input(\"Please enter y1,y2:\"));\n",
        "print('y1','y2',y1+y2);"
      ],
      "metadata": {
        "id": "rdf8YdHkmS9O"
      },
      "execution_count": null,
      "outputs": []
    },
    {
      "cell_type": "markdown",
      "source": [
        "#####**Operators**"
      ],
      "metadata": {
        "id": "ZkC7ImTYpPGa"
      }
    },
    {
      "cell_type": "markdown",
      "source": [
        "There are three types of operators as follows:\n",
        "1.   **Unary Operator**:-(One operand)\n",
        "1.   **Binary Operator**:-(Two operands)\n",
        "2.   **Ternary Operator**:-(Three operands)\n",
        "\n",
        "Example:-**a+b**,here **+** is operator and **a and b** are operands.\n"
      ],
      "metadata": {
        "id": "ZGE1_5nhm0lj"
      }
    },
    {
      "cell_type": "markdown",
      "source": [
        "**Programs related to operators:-**"
      ],
      "metadata": {
        "id": "T3Uzj1Fz1kRN"
      }
    },
    {
      "cell_type": "code",
      "source": [
        "#Program to find bigger number\n",
        "x1=int(input(\"Enter first number:\"));\n",
        "y1=int(input(\"Enter second number:\"));\n",
        "if x1>y1:\n",
        "  print(\"x1 is greater\",x1);\n",
        "  print(\"hello\");\n",
        "else:\n",
        "  print(\"y1 is greater\",y1);\n",
        "print(\"bye\");"
      ],
      "metadata": {
        "id": "D5xOv_AVmy59"
      },
      "execution_count": null,
      "outputs": []
    },
    {
      "cell_type": "code",
      "source": [
        "#Logical operators\n",
        "a=True;\n",
        "b=False;\n",
        "print(a and b);\n",
        "print(a or b);\n",
        "print(not b);"
      ],
      "metadata": {
        "id": "jdtsUZjtowqJ"
      },
      "execution_count": null,
      "outputs": []
    },
    {
      "cell_type": "code",
      "source": [
        "#Program to find bigger out of three numbers\n",
        "x=int(input(\"Enter first number:\"));\n",
        "y=int(input(\"Enter second number:\"));\n",
        "z=int(input(\"Enter third number:\"));\n",
        "if(x>y and x>z):\n",
        "  print(\"x is bigger\",x);\n",
        "else:\n",
        "  if(y>z):\n",
        "    print(\"y is bigger\",y);\n",
        "  else:\n",
        "    print(\"z is bigger\",z);"
      ],
      "metadata": {
        "id": "3x4197xV2FEG"
      },
      "execution_count": null,
      "outputs": []
    },
    {
      "cell_type": "code",
      "source": [
        "#WAP to check whether a number is +ve,-ve or zero\n",
        "num=float(input(\"Enter the number:\"));\n",
        "if(num<0):\n",
        "  print(\"Given number is negative\");\n",
        "elif(num>0):\n",
        "  print(\"Given number is positive\");\n",
        "else:\n",
        "  print(\"Given number is zero\");    "
      ],
      "metadata": {
        "id": "HPcsB4zd3WMy"
      },
      "execution_count": null,
      "outputs": []
    },
    {
      "cell_type": "markdown",
      "source": [
        "#####**Loops** "
      ],
      "metadata": {
        "id": "hmYBP_IVpZsm"
      }
    },
    {
      "cell_type": "markdown",
      "source": [
        "Loops are used for iterating over a sequence.\n",
        "*   While loop\n",
        "*   For loop\n",
        "\n",
        "\n",
        "\n",
        "\n",
        "\n"
      ],
      "metadata": {
        "id": "3rFFhZDR6GER"
      }
    },
    {
      "cell_type": "markdown",
      "source": [
        "######**While Loop**\n",
        "\n",
        "\n",
        "\n"
      ],
      "metadata": {
        "id": "1pgDyneb7KwD"
      }
    },
    {
      "cell_type": "code",
      "source": [
        "#Syntax of while loop:-\n",
        "     #while(condt):\n",
        "      #<body>\n",
        "      #statement"
      ],
      "metadata": {
        "id": "rQjTZuEy7GB1"
      },
      "execution_count": null,
      "outputs": []
    },
    {
      "cell_type": "code",
      "source": [
        "i=1\n",
        "while(i<=5):\n",
        "  print(i);\n",
        "  print(\"done\");\n",
        "  i=i+1;\n",
        "print(\"ok\");  "
      ],
      "metadata": {
        "id": "3I7nqQHr7GFb"
      },
      "execution_count": null,
      "outputs": []
    },
    {
      "cell_type": "code",
      "source": [
        "#Program to input name and print 5 times\n",
        "i=1;\n",
        "aa=input(\"Enter name:\");\n",
        "while(i<=5):\n",
        "  print(aa);\n",
        "  i=i+1;"
      ],
      "metadata": {
        "id": "KQiPx7iF8Wvq"
      },
      "execution_count": null,
      "outputs": []
    },
    {
      "cell_type": "code",
      "source": [
        "#Program to input five numbers and find sum\n",
        "i=0;\n",
        "s=0;\n",
        "while(i<5):\n",
        "  x=int(input(\"Enter number:\"));\n",
        "  s=s+x;\n",
        "  i=i+1;\n",
        "print(\"Sum is\",s);  "
      ],
      "metadata": {
        "id": "eMAF7-CI9G7I"
      },
      "execution_count": null,
      "outputs": []
    },
    {
      "cell_type": "code",
      "source": [
        "#WAP to find factorial of a number\n",
        "f=1;\n",
        "num=int(input(\"Enter the number:\"));\n",
        "while(num>1):\n",
        "  f=f*num;\n",
        "  num=num-1;\n",
        "print(\"Factorial of a number is\",f);"
      ],
      "metadata": {
        "id": "VjGswRi1B5V8"
      },
      "execution_count": null,
      "outputs": []
    },
    {
      "cell_type": "code",
      "source": [
        "#Program to print even numbers till 20\n",
        "n=0;\n",
        "while(n<=20):\n",
        "  print(n);\n",
        "  n=n+2;\n",
        "print(\"done\");"
      ],
      "metadata": {
        "id": "ztEnGrDnCpJ5"
      },
      "execution_count": null,
      "outputs": []
    },
    {
      "cell_type": "code",
      "source": [
        "#Program to find sum of odd numbers till 20\n",
        "i=1;\n",
        "s=0;\n",
        "while(i<=20):\n",
        "  s=s+i;\n",
        "  i=i+2;\n",
        "print(\"Sum of odd numbers till 20 is\",s); "
      ],
      "metadata": {
        "id": "pRJliO_5DTcz"
      },
      "execution_count": null,
      "outputs": []
    },
    {
      "cell_type": "markdown",
      "source": [
        "######**For Loop**"
      ],
      "metadata": {
        "id": "-pTg9hx5zJt3"
      }
    },
    {
      "cell_type": "code",
      "source": [
        "#print first five integers using for loop\n",
        "for i in range(1,6):\n",
        "  print(i,end=\" \");"
      ],
      "metadata": {
        "id": "oJuMl-i5zJAa"
      },
      "execution_count": null,
      "outputs": []
    },
    {
      "cell_type": "code",
      "source": [
        "#print multiples of 5 till 50 using for loop\n",
        "for i in range(1,51):\n",
        "  if(i%5==0):\n",
        "    print(i,end=\" \");"
      ],
      "metadata": {
        "id": "kO1uQUC61EeJ"
      },
      "execution_count": null,
      "outputs": []
    },
    {
      "cell_type": "code",
      "source": [
        "#program to print three names\n",
        "for i in range(1,4):\n",
        "  n=input(\"Enter a name:\");\n",
        "  print(\"Welcome\",n);"
      ],
      "metadata": {
        "id": "gmUmv9061zhu"
      },
      "execution_count": null,
      "outputs": []
    },
    {
      "cell_type": "markdown",
      "source": [
        "###### **Nested For Loop**"
      ],
      "metadata": {
        "id": "QCSX-chA0oh4"
      }
    },
    {
      "cell_type": "code",
      "source": [
        "#WAP to print pattern // nested for\n",
        "for i in range(1,6):\n",
        "  for j in range(1,4):\n",
        "    print(i,end=\"\");\n",
        "  print(\"\\n\")    "
      ],
      "metadata": {
        "id": "MqT5vdn38wU9"
      },
      "execution_count": null,
      "outputs": []
    },
    {
      "cell_type": "code",
      "source": [
        "#WAP to print pattern // nested for\n",
        "for i in range(1,5):\n",
        "  for j in range(1,i+1):\n",
        "    print(j,end='');\n",
        "  print(\"\\n\")  "
      ],
      "metadata": {
        "id": "V5yTzsym9Qlt"
      },
      "execution_count": null,
      "outputs": []
    },
    {
      "cell_type": "code",
      "source": [
        "#WAP to print pattern // nested for\n",
        "for i in range(6,0,-1):\n",
        "  for j in range(1,i+1):\n",
        "    print(j,end=\"\");\n",
        "  print(\" \");  "
      ],
      "metadata": {
        "id": "9NrydVeT-yXG"
      },
      "execution_count": null,
      "outputs": []
    },
    {
      "cell_type": "markdown",
      "source": [
        "##### **Break Statement**"
      ],
      "metadata": {
        "id": "qKFRCT97p_3A"
      }
    },
    {
      "cell_type": "markdown",
      "source": [
        "Break can be used to unconditionally jump out of loop.It terminates execution of the loop."
      ],
      "metadata": {
        "id": "v0Z8ej3z14Kf"
      }
    },
    {
      "cell_type": "code",
      "source": [
        "#use of break\n",
        "for i in range(1,5,1):\n",
        "  if i==3:\n",
        "    break;\n",
        "  else:\n",
        "    print(i);\n",
        "print(\"out of loop\");      "
      ],
      "metadata": {
        "id": "w8fVubtP1bpO"
      },
      "execution_count": null,
      "outputs": []
    },
    {
      "cell_type": "code",
      "source": [
        "for ch in \"COMPUTER\":\n",
        "  if ch==\"T\":\n",
        "    break;\n",
        "  print(ch);    "
      ],
      "metadata": {
        "id": "lsyy3uszujfT"
      },
      "execution_count": null,
      "outputs": []
    },
    {
      "cell_type": "code",
      "source": [
        "#break in while loop\n",
        "i=0;\n",
        "while(i<10):\n",
        "  if i==7:\n",
        "    break;\n",
        "  else:\n",
        "    print(i);\n",
        "  i=i+1;    "
      ],
      "metadata": {
        "id": "2PuqODnnud_3"
      },
      "execution_count": null,
      "outputs": []
    },
    {
      "cell_type": "markdown",
      "source": [
        "#####**Continue Statement**"
      ],
      "metadata": {
        "id": "FvJOkNNJqINx"
      }
    },
    {
      "cell_type": "markdown",
      "source": [
        "Continue statement is used to move to next iteration of the loop.Continue will return back the control to the start of the loop.\n"
      ],
      "metadata": {
        "id": "KwrrnqyM4Xhl"
      }
    },
    {
      "cell_type": "code",
      "source": [
        "#use of continue\n",
        "for i in range(1,5,1):\n",
        "  if i==3:\n",
        "    continue;\n",
        "  else:\n",
        "    print(i);\n",
        "print(\"out of loop\");      "
      ],
      "metadata": {
        "id": "5q3j29kX5IFR"
      },
      "execution_count": null,
      "outputs": []
    },
    {
      "cell_type": "code",
      "source": [
        "#continue in while loop\n",
        "i=0;\n",
        "while i<9:\n",
        "  i=i+1;\n",
        "  if i==5:\n",
        "    continue;\n",
        "  elif i==6:\n",
        "    continue;\n",
        "  else:\n",
        "    print(i);    "
      ],
      "metadata": {
        "id": "Nix_ldBu7PPN"
      },
      "execution_count": null,
      "outputs": []
    },
    {
      "cell_type": "markdown",
      "source": [
        "##### **Programs related to numbers**"
      ],
      "metadata": {
        "id": "DvXQXRqstWjr"
      }
    },
    {
      "cell_type": "code",
      "source": [
        "#WAP to find all arithmetic operations\n",
        "num1=int(input(\"Enter first number:\"))\n",
        "num2=int(input(\"Enter second number:\"))\n",
        "sum=num1+num2;\n",
        "prod=num1*num2;\n",
        "div=num1/num2;\n",
        "sub=num1-num2;\n",
        "remainder=num1%num2;\n",
        "print(\"Sum of these numbers is\",sum);\n",
        "print(\"Product of these numbers is\",prod);\n",
        "print(\"Division of these numbers will give\",div);\n",
        "print(\"Subtraction of these numbers will give\",sub);\n",
        "print(\"Remainder on dividing these two numbers is\",remainder);"
      ],
      "metadata": {
        "id": "FUG7Ai-7MOx4"
      },
      "execution_count": null,
      "outputs": []
    },
    {
      "cell_type": "code",
      "source": [
        "#WAP to swap two numbers\n",
        "num1=int(input(\"Enter first number:\"));\n",
        "num2=int(input(\"Enter second number:\"));\n",
        "print(\"Numbers before swapping are:\",num1,num2);\n",
        "temp=num1;\n",
        "num1=num2;\n",
        "num2=temp;\n",
        "print(\"Numbers after swapping:\",num1,num2);\n"
      ],
      "metadata": {
        "id": "NhwQ46-jiXUi"
      },
      "execution_count": null,
      "outputs": []
    },
    {
      "cell_type": "code",
      "source": [
        "#WAP to calculate simple interest\n",
        "principal=float(input(\"Enter the value of principal:\"));\n",
        "rate=float(input(\"Enter the interest rate:\"));\n",
        "time=float(input(\"Enter the time period:\"));\n",
        "Simple_Int=(principal*rate*time)/100;\n",
        "print(\"Simple interest will be:\",Simple_Int);"
      ],
      "metadata": {
        "id": "S82UlEJwkWy6"
      },
      "execution_count": null,
      "outputs": []
    },
    {
      "cell_type": "code",
      "source": [
        "#WAP to find net salary,input BP,HRA is 20% of BP,DA is 90% of BP,PF is 10% of BP,NP=BP+HRA+DA-PF\n",
        "bp=float(input(\"Enter the basic pay of employee:\"))\n",
        "hra=bp*20/100;\n",
        "da=bp*90/100;\n",
        "pf=bp*10/100;\n",
        "ns=bp+hra+da-pf;\n",
        "print(\"HRA will be:\",hra);\n",
        "print(\"DA will be:\",da);\n",
        "print(\"PF will be:\",pf);\n",
        "print(\"Hence the net salary will be:\",ns);"
      ],
      "metadata": {
        "id": "ByI4mbsoBghs"
      },
      "execution_count": null,
      "outputs": []
    },
    {
      "cell_type": "code",
      "source": [
        "#WAP to enter selling price and then enter the discount and show the discounted price\n",
        "sp=float(input(\"Enter the selling price:\"));\n",
        "dis=float(input(\"Enter the discount %:\"));\n",
        "amount=sp*dis/100;\n",
        "dp=sp-amount;\n",
        "print(\"The discounted price will be:\",dp);"
      ],
      "metadata": {
        "id": "JNAXb1QmD_Jj"
      },
      "execution_count": null,
      "outputs": []
    },
    {
      "cell_type": "code",
      "source": [
        "#WAP to display menu of choice and find sum or product.\n",
        "choice=int(input(\"Enter your choice:\"));\n",
        "a=int(input(\"Enter first number:\"));\n",
        "b=int(input(\"Enter second number:\"));\n",
        "if(choice==1):\n",
        "  s=a+b;\n",
        "  print(\"Sum of the numbers is\",s);\n",
        "else:\n",
        "  p=a*b;\n",
        "  print(\"Product of the numbers is\",p);"
      ],
      "metadata": {
        "id": "I8TXD6FXv2tW"
      },
      "execution_count": null,
      "outputs": []
    },
    {
      "cell_type": "code",
      "source": [
        "#Program to print the sum of reciprocals of first 100 natural numbers\n",
        "sum=0;\n",
        "for i in range(1,101):\n",
        "  sum=sum+1/i;\n",
        "print(\"Sum of reciprocals of first 100 natural numbers is\",sum);"
      ],
      "metadata": {
        "id": "uilA-FUktljp"
      },
      "execution_count": null,
      "outputs": []
    },
    {
      "cell_type": "code",
      "source": [
        "#Program to assign grades to students.Input three subjects marks out of 100 and assign A grade to more than 80%,B grade 60%,C grade 40%,otherwise fail\n",
        "eng=float(input(\"Enter the marks in english:\"));\n",
        "sci=float(input(\"Enter the marks in science:\"));\n",
        "math=float(input(\"Enter the marks in math:\"));\n",
        "total=eng+sci+math;\n",
        "print(\"Total marks obtained out of 300 is\",total);\n",
        "per=(total/300)*100;\n",
        "print(\"Marks Percentage is\",per);\n",
        "if(per>80):\n",
        "  print(\"Grade assigned: A\");\n",
        "elif(per>60 and per<80):\n",
        "  print(\"Grade assigned: B\");\n",
        "elif(per>40 and per<60):\n",
        "  print(\"Grade assigned: C\");\n",
        "else:\n",
        "  print(\"Fail\");"
      ],
      "metadata": {
        "id": "Hf2QgMF9wKo9"
      },
      "execution_count": null,
      "outputs": []
    },
    {
      "cell_type": "code",
      "source": [
        "#Write a program to find whether a number is prime or not\n",
        "num=int(input(\"Enter the number:\"));\n",
        "if num>1:\n",
        "  for i in range(2,num):\n",
        "    if num%i==0:\n",
        "      print(num,\"is not a prime number\")\n",
        "      break;\n",
        "  else:\n",
        "      print(num,\"is a prime number\")\n",
        "else:\n",
        "    print(num,\"is not a prime number\")"
      ],
      "metadata": {
        "id": "yhi50ced7yWy"
      },
      "execution_count": null,
      "outputs": []
    },
    {
      "cell_type": "code",
      "source": [
        "#Program to print factorial of a number\n",
        "f=1;\n",
        "num=int(input(\"Enter a number:\"));\n",
        "for i in range(1,num+1):\n",
        "  f=f*i;\n",
        "print(\"Factorial of given number is\",f);"
      ],
      "metadata": {
        "id": "-D69RWFRus1Z"
      },
      "execution_count": null,
      "outputs": []
    },
    {
      "cell_type": "code",
      "source": [
        "#Program to find sum of even numbers and odd numbers till a given number\n",
        "i=0;\n",
        "num=int(input(\"Enter the number till you want to find sum of even and odd numbers:\"));\n",
        "even_total=0;\n",
        "odd_total=0;\n",
        "while(i<=num):\n",
        "  if(i%2==0):\n",
        "    even_total=even_total+i;\n",
        "  else:\n",
        "    odd_total=odd_total+i;\n",
        "  i=i+1;\n",
        "print(\"Sum of even numbers is\",even_total);\n",
        "print(\"Sum of odd numbers is\",odd_total); "
      ],
      "metadata": {
        "id": "ZbVPMQcAvPzz"
      },
      "execution_count": null,
      "outputs": []
    },
    {
      "cell_type": "code",
      "source": [
        "#Read five integer inputs from the user and print the sum of only positive inputs\n",
        "sum=0;\n",
        "for i in range(1,6):\n",
        "  num=int(input(\"Enter the number:\"));\n",
        "  if num>0:\n",
        "    sum=sum+num;\n",
        "print(\"Sum of only positive inputs is\",sum);3"
      ],
      "metadata": {
        "id": "iObXy_UctrUn"
      },
      "execution_count": null,
      "outputs": []
    },
    {
      "cell_type": "code",
      "source": [
        "#Program to find sum of digits till a number\n",
        "s=0;\n",
        "limit=int(input(\"Enter a limit number:\"));\n",
        "for i in range(1,limit+1,1):\n",
        "  s=s+i;\n",
        "print(\"Sum is\",s);"
      ],
      "metadata": {
        "id": "S6OuXFiSu03s"
      },
      "execution_count": null,
      "outputs": []
    },
    {
      "cell_type": "code",
      "source": [
        "#WAP to print prime numbers between two numbers such as between 7 to 50\n",
        "num1=int(input(\"Enter the starting number:\"));\n",
        "num2=int(input(\"Enter the ending number:\"));\n",
        "for num in range(num1,num2+1):\n",
        "  if num>1:\n",
        "    for i in range(2,num):\n",
        "      if num%i==0:\n",
        "        break;\n",
        "    else:\n",
        "        print(num,end=\" \");"
      ],
      "metadata": {
        "id": "nU_-aj162nIo"
      },
      "execution_count": null,
      "outputs": []
    },
    {
      "cell_type": "code",
      "source": [
        "#Program to read numbers from the user until user enters -1 and find the maximum\n",
        "num=int(input(\"Enter the number:\"));\n",
        "list=[];\n",
        "while(num!=-1):\n",
        "  list.append(num);\n",
        "  num=int(input(\"Enter next number:\"));\n",
        "print(\"So maximum number out of these is\",max(list));"
      ],
      "metadata": {
        "id": "oxbPE_oJvDDv"
      },
      "execution_count": null,
      "outputs": []
    },
    {
      "cell_type": "code",
      "source": [
        "#WAP to print tables from 2 to 5\n",
        "for i in range(2,6):\n",
        "  for j in range(1,11):\n",
        "    print(i,\"*\",j,\"=\",i*j,end=\"\\n\");\n",
        "  print(\" \")  "
      ],
      "metadata": {
        "id": "ra2U9Llt_lLt"
      },
      "execution_count": null,
      "outputs": []
    },
    {
      "cell_type": "code",
      "source": [
        "#WAP to find sum of digits of a number\n",
        "s=0;\n",
        "num=int(input(\"Enter a number:\"));\n",
        "while(num>0):\n",
        "  rem=num%10;\n",
        "  s=s+rem;\n",
        "  num=num//10;\n",
        "print(\"The sum of digits of number is\",s);"
      ],
      "metadata": {
        "id": "UNAOkr2pIEkB"
      },
      "execution_count": null,
      "outputs": []
    },
    {
      "cell_type": "markdown",
      "source": [
        "######**Armstrong number**"
      ],
      "metadata": {
        "id": "cCGdLE6WpkDC"
      }
    },
    {
      "cell_type": "markdown",
      "source": [
        "Armstrong number is a **n digit number**, which is equal to **sum of nth power of its digits**.For eg:-**153** where 153 = (1)³+(5)³+(3)³"
      ],
      "metadata": {
        "id": "8tUESLorLPHG"
      }
    },
    {
      "cell_type": "code",
      "source": [
        "#WAP to check whether a number is armstrong or not\n",
        "s=0;\n",
        "num=int(input(\"Enter the number:\"));\n",
        "temp=num;\n",
        "while(temp>0):\n",
        "  rem=temp%10;\n",
        "  s=s+rem*rem*rem;\n",
        "  temp=temp//10;\n",
        "if(num==s):\n",
        "  print(\"Given number is armstrong\");   \n",
        "else:\n",
        "  print(\"Given number is not armstrong\");"
      ],
      "metadata": {
        "id": "vgeCt70TJvbO"
      },
      "execution_count": null,
      "outputs": []
    },
    {
      "cell_type": "markdown",
      "source": [
        "######**Perfect Number**"
      ],
      "metadata": {
        "id": "tqtAe__6po3x"
      }
    },
    {
      "cell_type": "markdown",
      "source": [
        "If **sum of factors** of a number is equal to the number,then it is a perfect number.For eg:-**6**=1+2+3 ,  **28**=1+2+4+7+14"
      ],
      "metadata": {
        "id": "VpQIyXVLQAqN"
      }
    },
    {
      "cell_type": "code",
      "source": [
        "#WAP to determine whether number is perfect or not\n",
        "s=0;\n",
        "num=int(input(\"Enter a number:\"));\n",
        "i=1;\n",
        "while(i<num):\n",
        "  if(num%i==0):\n",
        "    s=s+i;\n",
        "  i=i+1;\n",
        "if(num==s):\n",
        "  print(\"Given number is perfect\");\n",
        "else:\n",
        "  print(\"Given number is not perfect\");    "
      ],
      "metadata": {
        "id": "A68wNjkPKbL0"
      },
      "execution_count": null,
      "outputs": []
    },
    {
      "cell_type": "code",
      "source": [
        "#WAP to determine whether a number is perfect or not with the help of for loop\n",
        "num=int(input(\"Enter the number:\"));\n",
        "s=0;\n",
        "for i in range(1,num):\n",
        "  if num%i==0:\n",
        "    s=s+i;\n",
        "if num==s:\n",
        "  print(\"Given number is perfect\");\n",
        "else:\n",
        "  print(\"Given number is not perfect\");"
      ],
      "metadata": {
        "id": "THv5IIDe6qG8"
      },
      "execution_count": null,
      "outputs": []
    },
    {
      "cell_type": "markdown",
      "source": [
        "###**Strings in Python**"
      ],
      "metadata": {
        "id": "DItI2xfkqTQE"
      }
    },
    {
      "cell_type": "markdown",
      "source": [
        "In python,consecutive sequence of characters is known as string. An individual character in a string is accessed using a subscript (index). The subscript should always be an integer(positive or negative). A subscript starts from 0.  "
      ],
      "metadata": {
        "id": "xY-mBnFYBA73"
      }
    },
    {
      "cell_type": "code",
      "source": [
        "#ways for writing string\n",
        "e=\"This is 'python' training\";\n",
        "f='This is \"python\" training';\n",
        "g=\"This is \\\"python\\\" training\";\n",
        "h='This is \\'python\\' training';\n",
        "e,f,g,h"
      ],
      "metadata": {
        "colab": {
          "base_uri": "https://localhost:8080/"
        },
        "id": "9J71ad3yB52m",
        "outputId": "c3ab58ea-37ea-4f53-cc19-c836171ab95f"
      },
      "execution_count": null,
      "outputs": [
        {
          "output_type": "execute_result",
          "data": {
            "text/plain": [
              "(\"This is 'python' training\",\n",
              " 'This is \"python\" training',\n",
              " 'This is \"python\" training',\n",
              " \"This is 'python' training\")"
            ]
          },
          "metadata": {},
          "execution_count": 18
        }
      ]
    },
    {
      "cell_type": "code",
      "source": [
        "#string:         P  Y  T  H  O  N\n",
        "#positive index: 0  1  2  3  4  5 \n",
        "#negative index:-6 -5 -4 -3 -2 -1"
      ],
      "metadata": {
        "id": "jdpFQw2cC5RI"
      },
      "execution_count": null,
      "outputs": []
    },
    {
      "cell_type": "code",
      "source": [
        "#index positive or negative\n",
        "st=\"Python\";\n",
        "print(st[1]);  #from left side\n",
        "print(st[-1]); #from right side\n",
        "print(st[0]);\n",
        "print(st[-3]);"
      ],
      "metadata": {
        "colab": {
          "base_uri": "https://localhost:8080/"
        },
        "id": "NYqdVqMvDw0y",
        "outputId": "0efa8bb8-c958-453d-c00f-450d96885445"
      },
      "execution_count": null,
      "outputs": [
        {
          "output_type": "stream",
          "name": "stdout",
          "text": [
            "y\n",
            "n\n",
            "P\n",
            "h\n"
          ]
        }
      ]
    },
    {
      "cell_type": "code",
      "source": [
        "#string traversing\n",
        "c=\"Chandigarh\";\n",
        "for i in c:\n",
        "  print(\"aa\",end=\" \")"
      ],
      "metadata": {
        "colab": {
          "base_uri": "https://localhost:8080/"
        },
        "id": "aavjkFWZETTY",
        "outputId": "82960f11-2959-4772-f53e-1e90300c8b31"
      },
      "execution_count": null,
      "outputs": [
        {
          "output_type": "stream",
          "name": "stdout",
          "text": [
            "aa aa aa aa aa aa aa aa aa aa "
          ]
        }
      ]
    },
    {
      "cell_type": "code",
      "source": [
        "#uppercase and lowercase characters\n",
        "ch=input(\"Enter the character:\");\n",
        "if(ch>=\"A\" and ch<=\"Z\"):           #Here we used double quotes\n",
        "  print(\"ch is uppercase character\",ch);\n",
        "elif(ch>='a' and ch<='z'):         #We can use single quotes also\n",
        "  print(\"ch is lowercase character\",ch);\n",
        "else:\n",
        "  print(\"ch is not a character\")  "
      ],
      "metadata": {
        "colab": {
          "base_uri": "https://localhost:8080/"
        },
        "id": "oQpUjKcK4Isw",
        "outputId": "438661c2-5f3e-468b-b957-b10762dec10e"
      },
      "execution_count": null,
      "outputs": [
        {
          "output_type": "stream",
          "name": "stdout",
          "text": [
            "Enter the character:D\n",
            "ch is uppercase character D\n"
          ]
        }
      ]
    },
    {
      "cell_type": "code",
      "source": [
        "#string operators\n",
        "#Concatenation (+)  \n",
        "'7'+'7'   \n",
        "#Membership (in/not in)\n",
        "#Comparison operator"
      ],
      "metadata": {
        "id": "tny4gWh-E6LC",
        "colab": {
          "base_uri": "https://localhost:8080/",
          "height": 36
        },
        "outputId": "ad2c012c-6e4c-4732-d100-254ef0d7b4f4"
      },
      "execution_count": null,
      "outputs": [
        {
          "output_type": "execute_result",
          "data": {
            "text/plain": [
              "'77'"
            ],
            "application/vnd.google.colaboratory.intrinsic+json": {
              "type": "string"
            }
          },
          "metadata": {},
          "execution_count": 3
        }
      ]
    },
    {
      "cell_type": "code",
      "source": [
        "#Replication (*) \n",
        "\"$\"*5"
      ],
      "metadata": {
        "colab": {
          "base_uri": "https://localhost:8080/",
          "height": 36
        },
        "id": "YHIMgOHm2uuO",
        "outputId": "6b22604a-0dc9-42ef-df8d-6eada40ae223"
      },
      "execution_count": null,
      "outputs": [
        {
          "output_type": "execute_result",
          "data": {
            "text/plain": [
              "'$$$$$'"
            ],
            "application/vnd.google.colaboratory.intrinsic+json": {
              "type": "string"
            }
          },
          "metadata": {},
          "execution_count": 2
        }
      ]
    },
    {
      "cell_type": "code",
      "source": [
        "str=\"NIELIT Is IN CHD\";\n",
        "#a=\"NI\" in str;\n",
        "a=\"IS\" in str;\n",
        "#a=\"IN\" in str;\n",
        "print(a);"
      ],
      "metadata": {
        "colab": {
          "base_uri": "https://localhost:8080/"
        },
        "id": "uZTktI1V1-4R",
        "outputId": "5426aaa0-b2d8-4473-baea-0b36777c57f6"
      },
      "execution_count": null,
      "outputs": [
        {
          "output_type": "stream",
          "name": "stdout",
          "text": [
            "False\n"
          ]
        }
      ]
    },
    {
      "cell_type": "code",
      "source": [
        "str=\"NIELIT Is IN CHD\";\n",
        "#a=\"NI\" not in str;\n",
        "a=\"IS\" not in str;\n",
        "#a=\"IN\" not in str;\n",
        "print(a);"
      ],
      "metadata": {
        "colab": {
          "base_uri": "https://localhost:8080/"
        },
        "id": "-Zg1rqOT3Pwt",
        "outputId": "82ab3dd4-b4dd-444a-ed3d-11d6f52977e8"
      },
      "execution_count": null,
      "outputs": [
        {
          "output_type": "stream",
          "name": "stdout",
          "text": [
            "True\n"
          ]
        }
      ]
    },
    {
      "cell_type": "code",
      "source": [
        "#String slicing\n",
        "str=\"PORTION\";\n",
        "print(\"Characters from 1 to 3\",str[1:3])\n",
        "print(\"Characters from 2 to end\",str[2:])\n",
        "print(\"Characters from 1 to -1\",str[1:-1])\n",
        "print(\"Characters from 0 to -1\",str[:-1])\n",
        "print(\"Characters from -7 to -1\",str[-7:-1])\n",
        "print(\"Characters till end\",str[:])"
      ],
      "metadata": {
        "colab": {
          "base_uri": "https://localhost:8080/"
        },
        "id": "GeY0JIGf4V2j",
        "outputId": "50240e3d-fd9a-4be9-854c-8ae69b7a20d9"
      },
      "execution_count": null,
      "outputs": [
        {
          "output_type": "stream",
          "name": "stdout",
          "text": [
            "Characters from 1 to 3 OR\n",
            "Characters from 2 to end RTION\n",
            "Characters from 1 to -1 ORTIO\n",
            "Characters from 0 to -1 PORTIO\n",
            "Characters from -7 to -1 PORTIO\n",
            "Characters till end PORTION\n"
          ]
        }
      ]
    },
    {
      "cell_type": "code",
      "source": [
        "for i in 'Hello':\n",
        "  print(i);"
      ],
      "metadata": {
        "colab": {
          "base_uri": "https://localhost:8080/"
        },
        "id": "nqQl2-9h54jx",
        "outputId": "011f52e4-6eba-44c1-a46c-913708c7d71e"
      },
      "execution_count": null,
      "outputs": [
        {
          "output_type": "stream",
          "name": "stdout",
          "text": [
            "H\n",
            "e\n",
            "l\n",
            "l\n",
            "o\n"
          ]
        }
      ]
    },
    {
      "cell_type": "code",
      "source": [
        "x=\"Hello\";\n",
        "for i in x:\n",
        "  print(i);"
      ],
      "metadata": {
        "colab": {
          "base_uri": "https://localhost:8080/"
        },
        "id": "tl_nOUI158j7",
        "outputId": "c3be94ab-b699-4a09-b9bd-ee2b9f59dca6"
      },
      "execution_count": null,
      "outputs": [
        {
          "output_type": "stream",
          "name": "stdout",
          "text": [
            "H\n",
            "e\n",
            "l\n",
            "l\n",
            "o\n"
          ]
        }
      ]
    },
    {
      "cell_type": "code",
      "source": [
        "name=\"Python Programming\";\n",
        "name[-12:1:-1]"
      ],
      "metadata": {
        "colab": {
          "base_uri": "https://localhost:8080/",
          "height": 36
        },
        "id": "mU0PJbyl6Erp",
        "outputId": "24e9e6a8-39ae-4c23-802d-4d5ca4b96acd"
      },
      "execution_count": null,
      "outputs": [
        {
          "output_type": "execute_result",
          "data": {
            "text/plain": [
              "' noht'"
            ],
            "application/vnd.google.colaboratory.intrinsic+json": {
              "type": "string"
            }
          },
          "metadata": {},
          "execution_count": 10
        }
      ]
    },
    {
      "cell_type": "code",
      "source": [
        "s='Python Training';\n",
        "for i in s:\n",
        "  #print(i,'welcome');\n",
        "  print(i+' welcome');"
      ],
      "metadata": {
        "colab": {
          "base_uri": "https://localhost:8080/"
        },
        "id": "bb8KKfsg6o5b",
        "outputId": "8fdf6442-f998-45a4-d003-a1d229731a1a"
      },
      "execution_count": null,
      "outputs": [
        {
          "output_type": "stream",
          "name": "stdout",
          "text": [
            "P welcome\n",
            "y welcome\n",
            "t welcome\n",
            "h welcome\n",
            "o welcome\n",
            "n welcome\n",
            "  welcome\n",
            "T welcome\n",
            "r welcome\n",
            "a welcome\n",
            "i welcome\n",
            "n welcome\n",
            "i welcome\n",
            "n welcome\n",
            "g welcome\n"
          ]
        }
      ]
    },
    {
      "cell_type": "markdown",
      "source": [
        "##### **String Functions**"
      ],
      "metadata": {
        "id": "0uAJko3Mr1mc"
      }
    },
    {
      "cell_type": "code",
      "source": [
        "#String Functions\n",
        "a=len(\"NIELIT\");\n",
        "print(a);\n",
        "print(len(\"RCC\"));"
      ],
      "metadata": {
        "colab": {
          "base_uri": "https://localhost:8080/"
        },
        "id": "Gwv9-dyt7FmU",
        "outputId": "b5e82c03-5c31-4501-d9be-cd620196e8a4"
      },
      "execution_count": null,
      "outputs": [
        {
          "output_type": "stream",
          "name": "stdout",
          "text": [
            "6\n",
            "3\n"
          ]
        }
      ]
    },
    {
      "cell_type": "code",
      "source": [
        "#ord() function returns the numeric value of char\n",
        "#chr() function returns character corresponding to ascii code\n",
        "a=ord('A');\n",
        "b=ord(\"Z\");\n",
        "print(a);\n",
        "print(b);\n",
        "x=chr(97);\n",
        "y=chr(112);\n",
        "print(x);\n",
        "print(y);"
      ],
      "metadata": {
        "colab": {
          "base_uri": "https://localhost:8080/"
        },
        "id": "9EGO2_813cAd",
        "outputId": "d7da0acd-6b3b-45a5-c9cf-456d7dc8301a"
      },
      "execution_count": null,
      "outputs": [
        {
          "output_type": "stream",
          "name": "stdout",
          "text": [
            "65\n",
            "90\n",
            "a\n",
            "p\n"
          ]
        }
      ]
    },
    {
      "cell_type": "code",
      "source": [
        "str=\"chandigarh\";\n",
        "print(str.capitalize());\n",
        "print(str.upper());\n",
        "print(\"rcc\".upper());\n",
        "print(\"NIELIT\".lower());\n",
        "print(str.isupper());\n",
        "print(str.islower());\n",
        "print(str.isalpha());\n",
        "print(str.isdigit());\n",
        "print(str.isalnum());   #returns true if the string is alphabet or numeric (special characters are not allowed)\n",
        "print(\"1234\".isalnum());\n",
        "print(\"Rcc@123\".isalnum());"
      ],
      "metadata": {
        "colab": {
          "base_uri": "https://localhost:8080/"
        },
        "id": "IM5yq13E7QoU",
        "outputId": "222c91da-efde-4844-817b-e1e24e6b03cf"
      },
      "execution_count": null,
      "outputs": [
        {
          "output_type": "stream",
          "name": "stdout",
          "text": [
            "Chandigarh\n",
            "CHANDIGARH\n",
            "RCC\n",
            "nielit\n",
            "False\n",
            "True\n",
            "True\n",
            "False\n",
            "True\n",
            "True\n",
            "False\n"
          ]
        }
      ]
    },
    {
      "cell_type": "code",
      "source": [
        "title=\"Python Programming Is Fun.\"\n",
        "print(title.casefold());   #convert the string to lowercase\n",
        "print(title.count('m'));   #count how many times a letter occurs in a string\n",
        "print(title.find('I'));    #get the position of character in a string\n",
        "print(title.find('C'));    #if we pass a character that is not present in string\n",
        "print(title.endswith('Fun'));  #check if string ends with a specified value"
      ],
      "metadata": {
        "colab": {
          "base_uri": "https://localhost:8080/"
        },
        "id": "ni4_ExV08aPE",
        "outputId": "0bfeaeae-3e89-436f-a1d0-bb9e26104fa9"
      },
      "execution_count": null,
      "outputs": [
        {
          "output_type": "stream",
          "name": "stdout",
          "text": [
            "python programming is fun.\n",
            "2\n",
            "19\n",
            "-1\n",
            "False\n"
          ]
        }
      ]
    },
    {
      "cell_type": "code",
      "source": [
        "str=\"  R  C C \";\n",
        "print(\"Original length:\",len(str));\n",
        "s1=str.lstrip();                  #lstrip function delete all the leading characters(from left side)\n",
        "print(\"Length after left strip:\",len(s1));\n",
        "s2=str.rstrip();                  #rstrip function delete all the trailing characters(from right side)\n",
        "print(\"Length after right strip:\",len(s2));"
      ],
      "metadata": {
        "colab": {
          "base_uri": "https://localhost:8080/"
        },
        "id": "Za0pETlG-Tol",
        "outputId": "d115a3ea-1af0-4f2b-b71f-7aacc5b3c613"
      },
      "execution_count": null,
      "outputs": [
        {
          "output_type": "stream",
          "name": "stdout",
          "text": [
            "Original length: 9\n",
            "Length after left strip: 7\n",
            "Length after right strip: 8\n"
          ]
        }
      ]
    },
    {
      "cell_type": "code",
      "source": [
        "print(\" \".isspace());        #check if all the characters in the string are whitespace characters\n",
        "print(\"This Is Rcc\".istitle());   #returns true if the string is titlecased string otherwise returns false"
      ],
      "metadata": {
        "colab": {
          "base_uri": "https://localhost:8080/"
        },
        "id": "fvQ6QTcD_DE0",
        "outputId": "c1c2307b-d400-4153-c644-8b15f6c4ed7f"
      },
      "execution_count": null,
      "outputs": [
        {
          "output_type": "stream",
          "name": "stdout",
          "text": [
            "True\n",
            "True\n"
          ]
        }
      ]
    },
    {
      "cell_type": "code",
      "source": [
        "#replace(old,new)\n",
        "str=\"NIELIT Chandigarh prior name was DOEACC Chandigarh\";\n",
        "print(str.replace(\"DOEACC\",\"RCC\"));"
      ],
      "metadata": {
        "colab": {
          "base_uri": "https://localhost:8080/"
        },
        "id": "V2w_LvfpBeq1",
        "outputId": "3a9d6445-d6e1-4cba-a6c1-273162a32df7"
      },
      "execution_count": null,
      "outputs": [
        {
          "output_type": "stream",
          "name": "stdout",
          "text": [
            "NIELIT Chandigarh prior name was RCC Chandigarh\n"
          ]
        }
      ]
    },
    {
      "cell_type": "code",
      "source": [
        "#string join\n",
        "str1=\"CHD \";\n",
        "str2=\"Chandigarh\";\n",
        "str3=(\"Nielit\",\"Ropar\");\n",
        "str4=' At ';\n",
        "print(str1+str2);\n",
        "print(str4.join(str3));"
      ],
      "metadata": {
        "colab": {
          "base_uri": "https://localhost:8080/"
        },
        "id": "G394KsI-CG8M",
        "outputId": "018e5823-5682-4090-a49d-55990281e713"
      },
      "execution_count": null,
      "outputs": [
        {
          "output_type": "stream",
          "name": "stdout",
          "text": [
            "CHD Chandigarh\n",
            "Nielit At Ropar\n"
          ]
        }
      ]
    },
    {
      "cell_type": "code",
      "source": [
        "#swapcase\n",
        "str=\"COMPUTER\";\n",
        "print(str.swapcase());"
      ],
      "metadata": {
        "colab": {
          "base_uri": "https://localhost:8080/"
        },
        "id": "jZVPEcpUFyTs",
        "outputId": "6032211b-a73c-47a1-cabc-273ef5ac8397"
      },
      "execution_count": null,
      "outputs": [
        {
          "output_type": "stream",
          "name": "stdout",
          "text": [
            "computer\n"
          ]
        }
      ]
    },
    {
      "cell_type": "code",
      "source": [
        "#partition() function takes a separator as the argument that separates the string at its first occurence\n",
        "str=\"The Golden Star\";\n",
        "print(str.partition('Gold'));\n",
        "print(str.partition('e'));\n",
        "print(str.partition('a'));\n",
        "print(str.partition(' '));\n",
        "print(str.partition('r'));"
      ],
      "metadata": {
        "colab": {
          "base_uri": "https://localhost:8080/"
        },
        "id": "XU2Zc1fUO3gm",
        "outputId": "28493f40-973c-4444-8937-f8f79ac3a7b0"
      },
      "execution_count": null,
      "outputs": [
        {
          "output_type": "stream",
          "name": "stdout",
          "text": [
            "('The ', 'Gold', 'en Star')\n",
            "('Th', 'e', ' Golden Star')\n",
            "('The Golden St', 'a', 'r')\n",
            "('The', ' ', 'Golden Star')\n",
            "('The Golden Sta', 'r', '')\n"
          ]
        }
      ]
    },
    {
      "cell_type": "code",
      "source": [
        "#split() function splits the string in list of words\n",
        "s1=\"Try Try again until you succeed\";\n",
        "print(s1.split());"
      ],
      "metadata": {
        "colab": {
          "base_uri": "https://localhost:8080/"
        },
        "id": "INY0kX0CReDW",
        "outputId": "8e524736-ae24-4534-ad26-d1bdeb1a5dbf"
      },
      "execution_count": null,
      "outputs": [
        {
          "output_type": "stream",
          "name": "stdout",
          "text": [
            "['Try', 'Try', 'again', 'until', 'you', 'succeed']\n"
          ]
        }
      ]
    },
    {
      "cell_type": "code",
      "source": [
        "#str() function converts integer to string"
      ],
      "metadata": {
        "id": "5rj0hbMXRwyx"
      },
      "execution_count": null,
      "outputs": []
    },
    {
      "cell_type": "markdown",
      "source": [
        "##### **Programs related to strings**"
      ],
      "metadata": {
        "id": "8O-xMyU4r_H7"
      }
    },
    {
      "cell_type": "code",
      "source": [
        "#Program to find length of string\n",
        "x=input(\"Enter any string:\");\n",
        "l=len(x);\n",
        "print(\"Length of the string is\",l);"
      ],
      "metadata": {
        "colab": {
          "base_uri": "https://localhost:8080/"
        },
        "id": "Cp-cCqAgt4Tz",
        "outputId": "8b745673-6be0-47c3-8b9e-8f02c5c41287"
      },
      "execution_count": null,
      "outputs": [
        {
          "output_type": "stream",
          "name": "stdout",
          "text": [
            "Enter any string:Jashandeep\n",
            "Length of the string is 10\n"
          ]
        }
      ]
    },
    {
      "cell_type": "code",
      "source": [
        "#Program to replace a character in a string with symbol\n",
        "str1=input(\"Enter the string:\");\n",
        "chr=input(\"Enter the character you want to replace:\");\n",
        "sym=input(\"Enter the symbol with which you want to replace the character:\");\n",
        "str2=str1.replace(chr,sym);\n",
        "print(\"Original string was\",str1);\n",
        "print(\"Modified string is\",str2);"
      ],
      "metadata": {
        "colab": {
          "base_uri": "https://localhost:8080/"
        },
        "id": "Xhd7gUOXrYHR",
        "outputId": "58d50ccc-39e1-436d-ae5c-0b8ad4ba6a50"
      },
      "execution_count": null,
      "outputs": [
        {
          "output_type": "stream",
          "name": "stdout",
          "text": [
            "Enter the string:Jashandeep\n",
            "Enter the character you want to replace:a\n",
            "Enter the symbol with which you want to replace the character:@\n",
            "Original string was Jashandeep\n",
            "Modified string is J@sh@ndeep\n"
          ]
        }
      ]
    },
    {
      "cell_type": "code",
      "source": [
        "#check whether string is palindrome or not\n",
        "str1=input(\"Enter the string:\");\n",
        "str2=str1[::-1];\n",
        "print(\"Original string was\",str1);\n",
        "print(\"Modified string is\",str2);\n",
        "if (str2==str1):\n",
        "  print(\"The string is palindrome\");\n",
        "else:\n",
        "  print(\"The string is not palindrome\"); "
      ],
      "metadata": {
        "colab": {
          "base_uri": "https://localhost:8080/"
        },
        "id": "De-J7pOTrcUI",
        "outputId": "9f8403dd-ae61-4c9d-e9f8-881de6451432"
      },
      "execution_count": null,
      "outputs": [
        {
          "output_type": "stream",
          "name": "stdout",
          "text": [
            "Enter the string:naman\n",
            "Original string was naman\n",
            "Modified string is naman\n",
            "The string is palindrome\n"
          ]
        }
      ]
    },
    {
      "cell_type": "code",
      "source": [
        "#Program to count alphabets,digits and special characters in a string\n",
        "str=input(\"Enter the string:\");\n",
        "alpha=0;\n",
        "dig=0;\n",
        "spch=0;\n",
        "for i in range(len(str)):\n",
        "  if str[i].isalpha()==True:\n",
        "     alpha=alpha+1;\n",
        "  elif str[i].isdigit()==True:\n",
        "    dig=dig+1;\n",
        "  else:\n",
        "    spch=spch+1;\n",
        "print(\"Number of alphabets in string are\",alpha); \n",
        "print(\"Number of digits in string are\",dig);\n",
        "print(\"Number of special characters in string are\",spch);"
      ],
      "metadata": {
        "colab": {
          "base_uri": "https://localhost:8080/"
        },
        "id": "GN20aGA6rgxQ",
        "outputId": "80124b45-c476-4e95-e8a1-739185418d94"
      },
      "execution_count": null,
      "outputs": [
        {
          "output_type": "stream",
          "name": "stdout",
          "text": [
            "Enter the string:jshn1227@gmail.com\n",
            "Number of alphabets in string are 12\n",
            "Number of digits in string are 4\n",
            "Number of special characters in string are 2\n"
          ]
        }
      ]
    },
    {
      "cell_type": "code",
      "source": [
        "#Program to count occurence of character in a string\n",
        "string=input(\"Enter the string:\");\n",
        "char=input(\"Enter the character:\");\n",
        "count=0;\n",
        "for i in range(len(string)):\n",
        "  if string[i]==char:\n",
        "    count=count+1;\n",
        "print(\"Total number of occurence of\",char,\"is\",count);"
      ],
      "metadata": {
        "colab": {
          "base_uri": "https://localhost:8080/"
        },
        "id": "GDUGUl_AtC2I",
        "outputId": "2c3bdca7-8d54-4ef9-8e9e-30e397e32ee4"
      },
      "execution_count": null,
      "outputs": [
        {
          "output_type": "stream",
          "name": "stdout",
          "text": [
            "Enter the string:Jashandeep\n",
            "Enter the character:e\n",
            "Total number of occurence of e is 2\n"
          ]
        }
      ]
    },
    {
      "cell_type": "code",
      "source": [
        "#WAP to display all string functions in one program: upper,capitalize,isalpha,isdigit,lower\n",
        "text=input(\"Enter any text:\");\n",
        "print(\"Original string is:\",text);\n",
        "print(\"Converted string in uppercase letters:\",text.upper());\n",
        "print(\"Converted string into capitalize letters:\",text.capitalize());\n",
        "print(text.isalpha());  #It gives true if all the characters in the string is alphabet and gives false if string contains one or more non alphabets(also take space as non alphabet)\n",
        "print(text.isdigit());  #It gives true if all the characters in the string is digits and gives false if string contains one or more non digits\n",
        "print(\"Converted string into lowercase letters:\",text.lower());"
      ],
      "metadata": {
        "colab": {
          "base_uri": "https://localhost:8080/"
        },
        "id": "4H45vt9cuNh7",
        "outputId": "4d46a7ac-287c-417b-ff80-be70088a7ea8"
      },
      "execution_count": null,
      "outputs": [
        {
          "output_type": "stream",
          "name": "stdout",
          "text": [
            "Enter any text:jashandeep kaur\n",
            "Original string is: jashandeep kaur\n",
            "Converted string in uppercase letters: JASHANDEEP KAUR\n",
            "Converted string into capitalize letters: Jashandeep kaur\n",
            "False\n",
            "False\n",
            "Converted string into lowercase letters: jashandeep kaur\n"
          ]
        }
      ]
    },
    {
      "cell_type": "markdown",
      "source": [
        "###**Lists in Python**"
      ],
      "metadata": {
        "id": "grow9f1MqgWH"
      }
    },
    {
      "cell_type": "markdown",
      "source": [
        "In lists,values are enclosed in square brackets. Values in the list can be modified i.e. it is mutable. For accessing an element of the list,indexing is used. "
      ],
      "metadata": {
        "id": "4uctsobxSuUc"
      }
    },
    {
      "cell_type": "code",
      "source": [
        "#list declaration\n",
        "L1=[12,65,78,34,59];    #list of numbers\n",
        "city=[\"Chd\",\"Bassi\",\"Ropar\"];     #list of strings\n",
        "states=['Punjab','Haryana','Himachal'];\n",
        "aa=[12,13,'Chd'];\n",
        "bb=[]  #Creating empty list\n",
        "cc=[12,13.1,14,'Chd',[1,8,9],'Bassi'];    #nested list"
      ],
      "metadata": {
        "id": "PXIToXLcthfu"
      },
      "execution_count": null,
      "outputs": []
    },
    {
      "cell_type": "code",
      "source": [
        "#Lists are mutable\n",
        "li=[1,3,4,101];\n",
        "li[3]=14;\n",
        "print(li);"
      ],
      "metadata": {
        "colab": {
          "base_uri": "https://localhost:8080/"
        },
        "id": "q-IRZNbKuRK8",
        "outputId": "02c35684-5fdc-4574-df06-586aea938549"
      },
      "execution_count": null,
      "outputs": [
        {
          "output_type": "stream",
          "name": "stdout",
          "text": [
            "[1, 3, 4, 14]\n"
          ]
        }
      ]
    },
    {
      "cell_type": "code",
      "source": [
        "#Accessing list\n",
        "#use of index number positive and negative index value\n",
        "Fruits=[\"apple\",\"orange\",\"cherry\",\"grapes\"];\n",
        "print(Fruits[1]);\n",
        "print(Fruits[3]);\n",
        "print(Fruits[-1]);"
      ],
      "metadata": {
        "colab": {
          "base_uri": "https://localhost:8080/"
        },
        "id": "k6D6UrzQuhKL",
        "outputId": "4237e8dc-9f4a-487b-af77-5bc0e1ab7d5c"
      },
      "execution_count": null,
      "outputs": [
        {
          "output_type": "stream",
          "name": "stdout",
          "text": [
            "orange\n",
            "grapes\n",
            "grapes\n"
          ]
        }
      ]
    },
    {
      "cell_type": "code",
      "source": [
        "#List operations\n",
        "#Joining list    (+ operator is used) \n",
        "a=[1,2,3];\n",
        "b=[4,5];\n",
        "print(a+b);\n",
        "#repeat operator\n",
        "c=[11,12];\n",
        "print(c*3);\n",
        "#slicing list\n",
        "li=['a','b','c','d','e'];\n",
        "print(li[2:4]);\n",
        "#comparing list\n",
        "a1=[3,2];\n",
        "b1=[3,2];\n",
        "c1=a1==b1;    #Comparing\n",
        "print(c1);\n",
        "d1=[2,3];\n",
        "e1=d1<a1;\n",
        "print(e1);"
      ],
      "metadata": {
        "colab": {
          "base_uri": "https://localhost:8080/"
        },
        "id": "nMaL5dUWu_7Z",
        "outputId": "04f41642-4a13-4a35-cf5b-1003fadb46d6"
      },
      "execution_count": null,
      "outputs": [
        {
          "output_type": "stream",
          "name": "stdout",
          "text": [
            "[1, 2, 3, 4, 5]\n",
            "[11, 12, 11, 12, 11, 12]\n",
            "['c', 'd']\n",
            "True\n",
            "True\n"
          ]
        }
      ]
    },
    {
      "cell_type": "code",
      "source": [
        "l=[1,2,3,4,5,6,7,8,9,10];\n",
        "seq=l[1:7:2]\n",
        "print(seq);\n",
        "print(l[7:10]);\n",
        "print(l[0:9]);\n",
        "print(l[::3]);\n",
        "print(l[8:3:-1]);\n",
        "print(l[::-2]);"
      ],
      "metadata": {
        "colab": {
          "base_uri": "https://localhost:8080/"
        },
        "id": "1EP5N_pjwZEJ",
        "outputId": "3f166c24-ce05-4516-ff57-118a75d65c85"
      },
      "execution_count": null,
      "outputs": [
        {
          "output_type": "stream",
          "name": "stdout",
          "text": [
            "[2, 4, 6]\n",
            "[8, 9, 10]\n",
            "[1, 2, 3, 4, 5, 6, 7, 8, 9]\n",
            "[1, 4, 7, 10]\n",
            "[9, 8, 7, 6, 5]\n",
            "[10, 8, 6, 4, 2]\n"
          ]
        }
      ]
    },
    {
      "cell_type": "code",
      "source": [
        "#traversing\n",
        "for x in [1,2,3,4]:\n",
        "  print(x);"
      ],
      "metadata": {
        "colab": {
          "base_uri": "https://localhost:8080/"
        },
        "id": "YLXfg06kyQnx",
        "outputId": "e6eca511-57ee-4fe2-95f3-42e78f9f0eaf"
      },
      "execution_count": null,
      "outputs": [
        {
          "output_type": "stream",
          "name": "stdout",
          "text": [
            "1\n",
            "2\n",
            "3\n",
            "4\n"
          ]
        }
      ]
    },
    {
      "cell_type": "code",
      "source": [
        "li=[4,5,6,7,8];\n",
        "for x in li:\n",
        "  print(\"rcc\");"
      ],
      "metadata": {
        "colab": {
          "base_uri": "https://localhost:8080/"
        },
        "id": "XciUqYZryc6l",
        "outputId": "e9bc19bd-8c9f-4832-c256-96ab6b13e102"
      },
      "execution_count": null,
      "outputs": [
        {
          "output_type": "stream",
          "name": "stdout",
          "text": [
            "rcc\n",
            "rcc\n",
            "rcc\n",
            "rcc\n",
            "rcc\n"
          ]
        }
      ]
    },
    {
      "cell_type": "code",
      "source": [
        "#list traversing using while loop\n",
        "n=[1,2,3,4,5,6,7,8,9,10];\n",
        "i=0;\n",
        "while i<10:\n",
        "  print(n[i],end=' ');\n",
        "  i=i+1;"
      ],
      "metadata": {
        "colab": {
          "base_uri": "https://localhost:8080/"
        },
        "id": "0dWqMLqwyres",
        "outputId": "d872b761-f03b-4b90-8d24-2c1716283cde"
      },
      "execution_count": null,
      "outputs": [
        {
          "output_type": "stream",
          "name": "stdout",
          "text": [
            "1 2 3 4 5 6 7 8 9 10 "
          ]
        }
      ]
    },
    {
      "cell_type": "code",
      "source": [
        "#using range function\n",
        "for i in range(11):\n",
        "  print(i);"
      ],
      "metadata": {
        "colab": {
          "base_uri": "https://localhost:8080/"
        },
        "id": "Vyq1zty9zFju",
        "outputId": "99e978b5-9a38-40a3-afd4-95a1b56f1cc5"
      },
      "execution_count": null,
      "outputs": [
        {
          "output_type": "stream",
          "name": "stdout",
          "text": [
            "0\n",
            "1\n",
            "2\n",
            "3\n",
            "4\n",
            "5\n",
            "6\n",
            "7\n",
            "8\n",
            "9\n",
            "10\n"
          ]
        }
      ]
    },
    {
      "cell_type": "code",
      "source": [
        "#it will make list\n",
        "print(list(range(1,5)));\n",
        "print(list(range(1,10,2)));\n",
        "print(list(range(0)));   #will create empty list"
      ],
      "metadata": {
        "colab": {
          "base_uri": "https://localhost:8080/"
        },
        "id": "POZDVfV7zMmS",
        "outputId": "42278538-84fc-4e5f-85a6-de45e8e46aa5"
      },
      "execution_count": null,
      "outputs": [
        {
          "output_type": "stream",
          "name": "stdout",
          "text": [
            "[1, 2, 3, 4]\n",
            "[1, 3, 5, 7, 9]\n",
            "[]\n"
          ]
        }
      ]
    },
    {
      "cell_type": "markdown",
      "source": [
        "##### **List Functions**"
      ],
      "metadata": {
        "id": "8OpGy9z2qn66"
      }
    },
    {
      "cell_type": "code",
      "source": [
        "#list functions\n",
        "#len(),append(),count(),extend(),insert(),pop(),remove(),sort(),del(),clear()\n",
        "lst=[1,2,3,4,5,6];\n",
        "print(len(lst));   #tell the length of string\n",
        "lst1=[2,3,2,5,8,9];\n",
        "print(lst1.count(2));  #count the occurences of specified object in the list\n",
        "lst1.append(10);       #will add the item at the end\n",
        "print(lst1);\n",
        "lst1.extend(lst)    #add the items of one list to other list\n",
        "print(lst1);\n",
        "print(len(lst1));"
      ],
      "metadata": {
        "colab": {
          "base_uri": "https://localhost:8080/"
        },
        "id": "QhAy7mSuzmK3",
        "outputId": "cad3c300-4690-4cc5-c0a3-b139f2598692"
      },
      "execution_count": null,
      "outputs": [
        {
          "output_type": "stream",
          "name": "stdout",
          "text": [
            "6\n",
            "2\n",
            "[2, 3, 2, 5, 8, 9, 10]\n",
            "[2, 3, 2, 5, 8, 9, 10, 1, 2, 3, 4, 5, 6]\n",
            "13\n"
          ]
        }
      ]
    },
    {
      "cell_type": "code",
      "source": [
        "#list insert syntax\n",
        "#list.insert(<position>,element)\n",
        "li=[1,2,3,4];\n",
        "li.insert(1,9);\n",
        "print(li);\n",
        "#list remove syntax\n",
        "#list.remove(item)\n",
        "li.remove(3);\n",
        "print(li);"
      ],
      "metadata": {
        "colab": {
          "base_uri": "https://localhost:8080/"
        },
        "id": "uPrBpaal1EY_",
        "outputId": "0a2a98fc-08cf-4a72-a5e5-a02ebc221b4f"
      },
      "execution_count": null,
      "outputs": [
        {
          "output_type": "stream",
          "name": "stdout",
          "text": [
            "[1, 9, 2, 3, 4]\n",
            "[1, 9, 2, 4]\n"
          ]
        }
      ]
    },
    {
      "cell_type": "code",
      "source": [
        "#sort\n",
        "x=[3,6,1,8,2,0];\n",
        "y=x[:]\n",
        "y.sort();\n",
        "print(x);\n",
        "print(y);\n",
        "#max() min() clear()\n",
        "print(max(x));\n",
        "print(min(x));\n",
        "print(x.clear());    #will clear the list"
      ],
      "metadata": {
        "colab": {
          "base_uri": "https://localhost:8080/"
        },
        "id": "PZvgM0Fu1sl3",
        "outputId": "2fc0909d-c0c3-4a19-b3fd-b44e6ca0ce20"
      },
      "execution_count": null,
      "outputs": [
        {
          "output_type": "stream",
          "name": "stdout",
          "text": [
            "[3, 6, 1, 8, 2, 0]\n",
            "[0, 1, 2, 3, 6, 8]\n",
            "8\n",
            "0\n",
            "None\n"
          ]
        }
      ]
    },
    {
      "cell_type": "code",
      "source": [
        "my_list=[\"NIELIT\",\"CHD\"];\n",
        "print(my_list);\n",
        "my_list.append([\"headoffice\",\"Ropar\"]);\n",
        "print(my_list);\n",
        "my_list.extend([\"near\",\"RoparIIT\"]);\n",
        "print(my_list);"
      ],
      "metadata": {
        "colab": {
          "base_uri": "https://localhost:8080/"
        },
        "id": "WQxo_UcosW3B",
        "outputId": "dedbda20-7838-4a4a-ba1e-6d0b64d06f5d"
      },
      "execution_count": null,
      "outputs": [
        {
          "output_type": "stream",
          "name": "stdout",
          "text": [
            "['NIELIT', 'CHD']\n",
            "['NIELIT', 'CHD', ['headoffice', 'Ropar']]\n",
            "['NIELIT', 'CHD', ['headoffice', 'Ropar'], 'near', 'RoparIIT']\n"
          ]
        }
      ]
    },
    {
      "cell_type": "code",
      "source": [
        "#pop()   (to delete elements)\n",
        "#syntax: list.pop(index value)    index value is optional\n",
        "a=[\"aa\",\"bb\",\"cc\",\"dd\"];\n",
        "print(a.pop(2));      #In pop(),we give index value whereas in remove(),we give the element we want to remove.\n",
        "print(a);\n",
        "print(a.pop());       #without index,pop() will delete the last element by default.\n",
        "print(a);"
      ],
      "metadata": {
        "colab": {
          "base_uri": "https://localhost:8080/"
        },
        "id": "E61ib_FXskFS",
        "outputId": "17f31926-543c-4b0b-945a-81397641a985"
      },
      "execution_count": null,
      "outputs": [
        {
          "output_type": "stream",
          "name": "stdout",
          "text": [
            "cc\n",
            "['aa', 'bb', 'dd']\n",
            "dd\n",
            "['aa', 'bb']\n"
          ]
        }
      ]
    },
    {
      "cell_type": "code",
      "source": [
        "#del list[i]\n",
        "a=[1,2,3,4,5,6];\n",
        "del a[1:3];\n",
        "print(a);"
      ],
      "metadata": {
        "colab": {
          "base_uri": "https://localhost:8080/"
        },
        "id": "FbfvXMFSspXz",
        "outputId": "ae0e2f6a-1887-4a77-bdf5-42defe1d852e"
      },
      "execution_count": null,
      "outputs": [
        {
          "output_type": "stream",
          "name": "stdout",
          "text": [
            "[1, 4, 5, 6]\n"
          ]
        }
      ]
    },
    {
      "cell_type": "code",
      "source": [
        "#reverse :- reverse the order of list and items\n",
        "x=[1,2,4,5,6];\n",
        "x.reverse();\n",
        "print(x); "
      ],
      "metadata": {
        "colab": {
          "base_uri": "https://localhost:8080/"
        },
        "id": "1qzl4QeMsvMF",
        "outputId": "d67c5602-c942-4d92-efdc-2e4a1e15b3e9"
      },
      "execution_count": null,
      "outputs": [
        {
          "output_type": "stream",
          "name": "stdout",
          "text": [
            "[6, 5, 4, 2, 1]\n"
          ]
        }
      ]
    },
    {
      "cell_type": "code",
      "source": [
        "vehicle=['tram','car','bus'];\n",
        "print(vehicle);\n",
        "print();\n",
        "#first method for looping in list\n",
        "for n in vehicle:\n",
        "  print(n);\n",
        "print();  \n",
        "#second method for looping in list\n",
        "for n in range(len(vehicle)):\n",
        "  print(vehicle[n]);\n",
        "print();  \n",
        "#sorting\n",
        "vehicle.sort();\n",
        "print(vehicle);"
      ],
      "metadata": {
        "colab": {
          "base_uri": "https://localhost:8080/"
        },
        "id": "6LfV2YJVHXQy",
        "outputId": "7a9dbc24-03ff-4c8e-a015-dfd4c2fd1f30"
      },
      "execution_count": null,
      "outputs": [
        {
          "output_type": "stream",
          "name": "stdout",
          "text": [
            "['tram', 'car', 'bus']\n",
            "\n",
            "tram\n",
            "car\n",
            "bus\n",
            "\n",
            "tram\n",
            "car\n",
            "bus\n",
            "\n",
            "['bus', 'car', 'tram']\n"
          ]
        }
      ]
    },
    {
      "cell_type": "code",
      "source": [
        "vehicle=['tram','car','bus'];\n",
        "new_vehicle=vehicle;\n",
        "print(new_vehicle);\n",
        "new_vehicle.append('bus');\n",
        "print(new_vehicle);\n",
        "print(vehicle);"
      ],
      "metadata": {
        "colab": {
          "base_uri": "https://localhost:8080/"
        },
        "id": "a6FX48GAJJT4",
        "outputId": "0032e85b-c60b-4a7d-9dfd-e56dfdaa24cb"
      },
      "execution_count": null,
      "outputs": [
        {
          "output_type": "stream",
          "name": "stdout",
          "text": [
            "['tram', 'car', 'bus']\n",
            "['tram', 'car', 'bus', 'bus']\n",
            "['tram', 'car', 'bus', 'bus']\n"
          ]
        }
      ]
    },
    {
      "cell_type": "code",
      "source": [
        "vehicle=['tram','car','bus'];\n",
        "copyvehicle=vehicle[:];\n",
        "del copyvehicle[0];\n",
        "print(copyvehicle);\n",
        "print(vehicle);"
      ],
      "metadata": {
        "colab": {
          "base_uri": "https://localhost:8080/"
        },
        "id": "lOmUqFTXJqXx",
        "outputId": "4b2a3738-633b-449d-c511-4201e97feaaa"
      },
      "execution_count": null,
      "outputs": [
        {
          "output_type": "stream",
          "name": "stdout",
          "text": [
            "['car', 'bus']\n",
            "['tram', 'car', 'bus']\n"
          ]
        }
      ]
    },
    {
      "cell_type": "markdown",
      "source": [
        "##### **Programs related to Lists:**"
      ],
      "metadata": {
        "id": "ISdzNJZRsKf0"
      }
    },
    {
      "cell_type": "code",
      "source": [
        "#Program to input elements in the list as per count then find the sum\n",
        "list=[];\n",
        "sum=0;\n",
        "count=int(input(\"Enter the number of elements you want to append in a list:\"));\n",
        "for i in range(1,count+1):\n",
        "  num=int(input(\"Enter the element:\"));\n",
        "  list.append(num);\n",
        "  sum=sum+num;\n",
        "print(\"The resulted list is\",list);\n",
        "print(\"Sum of the elements of list is\",sum);  \n"
      ],
      "metadata": {
        "colab": {
          "base_uri": "https://localhost:8080/"
        },
        "id": "UMPVZhkF62OM",
        "outputId": "330156cd-2b5d-4b13-cd71-578c2efabd94"
      },
      "execution_count": null,
      "outputs": [
        {
          "output_type": "stream",
          "name": "stdout",
          "text": [
            "Enter the number of elements you want to append in a list:5\n",
            "Enter the element:1\n",
            "Enter the element:2\n",
            "Enter the element:3\n",
            "Enter the element:4\n",
            "Enter the element:1\n",
            "The resulted list is [1, 2, 3, 4, 1]\n",
            "Sum of the elements of list is 11\n"
          ]
        }
      ]
    },
    {
      "cell_type": "code",
      "source": [
        "#Program to find middle element in a random number list\n",
        "list=[1,2,3,5,7,6,8,25,29,4,93,65];\n",
        "list.sort()\n",
        "print(\"Sorted list is\",list);\n",
        "mid=len(list)/2;\n",
        "print(\"Middle element in the list is\",list[int(mid)]);"
      ],
      "metadata": {
        "colab": {
          "base_uri": "https://localhost:8080/"
        },
        "id": "mpTqLq_G8eog",
        "outputId": "ebd760db-b010-4d30-fdcf-eec7f5e6ed7a"
      },
      "execution_count": null,
      "outputs": [
        {
          "output_type": "stream",
          "name": "stdout",
          "text": [
            "Sorted list is [1, 2, 3, 4, 5, 6, 7, 8, 25, 29, 65, 93]\n",
            "Middle element in the list is 7\n"
          ]
        }
      ]
    },
    {
      "cell_type": "code",
      "source": [
        "#Program to read the line and count the number of words in it\n",
        "text=input(\"Enter the sentence:\");\n",
        "count=len(text.split());          #split() function breaks up the string at specified separator\n",
        "print(\"Number of words in the sentence are\",count);    "
      ],
      "metadata": {
        "colab": {
          "base_uri": "https://localhost:8080/"
        },
        "id": "c7VNv_CJ_bgx",
        "outputId": "31541b59-2ffb-4dee-d29c-1f862033a00c"
      },
      "execution_count": null,
      "outputs": [
        {
          "output_type": "stream",
          "name": "stdout",
          "text": [
            "Enter the sentence:I am Jashandeep\n",
            "Number of words in the sentence are 3\n"
          ]
        }
      ]
    },
    {
      "cell_type": "code",
      "source": [
        "#Calculate the average and total of elements of the list\n",
        "list=[];\n",
        "sum=0;\n",
        "avg=0;\n",
        "count=int(input(\"Enter the number of elements you want to append in a list:\"));\n",
        "for i in range(1,count+1):\n",
        "  num=int(input(\"Enter the element:\"));\n",
        "  list.append(num);\n",
        "  sum=sum+num;\n",
        "  avg=sum/count;\n",
        "print(\"The resulted list is\",list);\n",
        "print(\"Sum of the elements of list is\",sum);\n",
        "print(\"The average of elements of list is\",avg);"
      ],
      "metadata": {
        "colab": {
          "base_uri": "https://localhost:8080/"
        },
        "id": "FeVIEixuGCJk",
        "outputId": "83ae6f48-5282-4f42-9747-56c3e8143dbe"
      },
      "execution_count": null,
      "outputs": [
        {
          "output_type": "stream",
          "name": "stdout",
          "text": [
            "Enter the number of elements you want to append in a list:4\n",
            "Enter the element:1\n",
            "Enter the element:2\n",
            "Enter the element:3\n",
            "Enter the element:4\n",
            "The resulted list is [1, 2, 3, 4]\n",
            "Sum of the elements of list is 10\n",
            "The average of elements of list is 2.5\n"
          ]
        }
      ]
    },
    {
      "cell_type": "code",
      "source": [
        "#Add pair (x,y) in a list if for x in list1 its square y is present in list2\n",
        "new_list=[];\n",
        "list1=[1,2,3];\n",
        "list2=[12,9,27,4,50];\n",
        "for x in list1:\n",
        "  for y in list2:\n",
        "    if x*x==y:\n",
        "      new_list.append((x,y));\n",
        "print(\"The resulted list is\",new_list);"
      ],
      "metadata": {
        "colab": {
          "base_uri": "https://localhost:8080/"
        },
        "id": "HR1wH_GDSlUc",
        "outputId": "b638be27-1a9c-4117-9537-4bbe2a037c26"
      },
      "execution_count": null,
      "outputs": [
        {
          "output_type": "stream",
          "name": "stdout",
          "text": [
            "The resulted list is [(2, 4), (3, 9)]\n"
          ]
        }
      ]
    },
    {
      "cell_type": "markdown",
      "source": [
        "#####**List Comprehension**"
      ],
      "metadata": {
        "id": "mVXiWVhK5JT3"
      }
    },
    {
      "cell_type": "code",
      "source": [
        "vec1=[2,4,6];\n",
        "vec2=[4,3,-9];\n",
        "#cross product\n",
        "list1=[x*y for x in vec1 for y in vec2];\n",
        "print(list1);\n",
        "#multiplication\n",
        "list2=[vec1[i]*vec2[i] for i in range(len(vec1))];\n",
        "print(list2);\n",
        "print([3*x for x in vec1 if x>3]);\n",
        "print([3*x for x in vec2 if x<2]);"
      ],
      "metadata": {
        "colab": {
          "base_uri": "https://localhost:8080/"
        },
        "id": "VJRAL8-45GaW",
        "outputId": "781cddeb-0a36-4767-c880-df20dee56950"
      },
      "execution_count": null,
      "outputs": [
        {
          "output_type": "stream",
          "name": "stdout",
          "text": [
            "[8, 6, -18, 16, 12, -36, 24, 18, -54]\n",
            "[8, 12, -54]\n",
            "[12, 18]\n",
            "[-27]\n"
          ]
        }
      ]
    },
    {
      "cell_type": "code",
      "source": [
        "nums=[1,6,-7,5,-3];\n",
        "pos=[x for x in nums if x>0];\n",
        "print(pos);\n",
        "sqneg=[x*x for x in nums if x<0];\n",
        "print(sqneg);\n",
        "abspairs=[(x,abs(x)) for x in nums];\n",
        "print(abspairs);"
      ],
      "metadata": {
        "colab": {
          "base_uri": "https://localhost:8080/"
        },
        "id": "5KUQYExRQ9Nf",
        "outputId": "ec45de60-e68c-4035-df70-9d5a19d25c06"
      },
      "execution_count": null,
      "outputs": [
        {
          "output_type": "stream",
          "name": "stdout",
          "text": [
            "[1, 6, 5]\n",
            "[49, 9]\n",
            "[(1, 1), (6, 6), (-7, 7), (5, 5), (-3, 3)]\n"
          ]
        }
      ]
    },
    {
      "cell_type": "code",
      "source": [
        "fruits=[\"apple\",\"banana\",\"cherry\",\"kiwi\",\"mango\"];\n",
        "newlist=[];\n",
        "for x in fruits:\n",
        "  if \"a\" in x:\n",
        "    newlist.append(x);\n",
        "print(newlist);\n",
        "#Same program by list comprehension\n",
        "fruits=[\"apple\",\"banana\",\"cherry\",\"kiwi\",\"mango\"];\n",
        "print([x for x in fruits if \"a\" in x]);"
      ],
      "metadata": {
        "colab": {
          "base_uri": "https://localhost:8080/"
        },
        "id": "6fcMlqu7A29Y",
        "outputId": "758dc2ee-ea2d-4cba-a1bc-507d9ed5b962"
      },
      "execution_count": null,
      "outputs": [
        {
          "output_type": "stream",
          "name": "stdout",
          "text": [
            "['apple', 'banana', 'mango']\n",
            "['apple', 'banana', 'mango']\n"
          ]
        }
      ]
    },
    {
      "cell_type": "code",
      "source": [
        "#n=5;\n",
        "#squares=[1,4,9,16,25];\n",
        "#squares\n",
        "#By using list comprehension\n",
        "list=[1,2,3,4,5];\n",
        "squares=[x*x for x in list];\n",
        "print(squares);"
      ],
      "metadata": {
        "colab": {
          "base_uri": "https://localhost:8080/"
        },
        "id": "pzX0WAGIB6lI",
        "outputId": "71a784c5-a5dd-49c5-af86-9da9486a8784"
      },
      "execution_count": null,
      "outputs": [
        {
          "output_type": "stream",
          "name": "stdout",
          "text": [
            "[1, 4, 9, 16, 25]\n"
          ]
        }
      ]
    },
    {
      "cell_type": "markdown",
      "source": [
        "###**Tuples in Python**"
      ],
      "metadata": {
        "id": "h9pEoEGw5Pns"
      }
    },
    {
      "cell_type": "code",
      "source": [
        "#Tuples are same as list but tuples can't be changed and thus are immutable.\n",
        "#Tuples Declaration:-\n",
        "#t1='a','b','c'  #tuple without parentheses\n",
        "#t1=('a','b','c')  #tuple with parentheses\n",
        "#t1=(101,'aa',89.98) #tuple of mixed data types\n",
        "#t1=()               #empty tuple\n",
        "#t1='a1',            #trailing comma is there in single element in tuple"
      ],
      "metadata": {
        "id": "hAk3lYOohFJZ"
      },
      "execution_count": null,
      "outputs": []
    },
    {
      "cell_type": "code",
      "source": [
        "#difference between list and tuple\n",
        "#lists in [] brackets and tuples in () brackets\n",
        "#lists can be changed,extended,deleted but not tuples\n",
        "#tuples can hold homogenous and heterogenous data,in list we store homogenous data"
      ],
      "metadata": {
        "id": "i3Ae8oWriFfs"
      },
      "execution_count": null,
      "outputs": []
    },
    {
      "cell_type": "code",
      "source": [
        "t1=1,2,3;\n",
        "t2=(5,6,7);\n",
        "print(t1);\n",
        "print(t2);\n",
        "t3=t1+t2;\n",
        "print(t3);\n",
        "print(len(t3));"
      ],
      "metadata": {
        "colab": {
          "base_uri": "https://localhost:8080/"
        },
        "id": "Vfd-jnczkC0G",
        "outputId": "cd4a8579-dcb6-4072-e9c9-6fc5d3df3a48"
      },
      "execution_count": null,
      "outputs": [
        {
          "output_type": "stream",
          "name": "stdout",
          "text": [
            "(1, 2, 3)\n",
            "(5, 6, 7)\n",
            "(1, 2, 3, 5, 6, 7)\n",
            "6\n"
          ]
        }
      ]
    },
    {
      "cell_type": "code",
      "source": [
        "#tuples are immutable\n",
        "t1=(1,2,3,4);\n",
        "t1[2]=7;\n",
        "print(t1);"
      ],
      "metadata": {
        "colab": {
          "base_uri": "https://localhost:8080/",
          "height": 217
        },
        "id": "Tqu23cJZwAgi",
        "outputId": "cd9be393-16fd-48f6-da8c-11f6b66d3f26"
      },
      "execution_count": null,
      "outputs": [
        {
          "output_type": "error",
          "ename": "TypeError",
          "evalue": "ignored",
          "traceback": [
            "\u001b[0;31m---------------------------------------------------------------------------\u001b[0m",
            "\u001b[0;31mTypeError\u001b[0m                                 Traceback (most recent call last)",
            "\u001b[0;32m<ipython-input-10-6ffdf3ed88e8>\u001b[0m in \u001b[0;36m<module>\u001b[0;34m()\u001b[0m\n\u001b[1;32m      1\u001b[0m \u001b[0;31m#tuples are immutable\u001b[0m\u001b[0;34m\u001b[0m\u001b[0;34m\u001b[0m\u001b[0;34m\u001b[0m\u001b[0m\n\u001b[1;32m      2\u001b[0m \u001b[0mt1\u001b[0m\u001b[0;34m=\u001b[0m\u001b[0;34m(\u001b[0m\u001b[0;36m1\u001b[0m\u001b[0;34m,\u001b[0m\u001b[0;36m2\u001b[0m\u001b[0;34m,\u001b[0m\u001b[0;36m3\u001b[0m\u001b[0;34m,\u001b[0m\u001b[0;36m4\u001b[0m\u001b[0;34m)\u001b[0m\u001b[0;34m;\u001b[0m\u001b[0;34m\u001b[0m\u001b[0;34m\u001b[0m\u001b[0m\n\u001b[0;32m----> 3\u001b[0;31m \u001b[0mt1\u001b[0m\u001b[0;34m[\u001b[0m\u001b[0;36m2\u001b[0m\u001b[0;34m]\u001b[0m\u001b[0;34m=\u001b[0m\u001b[0;36m7\u001b[0m\u001b[0;34m;\u001b[0m\u001b[0;34m\u001b[0m\u001b[0;34m\u001b[0m\u001b[0m\n\u001b[0m\u001b[1;32m      4\u001b[0m \u001b[0mprint\u001b[0m\u001b[0;34m(\u001b[0m\u001b[0mt1\u001b[0m\u001b[0;34m)\u001b[0m\u001b[0;34m;\u001b[0m\u001b[0;34m\u001b[0m\u001b[0;34m\u001b[0m\u001b[0m\n",
            "\u001b[0;31mTypeError\u001b[0m: 'tuple' object does not support item assignment"
          ]
        }
      ]
    },
    {
      "cell_type": "code",
      "source": [
        "#Accessing elements of tuple\n",
        "t1=(1,2,3,4,5);\n",
        "print(t1[2]);\n",
        "print(t1[3]);\n",
        "print(t1[1]);"
      ],
      "metadata": {
        "colab": {
          "base_uri": "https://localhost:8080/"
        },
        "id": "qtGq7p8nzDI1",
        "outputId": "3202a949-bf3c-4a7f-9a82-d3d3708113a0"
      },
      "execution_count": null,
      "outputs": [
        {
          "output_type": "stream",
          "name": "stdout",
          "text": [
            "3\n",
            "4\n",
            "2\n"
          ]
        }
      ]
    },
    {
      "cell_type": "code",
      "source": [
        "yellow=(255,255,0);\n",
        "print(yellow[0]);\n",
        "print(yellow[1:]);"
      ],
      "metadata": {
        "colab": {
          "base_uri": "https://localhost:8080/"
        },
        "id": "XgHftet9zVbf",
        "outputId": "f4bdff72-3266-4268-cf9b-35baf4cde1f5"
      },
      "execution_count": null,
      "outputs": [
        {
          "output_type": "stream",
          "name": "stdout",
          "text": [
            "255\n",
            "(255, 0)\n"
          ]
        }
      ]
    },
    {
      "cell_type": "code",
      "source": [
        "#when we create a tuple,we normally assign values to it.This is called \"packing\" a tuple.\n",
        "fruits=(\"apple\",\"banana\",\"cherry\");\n",
        "print(fruits);"
      ],
      "metadata": {
        "colab": {
          "base_uri": "https://localhost:8080/"
        },
        "id": "grs8HtASzqaX",
        "outputId": "4c805d3e-f968-470c-dd95-7bca34c326c9"
      },
      "execution_count": null,
      "outputs": [
        {
          "output_type": "stream",
          "name": "stdout",
          "text": [
            "('apple', 'banana', 'cherry')\n"
          ]
        }
      ]
    },
    {
      "cell_type": "code",
      "source": [
        "#But,in python,we are also allowed to extract the values back into variables.This is called \"unpacking\" a tuple.\n",
        "fruits=(\"apple\",\"banana\",\"cherry\");\n",
        "(green,yellow,red)=fruits;\n",
        "print(green);\n",
        "print(yellow);\n",
        "print(red);"
      ],
      "metadata": {
        "colab": {
          "base_uri": "https://localhost:8080/"
        },
        "id": "Rl1LOcGJ0B08",
        "outputId": "9a623df1-564b-45a4-bb11-fc528d34ed2e"
      },
      "execution_count": null,
      "outputs": [
        {
          "output_type": "stream",
          "name": "stdout",
          "text": [
            "apple\n",
            "banana\n",
            "cherry\n"
          ]
        }
      ]
    },
    {
      "cell_type": "code",
      "source": [
        "#accessing nested tuples\n",
        "t1=(1,2,3,(4,5,6),7.8,9.1,\"Hello\");\n",
        "print(t1[3][1]);\n",
        "print(t1[3][2]);\n",
        "print(t1[1]);\n",
        "print(t1[6][4]);\n",
        "print(t1[6]);"
      ],
      "metadata": {
        "colab": {
          "base_uri": "https://localhost:8080/"
        },
        "id": "fuVEnLfB0rrP",
        "outputId": "57beb894-b466-493c-de2f-47ffb11d6126"
      },
      "execution_count": null,
      "outputs": [
        {
          "output_type": "stream",
          "name": "stdout",
          "text": [
            "5\n",
            "6\n",
            "2\n",
            "o\n",
            "Hello\n"
          ]
        }
      ]
    },
    {
      "cell_type": "code",
      "source": [
        "#slicing in tuple\n",
        "v=(1,24,53,6,7,83,9,4,6,98);\n",
        "print(v[:]);\n",
        "print(v[:3]);\n",
        "print(v[3:]);\n",
        "print(v[:-1]);\n",
        "print(v[2:4]);"
      ],
      "metadata": {
        "colab": {
          "base_uri": "https://localhost:8080/"
        },
        "id": "KrFT_Tm61Rai",
        "outputId": "74ec8dc0-eb58-4236-d879-3a96970babee"
      },
      "execution_count": null,
      "outputs": [
        {
          "output_type": "stream",
          "name": "stdout",
          "text": [
            "(1, 24, 53, 6, 7, 83, 9, 4, 6, 98)\n",
            "(1, 24, 53)\n",
            "(6, 7, 83, 9, 4, 6, 98)\n",
            "(1, 24, 53, 6, 7, 83, 9, 4, 6)\n",
            "(53, 6)\n"
          ]
        }
      ]
    },
    {
      "cell_type": "code",
      "source": [
        "#membership in tuple\n",
        "t1=2,4,6,5,1;\n",
        "print(4 in t1);\n",
        "print(9 in t1);"
      ],
      "metadata": {
        "colab": {
          "base_uri": "https://localhost:8080/"
        },
        "id": "VtMduKks1x8j",
        "outputId": "46c838a4-2fb1-4f03-d02b-44a845e6e12c"
      },
      "execution_count": null,
      "outputs": [
        {
          "output_type": "stream",
          "name": "stdout",
          "text": [
            "True\n",
            "False\n"
          ]
        }
      ]
    },
    {
      "cell_type": "markdown",
      "source": [
        "##### **Tuple Functions**"
      ],
      "metadata": {
        "id": "xDDtPOZo2R1c"
      }
    },
    {
      "cell_type": "code",
      "source": [
        "#Tuple functions\n",
        "#cmp(),len(),max(),min(),count(),sorted(),index()\n",
        "#cmp() compares both tuples and returns 0 if same,-1 if first is greater and 1 if second is greater\n",
        "t1=33,44,55,66,33;\n",
        "print(len(t1));\n",
        "print(t1.count(33));\n",
        "print(max(t1));   #syntax is max(args),min(args)\n",
        "print(min(t1));\n",
        "print(sorted(t1));\n",
        "print(t1);\n",
        "print(t1.index(33,2));  #here 33 is value whose index we want to find and 2 represents we want to find index of second occurence of 33\n",
        "print(t1.index(44));"
      ],
      "metadata": {
        "colab": {
          "base_uri": "https://localhost:8080/"
        },
        "id": "mCmsv93u2FHV",
        "outputId": "25119aa6-6025-4927-c432-72630e191542"
      },
      "execution_count": null,
      "outputs": [
        {
          "output_type": "stream",
          "name": "stdout",
          "text": [
            "5\n",
            "2\n",
            "66\n",
            "33\n",
            "[33, 33, 44, 55, 66]\n",
            "(33, 44, 55, 66, 33)\n",
            "4\n",
            "1\n"
          ]
        }
      ]
    },
    {
      "cell_type": "code",
      "source": [
        "#tuple operations\n",
        "#tuple slicing syntax:-[start index(included):stop index(excluded):step]\n",
        "n=(11,12,34,54,23,64,24,78,97,35);\n",
        "print(n[::-1]);\n",
        "print(n[::2]);\n",
        "print(n[::-2]);\n",
        "#tuple addition\n",
        "a=1,2,3;\n",
        "b=4,5,6;\n",
        "c=a+b;\n",
        "print(c);\n",
        "#tuple multiplication-- repetition\n",
        "z=(1,2,3);\n",
        "print(z*3);\n",
        "#deleting a tuple\n",
        "#del a[2]       as tuple cannot be changed so element cannot be deleted and will show error in this.\n",
        "aa=(22,33)\n",
        "del(aa);       #But whole tuple can be deleted"
      ],
      "metadata": {
        "colab": {
          "base_uri": "https://localhost:8080/"
        },
        "id": "PY0gj1-S3VBF",
        "outputId": "ecaa97e9-c92d-4bae-b8ee-3c2e1e531775"
      },
      "execution_count": null,
      "outputs": [
        {
          "output_type": "stream",
          "name": "stdout",
          "text": [
            "(35, 97, 78, 24, 64, 23, 54, 34, 12, 11)\n",
            "(11, 34, 23, 24, 97)\n",
            "(35, 78, 64, 54, 12)\n",
            "(1, 2, 3, 4, 5, 6)\n",
            "(1, 2, 3, 1, 2, 3, 1, 2, 3)\n"
          ]
        }
      ]
    },
    {
      "cell_type": "markdown",
      "source": [
        "##### **Modifying tuple**"
      ],
      "metadata": {
        "id": "qAl24w6Y2uVE"
      }
    },
    {
      "cell_type": "code",
      "source": [
        "indoor=['badminton','table-tennis'];\n",
        "outdoor=['football','cricket'];\n",
        "#create a tuple using above two lists\n",
        "games=(indoor,outdoor);\n",
        "print(games);"
      ],
      "metadata": {
        "colab": {
          "base_uri": "https://localhost:8080/"
        },
        "id": "nkELnEZ4KIuE",
        "outputId": "aafd4de6-d767-4c13-9df5-7ac741ad07d8"
      },
      "execution_count": null,
      "outputs": [
        {
          "output_type": "stream",
          "name": "stdout",
          "text": [
            "(['badminton', 'table-tennis'], ['football', 'cricket'])\n"
          ]
        }
      ]
    },
    {
      "cell_type": "code",
      "source": [
        "#lets create another list for card games\n",
        "cards=['hearts','freecell'];"
      ],
      "metadata": {
        "id": "Lv-6NURqKh-e"
      },
      "execution_count": null,
      "outputs": []
    },
    {
      "cell_type": "code",
      "source": [
        "#print first element in tuple\n",
        "print(games[0]);"
      ],
      "metadata": {
        "colab": {
          "base_uri": "https://localhost:8080/"
        },
        "id": "HZ-Y3sAKKvqK",
        "outputId": "dcf01a92-9519-414a-93f8-5082595d9545"
      },
      "execution_count": null,
      "outputs": [
        {
          "output_type": "stream",
          "name": "stdout",
          "text": [
            "['badminton', 'table-tennis']\n"
          ]
        }
      ]
    },
    {
      "cell_type": "code",
      "source": [
        "#Lets try to replace it with cards\n",
        "games[0]=cards;\n",
        "#should get an error!! tuple is not mutable!"
      ],
      "metadata": {
        "colab": {
          "base_uri": "https://localhost:8080/",
          "height": 200
        },
        "id": "IZKiRCp1LIMO",
        "outputId": "fc0c8f74-9cf9-41cc-a63b-d6e309b91a43"
      },
      "execution_count": null,
      "outputs": [
        {
          "output_type": "error",
          "ename": "TypeError",
          "evalue": "ignored",
          "traceback": [
            "\u001b[0;31m---------------------------------------------------------------------------\u001b[0m",
            "\u001b[0;31mTypeError\u001b[0m                                 Traceback (most recent call last)",
            "\u001b[0;32m<ipython-input-45-3e1d3e544e78>\u001b[0m in \u001b[0;36m<module>\u001b[0;34m()\u001b[0m\n\u001b[1;32m      1\u001b[0m \u001b[0;31m#Lets try to replace it with cards\u001b[0m\u001b[0;34m\u001b[0m\u001b[0;34m\u001b[0m\u001b[0;34m\u001b[0m\u001b[0m\n\u001b[0;32m----> 2\u001b[0;31m \u001b[0mgames\u001b[0m\u001b[0;34m[\u001b[0m\u001b[0;36m0\u001b[0m\u001b[0;34m]\u001b[0m\u001b[0;34m=\u001b[0m\u001b[0mcards\u001b[0m\u001b[0;34m;\u001b[0m\u001b[0;34m\u001b[0m\u001b[0;34m\u001b[0m\u001b[0m\n\u001b[0m\u001b[1;32m      3\u001b[0m \u001b[0;31m#should get an error!! tuple is not mutable!\u001b[0m\u001b[0;34m\u001b[0m\u001b[0;34m\u001b[0m\u001b[0;34m\u001b[0m\u001b[0m\n",
            "\u001b[0;31mTypeError\u001b[0m: 'tuple' object does not support item assignment"
          ]
        }
      ]
    },
    {
      "cell_type": "code",
      "source": [
        "#create another tuple games1 with all three lists as tuple elements\n",
        "games1=(['badminton','table-tennis'],['football','cricket'],['hearts','freecell']);\n",
        "print(games1);"
      ],
      "metadata": {
        "colab": {
          "base_uri": "https://localhost:8080/"
        },
        "id": "Oi4FJYIsPP8e",
        "outputId": "e7676058-d44d-45ff-f4fa-40ae1a249aac"
      },
      "execution_count": null,
      "outputs": [
        {
          "output_type": "stream",
          "name": "stdout",
          "text": [
            "(['badminton', 'table-tennis'], ['football', 'cricket'], ['hearts', 'freecell'])\n"
          ]
        }
      ]
    },
    {
      "cell_type": "code",
      "source": [
        "games1[:2]==games"
      ],
      "metadata": {
        "colab": {
          "base_uri": "https://localhost:8080/"
        },
        "id": "Lj2fvnLrPv9S",
        "outputId": "2a2e8acf-56e6-4cf6-dc82-bb40240dd274"
      },
      "execution_count": null,
      "outputs": [
        {
          "output_type": "execute_result",
          "data": {
            "text/plain": [
              "True"
            ]
          },
          "metadata": {},
          "execution_count": 47
        }
      ]
    },
    {
      "cell_type": "code",
      "source": [
        "#try to change first element in outdoor list\n",
        "outdoor[0]='hockey';\n",
        "print(outdoor);"
      ],
      "metadata": {
        "colab": {
          "base_uri": "https://localhost:8080/"
        },
        "id": "mBRGBVCmP27y",
        "outputId": "df71bb4f-7974-4de5-fae0-22be64ad25a6"
      },
      "execution_count": null,
      "outputs": [
        {
          "output_type": "stream",
          "name": "stdout",
          "text": [
            "['hockey', 'cricket']\n"
          ]
        }
      ]
    },
    {
      "cell_type": "code",
      "source": [
        "#has the tuple modified?\n",
        "games1[:2]==games"
      ],
      "metadata": {
        "colab": {
          "base_uri": "https://localhost:8080/"
        },
        "id": "Q5Op6blMQGnD",
        "outputId": "1ec31411-1c18-46f3-c7c4-e09e3e59e12b"
      },
      "execution_count": null,
      "outputs": [
        {
          "output_type": "execute_result",
          "data": {
            "text/plain": [
              "False"
            ]
          },
          "metadata": {},
          "execution_count": 49
        }
      ]
    },
    {
      "cell_type": "code",
      "source": [
        "#Is it correct? Earlier we said that tuples are not mutable and now we are modifying it"
      ],
      "metadata": {
        "id": "2pRAWYawQGyJ"
      },
      "execution_count": null,
      "outputs": []
    },
    {
      "cell_type": "code",
      "source": [
        "#lets try to fix this\n",
        "games1[1][0]='hockey'\n",
        "games1[:2]==games"
      ],
      "metadata": {
        "colab": {
          "base_uri": "https://localhost:8080/"
        },
        "id": "W6np5fmlQeeI",
        "outputId": "06e5dfa3-d8cd-4c15-8ce7-6819246f4740"
      },
      "execution_count": null,
      "outputs": [
        {
          "output_type": "execute_result",
          "data": {
            "text/plain": [
              "True"
            ]
          },
          "metadata": {},
          "execution_count": 51
        }
      ]
    },
    {
      "cell_type": "markdown",
      "source": [
        "###**Dictionary in Python**"
      ],
      "metadata": {
        "id": "UQjJ2pY04k7t"
      }
    },
    {
      "cell_type": "markdown",
      "source": [
        "Dictionary is an unordered collection of data values,used to store data values like a map,which unlike other Data types that hold only single value as an element,Dictionary holds key:value pair."
      ],
      "metadata": {
        "id": "vwXjWxHONypm"
      }
    },
    {
      "cell_type": "code",
      "source": [
        "#dictionary is used for storing values with keys\n",
        "#dictionaries are like address books\n",
        "#dictionary declaration\n",
        "mydict={\"name\":\"anu\",\"phone\":234156,\"city\":\"chd\"}   #name is key and anu is value\n",
        "mydict"
      ],
      "metadata": {
        "colab": {
          "base_uri": "https://localhost:8080/"
        },
        "id": "cqWCeIVrOYqu",
        "outputId": "d7c74476-5fd8-454e-d449-cfc3c14706c7"
      },
      "execution_count": null,
      "outputs": [
        {
          "output_type": "execute_result",
          "data": {
            "text/plain": [
              "{'city': 'chd', 'name': 'anu', 'phone': 234156}"
            ]
          },
          "metadata": {},
          "execution_count": 4
        }
      ]
    },
    {
      "cell_type": "code",
      "source": [
        "# d={key1:value1,key2:value2,key3:value3}\n",
        "# d={rollno1:name1,rollno2:name2,rollno3:name3}\n",
        "d={1:'amit',2:'varun',3:'preeti'};\n",
        "print(d);\n",
        "d[1]   #1 is key that is rollno"
      ],
      "metadata": {
        "colab": {
          "base_uri": "https://localhost:8080/",
          "height": 53
        },
        "id": "04OgEk9CPBbB",
        "outputId": "97b8c558-7a6e-44fb-e6ce-937612d420de"
      },
      "execution_count": null,
      "outputs": [
        {
          "output_type": "stream",
          "name": "stdout",
          "text": [
            "{1: 'amit', 2: 'varun', 3: 'preeti'}\n"
          ]
        },
        {
          "output_type": "execute_result",
          "data": {
            "text/plain": [
              "'amit'"
            ],
            "application/vnd.google.colaboratory.intrinsic+json": {
              "type": "string"
            }
          },
          "metadata": {},
          "execution_count": 5
        }
      ]
    },
    {
      "cell_type": "code",
      "source": [
        "#d1={}--empty dictionary\n",
        "#d2={1:\"Sunil\",2:\"Anil\",3:\"Shardha\",} --comma after last pair is optional\n",
        "d2={1:\"Sunil\",2:\"Anil\",3:\"Shardha\",}\n",
        "print(d2)   #print all elements of dictionary\n",
        "print(d2[2])    #print the value assigned to key 2\n",
        "mydict=dict({\"city\":\"pkl\",\"state\":\"haryana\"});   #declaring dictionary using dict() function\n",
        "print(mydict);\n",
        "print(mydict[\"state\"]);"
      ],
      "metadata": {
        "colab": {
          "base_uri": "https://localhost:8080/"
        },
        "id": "EFbPlOAsPsDK",
        "outputId": "5b206177-dc52-42fa-c9d5-c1de7339a9ee"
      },
      "execution_count": null,
      "outputs": [
        {
          "output_type": "stream",
          "name": "stdout",
          "text": [
            "{1: 'Sunil', 2: 'Anil', 3: 'Shardha'}\n",
            "Anil\n",
            "{'city': 'pkl', 'state': 'haryana'}\n",
            "haryana\n"
          ]
        }
      ]
    },
    {
      "cell_type": "code",
      "source": [
        "#example of dictionary declaration in other way\n",
        "dict1={};\n",
        "dict1[1]=\"chd\";\n",
        "dict1[2]=\"ropar\";\n",
        "dict1[3]=\"kurukshetra\";\n",
        "dict1"
      ],
      "metadata": {
        "colab": {
          "base_uri": "https://localhost:8080/"
        },
        "id": "dTNFX9w9Qx_E",
        "outputId": "b5a84f00-3f5a-4bf3-8020-08fabf65ba05"
      },
      "execution_count": null,
      "outputs": [
        {
          "output_type": "execute_result",
          "data": {
            "text/plain": [
              "{1: 'chd', 2: 'ropar', 3: 'kurukshetra'}"
            ]
          },
          "metadata": {},
          "execution_count": 7
        }
      ]
    },
    {
      "cell_type": "code",
      "source": [
        "#appending values to dictionary\n",
        "dict={\"name\":\"anu\",\"class\":\"12th\"};\n",
        "print(dict);\n",
        "dict[\"stream\"]=\"science\";  #appended the content\n",
        "print(dict);\n",
        "dict.update({\"stream\":\"commerce\"});  #update the content with update function\n",
        "print(dict);\n",
        "dict[\"name\"]=\"Hari\";   #another method of updating\n",
        "print(dict);"
      ],
      "metadata": {
        "colab": {
          "base_uri": "https://localhost:8080/"
        },
        "id": "AwRGyr4ucNUG",
        "outputId": "bc5bbb47-eea9-4cab-e740-799033e3b623"
      },
      "execution_count": null,
      "outputs": [
        {
          "output_type": "stream",
          "name": "stdout",
          "text": [
            "{'name': 'anu', 'class': '12th'}\n",
            "{'name': 'anu', 'class': '12th', 'stream': 'science'}\n",
            "{'name': 'anu', 'class': '12th', 'stream': 'commerce'}\n",
            "{'name': 'Hari', 'class': '12th', 'stream': 'commerce'}\n"
          ]
        }
      ]
    },
    {
      "cell_type": "code",
      "source": [
        "student={'rollno':10,'name':'sonu','age':22,'marks':56}\n",
        "print(student);\n",
        "#using list as a value for key-value pair\n",
        "student['marks']=[78,56,87];\n",
        "print(student);\n",
        "#nested dictionary\n",
        "student['address']={'hno':587,'street':'xyz','city':'chandigarh','contact':929384,};\n",
        "print(student)\n",
        "student['address']['city']"
      ],
      "metadata": {
        "colab": {
          "base_uri": "https://localhost:8080/",
          "height": 88
        },
        "id": "0Vx4Gs4of2Ut",
        "outputId": "3c842e7d-98f4-4c31-fca3-a4a42f1b7de5"
      },
      "execution_count": null,
      "outputs": [
        {
          "output_type": "stream",
          "name": "stdout",
          "text": [
            "{'rollno': 10, 'name': 'sonu', 'age': 22, 'marks': 56}\n",
            "{'rollno': 10, 'name': 'sonu', 'age': 22, 'marks': [78, 56, 87]}\n",
            "{'rollno': 10, 'name': 'sonu', 'age': 22, 'marks': [78, 56, 87], 'address': {'hno': 587, 'street': 'xyz', 'city': 'chandigarh', 'contact': 929384}}\n"
          ]
        },
        {
          "output_type": "execute_result",
          "data": {
            "text/plain": [
              "'chandigarh'"
            ],
            "application/vnd.google.colaboratory.intrinsic+json": {
              "type": "string"
            }
          },
          "metadata": {},
          "execution_count": 9
        }
      ]
    },
    {
      "cell_type": "code",
      "source": [
        "d={1:'amit',2:'varun',3:'preeti',10:'isha',12:'gurvinder'}\n",
        "#using for loop to traverse a dictionary\n",
        "for i in d:\n",
        "  print(i)    #print keys"
      ],
      "metadata": {
        "colab": {
          "base_uri": "https://localhost:8080/"
        },
        "id": "_0EzEbLikgs0",
        "outputId": "8985c8ed-b995-44ad-c2f9-642788fcb635"
      },
      "execution_count": null,
      "outputs": [
        {
          "output_type": "stream",
          "name": "stdout",
          "text": [
            "1\n",
            "2\n",
            "3\n",
            "10\n",
            "12\n"
          ]
        }
      ]
    },
    {
      "cell_type": "code",
      "source": [
        "for i in d:\n",
        "  print(i,'->',d[i]);"
      ],
      "metadata": {
        "colab": {
          "base_uri": "https://localhost:8080/"
        },
        "id": "_bj65tVrk7eL",
        "outputId": "df14eb4f-6a1c-4723-ba67-b566696f4a74"
      },
      "execution_count": null,
      "outputs": [
        {
          "output_type": "stream",
          "name": "stdout",
          "text": [
            "1 -> amit\n",
            "2 -> varun\n",
            "3 -> preeti\n",
            "10 -> isha\n",
            "12 -> gurvinder\n"
          ]
        }
      ]
    },
    {
      "cell_type": "code",
      "source": [
        "#traversing dictionary\n",
        "mydict={\"Name\":\"Anu\",\"Phone\":125364,\"city\":\"chd\"};\n",
        "for i in mydict:\n",
        "  print(i,\":\",mydict[i]);"
      ],
      "metadata": {
        "colab": {
          "base_uri": "https://localhost:8080/"
        },
        "id": "DpXuTaShlq-j",
        "outputId": "a691c4ba-fbb7-41e9-84ce-8632e5bdc076"
      },
      "execution_count": null,
      "outputs": [
        {
          "output_type": "stream",
          "name": "stdout",
          "text": [
            "Name : Anu\n",
            "Phone : 125364\n",
            "city : chd\n"
          ]
        }
      ]
    },
    {
      "cell_type": "code",
      "source": [
        "#Program to enter names and marks of the students and display information using dictionary\n",
        "n=int(input(\"Enter the number of students:\"));\n",
        "d={};\n",
        "for i in range(n):\n",
        "  name=input(\"Enter name of the student:\");\n",
        "  marks=int(input(\"Enter marks:\"));\n",
        "  d[name]=marks;\n",
        "print(\"Dictionary of student created\",d);  "
      ],
      "metadata": {
        "id": "j9yHDihcC8if",
        "colab": {
          "base_uri": "https://localhost:8080/"
        },
        "outputId": "2d4b30e5-1718-4413-e1b4-2ddcd9d9797f"
      },
      "execution_count": null,
      "outputs": [
        {
          "output_type": "stream",
          "name": "stdout",
          "text": [
            "Enter the number of students:3\n",
            "Enter name of the student:Jashan\n",
            "Enter marks:99\n",
            "Enter name of the student:Ram\n",
            "Enter marks:98\n",
            "Enter name of the student:Sham\n",
            "Enter marks:97\n",
            "Dictionary of student created {'Jashan': 99, 'Ram': 98, 'Sham': 97}\n"
          ]
        }
      ]
    },
    {
      "cell_type": "markdown",
      "source": [
        "##### **Dictionary Functions**"
      ],
      "metadata": {
        "id": "Fm9j6Tg55HVi"
      }
    },
    {
      "cell_type": "code",
      "source": [
        "#Dictionary functions and methods\n",
        "d1={1:\"aa\",2:\"bb\",3:\"cc\"};\n",
        "print(len(d1));\n",
        "print(d1.get(5));   #it will get the element value\n",
        "print(d1.get(3));\n",
        "d1.pop(3);   #it will remove/pop the mentioned item\n",
        "print(d1);\n",
        "print(d1.keys()); #will print keys only\n",
        "print(d1.values()); #will print values only\n",
        "print(d1.items());  #will print all items with values"
      ],
      "metadata": {
        "colab": {
          "base_uri": "https://localhost:8080/"
        },
        "id": "8gJ-N8FgjjMM",
        "outputId": "f9cc36ad-bc1b-4116-cfd1-382c5bd0c71d"
      },
      "execution_count": null,
      "outputs": [
        {
          "output_type": "stream",
          "name": "stdout",
          "text": [
            "3\n",
            "None\n",
            "cc\n",
            "{1: 'aa', 2: 'bb'}\n",
            "dict_keys([1, 2])\n",
            "dict_values(['aa', 'bb'])\n",
            "dict_items([(1, 'aa'), (2, 'bb')])\n"
          ]
        }
      ]
    },
    {
      "cell_type": "code",
      "source": [
        "#removing dictionary elements and dictionaries\n",
        "d1={1:\"aa\",2:\"bb\",3:\"cc\"};\n",
        "print(d1);\n",
        "del d1[2];\n",
        "print(d1);\n",
        "#d1.clear() will clear all elements of dictionary"
      ],
      "metadata": {
        "colab": {
          "base_uri": "https://localhost:8080/"
        },
        "id": "2GN8COiti5hN",
        "outputId": "d5acf044-fc6f-4b85-cad3-bf199d572be0"
      },
      "execution_count": null,
      "outputs": [
        {
          "output_type": "stream",
          "name": "stdout",
          "text": [
            "{1: 'aa', 2: 'bb', 3: 'cc'}\n",
            "{1: 'aa', 3: 'cc'}\n"
          ]
        }
      ]
    },
    {
      "cell_type": "code",
      "source": [
        "#another way to traverse a dictionary using items function\n",
        "for a,b in d1.items():\n",
        "  print(a,b)"
      ],
      "metadata": {
        "colab": {
          "base_uri": "https://localhost:8080/"
        },
        "id": "zROZz1jVlRI-",
        "outputId": "30fb75ce-fbdd-4950-d67c-6ee48bd48e76"
      },
      "execution_count": null,
      "outputs": [
        {
          "output_type": "stream",
          "name": "stdout",
          "text": [
            "1 aa\n",
            "2 bb\n"
          ]
        }
      ]
    },
    {
      "cell_type": "markdown",
      "source": [
        "###**File Processing**"
      ],
      "metadata": {
        "id": "cUJrbmFA5dlh"
      }
    },
    {
      "cell_type": "markdown",
      "source": [
        "File is a named location on system storage which stores data for later access. It enables persistant storage in a non-volatile memory i.e.Hard Disk. Python too supports file handling and allows users to handle files i.e. ,to read and write files, along with many other file handling options, to operate on files\n",
        "\n",
        "---\n",
        "Open() function in Python is used to open a file in read or write mode.Open() will return a file object.The syntax is open(filename,mode)\n",
        "\n",
        "---\n",
        "Closing a file will free up the resources that were tied with the file and is done using Python close() method.\n",
        "\n",
        "---\n",
        "File  modes:-\n",
        "1.   r\n",
        "1.   w\n",
        "1.   r+\n",
        "1.   w+\n",
        "2.   a\n",
        "2.   rb\n",
        "2.   wb\n",
        "\n",
        "\n",
        "\n",
        "\n",
        "\n",
        "\n"
      ],
      "metadata": {
        "id": "YnzXWgBuCXHE"
      }
    },
    {
      "cell_type": "code",
      "source": [
        "#create a file\n",
        "players=open('tennis_players','w');\n",
        "#input()\n",
        "players.write('Roger\\n');\n",
        "players.write('Rafeal\\n');\n",
        "players.write('Andy\\n');\n",
        "players.write('Novak\\n');\n",
        "players.write('Leander\\n');\n",
        "#print('Another line',file=players,end='*')\n",
        "#print('I am done',file=players)\n",
        "players.close()"
      ],
      "metadata": {
        "id": "ahi3Fq0qf0lN"
      },
      "execution_count": null,
      "outputs": []
    },
    {
      "cell_type": "code",
      "source": [
        "#create another file\n",
        "countries=open('tennis_countries','w');\n",
        "countries.write('Switzerland\\n');\n",
        "countries.write('Spain\\n');\n",
        "countries.write('Britain\\n');\n",
        "countries.write('Serbia\\n');\n",
        "countries.write('India\\n');\n",
        "countries.close();"
      ],
      "metadata": {
        "id": "Xcb_BdeTGDQa"
      },
      "execution_count": null,
      "outputs": []
    },
    {
      "cell_type": "code",
      "source": [
        "print(players);\n",
        "print(countries);"
      ],
      "metadata": {
        "colab": {
          "base_uri": "https://localhost:8080/"
        },
        "id": "zfFeW5elGsQF",
        "outputId": "744b12c0-fe63-4c41-83ce-412c686f87fa"
      },
      "execution_count": null,
      "outputs": [
        {
          "output_type": "stream",
          "name": "stdout",
          "text": [
            "<_io.TextIOWrapper name='tennis_players' mode='w' encoding='UTF-8'>\n",
            "<_io.TextIOWrapper name='tennis_countries' mode='w' encoding='UTF-8'>\n"
          ]
        }
      ]
    },
    {
      "cell_type": "code",
      "source": [
        "n=open('tennis_players','r');\n",
        "c=open('tennis_countries','r');\n",
        "print(n);\n",
        "print(c);"
      ],
      "metadata": {
        "colab": {
          "base_uri": "https://localhost:8080/"
        },
        "id": "elTqnBE_G0Oa",
        "outputId": "c51b5391-02f3-477d-8d1c-fa78ad690e05"
      },
      "execution_count": null,
      "outputs": [
        {
          "output_type": "stream",
          "name": "stdout",
          "text": [
            "<_io.TextIOWrapper name='tennis_players' mode='r' encoding='UTF-8'>\n",
            "<_io.TextIOWrapper name='tennis_countries' mode='r' encoding='UTF-8'>\n"
          ]
        }
      ]
    },
    {
      "cell_type": "code",
      "source": [
        "#read all players\n",
        "pn=n.read();\n",
        "pn"
      ],
      "metadata": {
        "colab": {
          "base_uri": "https://localhost:8080/",
          "height": 36
        },
        "id": "YSrd1c1yHOF9",
        "outputId": "216580bd-eb1c-4303-bf51-9a866fc7e1ee"
      },
      "execution_count": null,
      "outputs": [
        {
          "output_type": "execute_result",
          "data": {
            "text/plain": [
              "'Roger\\nRafeal\\nAndy\\nNovak\\nLeander\\n'"
            ],
            "application/vnd.google.colaboratory.intrinsic+json": {
              "type": "string"
            }
          },
          "metadata": {},
          "execution_count": 6
        }
      ]
    },
    {
      "cell_type": "code",
      "source": [
        "#read first n characters from a file\n",
        "n=open('tennis_players','r')\n",
        "pn=n.read(30)\n",
        "print(pn)\n",
        "n.close()"
      ],
      "metadata": {
        "colab": {
          "base_uri": "https://localhost:8080/"
        },
        "id": "Vnupia5yHZ7D",
        "outputId": "539ba6b1-83ea-4f4a-eca1-ce1951d33f0a"
      },
      "execution_count": null,
      "outputs": [
        {
          "output_type": "stream",
          "name": "stdout",
          "text": [
            "Roger\n",
            "Rafeal\n",
            "Andy\n",
            "Novak\n",
            "Leander\n",
            "\n"
          ]
        }
      ]
    },
    {
      "cell_type": "markdown",
      "source": [
        "###**Functions**"
      ],
      "metadata": {
        "id": "maBeufTQJCcw"
      }
    },
    {
      "cell_type": "code",
      "source": [
        "# function definition\n",
        "# calling of function\n",
        "# syntax to define a function\n",
        "# def function name():\n",
        "# statements....."
      ],
      "metadata": {
        "id": "vexhp0_6JGDB"
      },
      "execution_count": null,
      "outputs": []
    },
    {
      "cell_type": "code",
      "source": [
        "#function definition\n",
        "def sumtwonum(a,b):\n",
        "  c=a+b;\n",
        "  print(c);"
      ],
      "metadata": {
        "id": "3KBwkE0mJV-l"
      },
      "execution_count": null,
      "outputs": []
    },
    {
      "cell_type": "code",
      "source": [
        "#calling of function\n",
        "sumtwonum(10,7);"
      ],
      "metadata": {
        "colab": {
          "base_uri": "https://localhost:8080/"
        },
        "id": "aLQFae95KRIH",
        "outputId": "16afb01f-0305-4d9a-bf9c-9f1a4135af6d"
      },
      "execution_count": null,
      "outputs": [
        {
          "output_type": "stream",
          "name": "stdout",
          "text": [
            "17\n"
          ]
        }
      ]
    },
    {
      "cell_type": "code",
      "source": [
        "#function definition to calculate factorial of a number\n",
        "def factorial(num):\n",
        "  f=1;\n",
        "  for i in range(1,num+1):\n",
        "    f=f*i;\n",
        "  print(f);"
      ],
      "metadata": {
        "id": "cd5ny1TKKbGN"
      },
      "execution_count": null,
      "outputs": []
    },
    {
      "cell_type": "code",
      "source": [
        "#calling of function\n",
        "factorial(5)"
      ],
      "metadata": {
        "colab": {
          "base_uri": "https://localhost:8080/"
        },
        "id": "GzizZFadLXOS",
        "outputId": "452053f5-9f20-47f1-e14f-0f0464fd1d2a"
      },
      "execution_count": null,
      "outputs": [
        {
          "output_type": "stream",
          "name": "stdout",
          "text": [
            "120\n"
          ]
        }
      ]
    },
    {
      "cell_type": "code",
      "source": [
        "#function to calculate result of student\n",
        "def finalresult(t,p):\n",
        "  res='';\n",
        "  if t>=50 and p>=50:\n",
        "    res='pass';\n",
        "  else:\n",
        "    res='fail';\n",
        "  return res;    "
      ],
      "metadata": {
        "id": "hfkGuMmALq1B"
      },
      "execution_count": null,
      "outputs": []
    },
    {
      "cell_type": "code",
      "source": [
        "#calling of function\n",
        "theory=int(input(\"Enter theory marks:\"));\n",
        "practical=int(input(\"Enter practical marks:\"));\n",
        "s=finalresult(theory,practical);\n",
        "print(\"Final result of the student=\",s);"
      ],
      "metadata": {
        "colab": {
          "base_uri": "https://localhost:8080/"
        },
        "id": "rP5IILTJLypf",
        "outputId": "4ca829bb-7450-43d6-a0c1-1747c8d17df5"
      },
      "execution_count": null,
      "outputs": [
        {
          "output_type": "stream",
          "name": "stdout",
          "text": [
            "Enter theory marks:60\n",
            "Enter practical marks:55\n",
            "Final result of the student= pass\n"
          ]
        }
      ]
    },
    {
      "cell_type": "code",
      "source": [
        "def sqr1(a,b):\n",
        "  return a*a, b*b;\n",
        "ans=sqr1(5,6);\n",
        "print(ans);\n",
        "ans[0]"
      ],
      "metadata": {
        "colab": {
          "base_uri": "https://localhost:8080/"
        },
        "id": "psrdrY_TMyc2",
        "outputId": "9129ad76-b372-4332-b1d8-ded6b8e89db3"
      },
      "execution_count": null,
      "outputs": [
        {
          "output_type": "stream",
          "name": "stdout",
          "text": [
            "(25, 36)\n"
          ]
        },
        {
          "output_type": "execute_result",
          "data": {
            "text/plain": [
              "25"
            ]
          },
          "metadata": {},
          "execution_count": 34
        }
      ]
    },
    {
      "cell_type": "markdown",
      "source": [
        "#####**Function arguments**"
      ],
      "metadata": {
        "id": "XJy-gziGNOPk"
      }
    },
    {
      "cell_type": "code",
      "source": [
        "#1. Default arguments\n",
        "def fun(a,b=7,c=8):\n",
        "  print('a=',a,'b=',b,'c=',c);"
      ],
      "metadata": {
        "id": "eKvJo63KNSE7"
      },
      "execution_count": null,
      "outputs": []
    },
    {
      "cell_type": "code",
      "source": [
        "#calling function with default arguments\n",
        "fun(56);\n",
        "fun(4,70);"
      ],
      "metadata": {
        "colab": {
          "base_uri": "https://localhost:8080/"
        },
        "id": "uBgMq4iYNjTM",
        "outputId": "105913b0-a100-4e0a-f58f-f0942cbe3fef"
      },
      "execution_count": null,
      "outputs": [
        {
          "output_type": "stream",
          "name": "stdout",
          "text": [
            "a= 56 b= 7 c= 8\n",
            "a= 4 b= 70 c= 8\n"
          ]
        }
      ]
    },
    {
      "cell_type": "code",
      "source": [
        "#keyworded argument\n",
        "fun(5,c=90);\n",
        "fun(a=9,c=5,b=4);"
      ],
      "metadata": {
        "colab": {
          "base_uri": "https://localhost:8080/"
        },
        "id": "cWEzAO9ONsi1",
        "outputId": "610c186b-6ff2-4064-97d1-5f73892f7401"
      },
      "execution_count": null,
      "outputs": [
        {
          "output_type": "stream",
          "name": "stdout",
          "text": [
            "a= 5 b= 7 c= 90\n",
            "a= 9 b= 4 c= 5\n"
          ]
        }
      ]
    },
    {
      "cell_type": "code",
      "source": [
        "#positional arguments\n",
        "def test(a,b):\n",
        "  print(a,b);"
      ],
      "metadata": {
        "id": "j2pymdzkOMAH"
      },
      "execution_count": null,
      "outputs": []
    },
    {
      "cell_type": "code",
      "source": [
        "test(4);"
      ],
      "metadata": {
        "colab": {
          "base_uri": "https://localhost:8080/",
          "height": 165
        },
        "id": "OshupKDeOV6f",
        "outputId": "f78a8fdf-741d-4f7d-de36-66c0a40d98fa"
      },
      "execution_count": null,
      "outputs": [
        {
          "output_type": "error",
          "ename": "TypeError",
          "evalue": "ignored",
          "traceback": [
            "\u001b[0;31m---------------------------------------------------------------------------\u001b[0m",
            "\u001b[0;31mTypeError\u001b[0m                                 Traceback (most recent call last)",
            "\u001b[0;32m<ipython-input-30-afe61ef5093d>\u001b[0m in \u001b[0;36m<module>\u001b[0;34m()\u001b[0m\n\u001b[0;32m----> 1\u001b[0;31m \u001b[0mtest\u001b[0m\u001b[0;34m(\u001b[0m\u001b[0;36m4\u001b[0m\u001b[0;34m)\u001b[0m\u001b[0;34m;\u001b[0m\u001b[0;34m\u001b[0m\u001b[0;34m\u001b[0m\u001b[0m\n\u001b[0m",
            "\u001b[0;31mTypeError\u001b[0m: test() missing 1 required positional argument: 'b'"
          ]
        }
      ]
    },
    {
      "cell_type": "code",
      "source": [
        "test(4,5,9);"
      ],
      "metadata": {
        "colab": {
          "base_uri": "https://localhost:8080/",
          "height": 182
        },
        "id": "D9SGtJWbOmbb",
        "outputId": "f67cb673-24b6-43d3-8318-73c2c10cf733"
      },
      "execution_count": null,
      "outputs": [
        {
          "output_type": "error",
          "ename": "TypeError",
          "evalue": "ignored",
          "traceback": [
            "\u001b[0;31m---------------------------------------------------------------------------\u001b[0m",
            "\u001b[0;31mTypeError\u001b[0m                                 Traceback (most recent call last)",
            "\u001b[0;32m<ipython-input-31-6c3b63f34c3f>\u001b[0m in \u001b[0;36m<module>\u001b[0;34m()\u001b[0m\n\u001b[0;32m----> 1\u001b[0;31m \u001b[0mtest\u001b[0m\u001b[0;34m(\u001b[0m\u001b[0;36m4\u001b[0m\u001b[0;34m,\u001b[0m\u001b[0;36m5\u001b[0m\u001b[0;34m,\u001b[0m\u001b[0;36m9\u001b[0m\u001b[0;34m)\u001b[0m\u001b[0;34m;\u001b[0m\u001b[0;34m\u001b[0m\u001b[0;34m\u001b[0m\u001b[0m\n\u001b[0m\u001b[1;32m      2\u001b[0m \u001b[0;34m\u001b[0m\u001b[0m\n",
            "\u001b[0;31mTypeError\u001b[0m: test() takes 2 positional arguments but 3 were given"
          ]
        }
      ]
    },
    {
      "cell_type": "code",
      "source": [
        "test(b=9);"
      ],
      "metadata": {
        "colab": {
          "base_uri": "https://localhost:8080/",
          "height": 165
        },
        "id": "SU6Fp7uaOpbI",
        "outputId": "fe8729d9-e481-49d9-8793-ed3141844d1f"
      },
      "execution_count": null,
      "outputs": [
        {
          "output_type": "error",
          "ename": "TypeError",
          "evalue": "ignored",
          "traceback": [
            "\u001b[0;31m---------------------------------------------------------------------------\u001b[0m",
            "\u001b[0;31mTypeError\u001b[0m                                 Traceback (most recent call last)",
            "\u001b[0;32m<ipython-input-32-a2338fb39260>\u001b[0m in \u001b[0;36m<module>\u001b[0;34m()\u001b[0m\n\u001b[0;32m----> 1\u001b[0;31m \u001b[0mtest\u001b[0m\u001b[0;34m(\u001b[0m\u001b[0mb\u001b[0m\u001b[0;34m=\u001b[0m\u001b[0;36m9\u001b[0m\u001b[0;34m)\u001b[0m\u001b[0;34m;\u001b[0m\u001b[0;34m\u001b[0m\u001b[0;34m\u001b[0m\u001b[0m\n\u001b[0m",
            "\u001b[0;31mTypeError\u001b[0m: test() missing 1 required positional argument: 'a'"
          ]
        }
      ]
    },
    {
      "cell_type": "code",
      "source": [
        "test(5,10);"
      ],
      "metadata": {
        "colab": {
          "base_uri": "https://localhost:8080/"
        },
        "id": "LnWjMshgOxDY",
        "outputId": "cd11c780-3861-40a8-bbf6-32df132074a2"
      },
      "execution_count": null,
      "outputs": [
        {
          "output_type": "stream",
          "name": "stdout",
          "text": [
            "5 10\n"
          ]
        }
      ]
    },
    {
      "cell_type": "code",
      "source": [
        "#Variable length argument in functions in Python\n",
        "def message(*var):\n",
        "  print(type(var));\n",
        "  print(var);\n",
        "  for i in var:\n",
        "    print(i);"
      ],
      "metadata": {
        "id": "klRI7mODA_o2"
      },
      "execution_count": null,
      "outputs": []
    },
    {
      "cell_type": "code",
      "source": [
        "message(\"Hello I am Jashandeep\",\"How r u?\")"
      ],
      "metadata": {
        "colab": {
          "base_uri": "https://localhost:8080/"
        },
        "id": "n5hpvQe8BZU2",
        "outputId": "196dd972-1818-4503-bc6e-d208f84de75d"
      },
      "execution_count": null,
      "outputs": [
        {
          "output_type": "stream",
          "name": "stdout",
          "text": [
            "<class 'tuple'>\n",
            "('Hello I am Jashandeep', 'How r u?')\n",
            "Hello I am Jashandeep\n",
            "How r u?\n"
          ]
        }
      ]
    },
    {
      "cell_type": "code",
      "source": [
        "message(2,5,8,6)"
      ],
      "metadata": {
        "colab": {
          "base_uri": "https://localhost:8080/"
        },
        "id": "S9x27d16B5GX",
        "outputId": "235c5e9f-cf6c-47f2-9963-b16b4f68adee"
      },
      "execution_count": null,
      "outputs": [
        {
          "output_type": "stream",
          "name": "stdout",
          "text": [
            "<class 'tuple'>\n",
            "(2, 5, 8, 6)\n",
            "2\n",
            "5\n",
            "8\n",
            "6\n"
          ]
        }
      ]
    },
    {
      "cell_type": "code",
      "source": [
        "message()"
      ],
      "metadata": {
        "colab": {
          "base_uri": "https://localhost:8080/"
        },
        "id": "Nuy65dl-B-0v",
        "outputId": "cc89ab8b-4d75-43de-a6b2-6d223bd2d76e"
      },
      "execution_count": null,
      "outputs": [
        {
          "output_type": "stream",
          "name": "stdout",
          "text": [
            "<class 'tuple'>\n",
            "()\n"
          ]
        }
      ]
    },
    {
      "cell_type": "code",
      "source": [
        "message([4,5,6,24,87,65,9,4,57])"
      ],
      "metadata": {
        "colab": {
          "base_uri": "https://localhost:8080/"
        },
        "id": "DrL7hs_JCFr4",
        "outputId": "8d2c85fa-3549-45f1-bda9-c6a6a2de76be"
      },
      "execution_count": null,
      "outputs": [
        {
          "output_type": "stream",
          "name": "stdout",
          "text": [
            "<class 'tuple'>\n",
            "([4, 5, 6, 24, 87, 65, 9, 4, 57],)\n",
            "[4, 5, 6, 24, 87, 65, 9, 4, 57]\n"
          ]
        }
      ]
    },
    {
      "cell_type": "code",
      "source": [
        "def myAddUniversal(*args):\n",
        "  s=0;\n",
        "  for i in range(len(args)):\n",
        "    s=s+args[i];\n",
        "  return s;  "
      ],
      "metadata": {
        "id": "cB9-J5xNCPDn"
      },
      "execution_count": null,
      "outputs": []
    },
    {
      "cell_type": "code",
      "source": [
        "print(myAddUniversal(2,4,5,4.6,7.8));"
      ],
      "metadata": {
        "colab": {
          "base_uri": "https://localhost:8080/"
        },
        "id": "ggGj3e-ECaXl",
        "outputId": "51921941-9daf-45de-eb49-4257f42ec0fa"
      },
      "execution_count": null,
      "outputs": [
        {
          "output_type": "stream",
          "name": "stdout",
          "text": [
            "23.4\n"
          ]
        }
      ]
    },
    {
      "cell_type": "code",
      "source": [
        "def printAllVariableNamesAndValues(**args):\n",
        "  for x in args:\n",
        "    print(\"Variable Name is:\",x,\"And Value is:\",args[x]);"
      ],
      "metadata": {
        "id": "nBmTUwrsC8U0"
      },
      "execution_count": null,
      "outputs": []
    },
    {
      "cell_type": "code",
      "source": [
        "printAllVariableNamesAndValues(a=3,b=\"B\",c=\"CCC\",d=6.7);"
      ],
      "metadata": {
        "colab": {
          "base_uri": "https://localhost:8080/"
        },
        "id": "KJX0PQbKDFiD",
        "outputId": "1377dadd-39c3-4382-e891-79fb53273a3d"
      },
      "execution_count": null,
      "outputs": [
        {
          "output_type": "stream",
          "name": "stdout",
          "text": [
            "Variable Name is: a And Value is: 3\n",
            "Variable Name is: b And Value is: B\n",
            "Variable Name is: c And Value is: CCC\n",
            "Variable Name is: d And Value is: 6.7\n"
          ]
        }
      ]
    },
    {
      "cell_type": "code",
      "source": [
        "#Keyword-variable length argument in functions in Python\n",
        "def testkeyvar(**var):\n",
        "  print(var);\n",
        "  for k in var:\n",
        "    print(k,var[k]);"
      ],
      "metadata": {
        "id": "qhC31wd_DoSM"
      },
      "execution_count": null,
      "outputs": []
    },
    {
      "cell_type": "code",
      "source": [
        "testkeyvar(a=7,b=8,c=9);"
      ],
      "metadata": {
        "colab": {
          "base_uri": "https://localhost:8080/"
        },
        "id": "9AJaEu4qEHRz",
        "outputId": "e6813f71-aaea-4362-c56d-848654dc87cc"
      },
      "execution_count": null,
      "outputs": [
        {
          "output_type": "stream",
          "name": "stdout",
          "text": [
            "{'a': 7, 'b': 8, 'c': 9}\n",
            "a 7\n",
            "b 8\n",
            "c 9\n"
          ]
        }
      ]
    },
    {
      "cell_type": "code",
      "source": [
        "testkeyvar(name=\"nikhil\",rollno=63,age=18);"
      ],
      "metadata": {
        "colab": {
          "base_uri": "https://localhost:8080/"
        },
        "id": "k3R1HD9lEXX2",
        "outputId": "2905cae9-b108-4a8d-867a-f324778b46b6"
      },
      "execution_count": null,
      "outputs": [
        {
          "output_type": "stream",
          "name": "stdout",
          "text": [
            "{'name': 'nikhil', 'rollno': 63, 'age': 18}\n",
            "name nikhil\n",
            "rollno 63\n",
            "age 18\n"
          ]
        }
      ]
    },
    {
      "cell_type": "code",
      "source": [
        "#docstring\n",
        "def printSuccess2():\n",
        "  \"\"\"This function is doing nothing except printing a message.\n",
        "  That message is \"hellow\" \n",
        "  \"\"\"\n",
        "  print(\"hellow\");"
      ],
      "metadata": {
        "id": "lGhwHwtPElfw"
      },
      "execution_count": null,
      "outputs": []
    },
    {
      "cell_type": "code",
      "source": [
        "help(printSuccess2)"
      ],
      "metadata": {
        "colab": {
          "base_uri": "https://localhost:8080/"
        },
        "id": "xPBm8_0JFBn3",
        "outputId": "8e8592f7-f20b-43de-baa6-277ee31e29f7"
      },
      "execution_count": null,
      "outputs": [
        {
          "output_type": "stream",
          "name": "stdout",
          "text": [
            "Help on function printSuccess2 in module __main__:\n",
            "\n",
            "printSuccess2()\n",
            "    This function is doing nothing except printing a message.\n",
            "    That message is \"hellow\"\n",
            "\n"
          ]
        }
      ]
    },
    {
      "cell_type": "code",
      "source": [
        "printSuccess2()"
      ],
      "metadata": {
        "colab": {
          "base_uri": "https://localhost:8080/"
        },
        "id": "HWODAUZCFb_J",
        "outputId": "02fe29e9-06fb-4c28-901d-bcd09284c6a3"
      },
      "execution_count": null,
      "outputs": [
        {
          "output_type": "stream",
          "name": "stdout",
          "text": [
            "hellow\n"
          ]
        }
      ]
    },
    {
      "cell_type": "code",
      "source": [
        "def mypow(a,b):\n",
        "  \"\"\"This function computes power just like built in pow function\"\"\"\n",
        "  c=a**b;\n",
        "  print(c);"
      ],
      "metadata": {
        "id": "Vv13GTn-FiFX"
      },
      "execution_count": null,
      "outputs": []
    },
    {
      "cell_type": "code",
      "source": [
        "mypow?"
      ],
      "metadata": {
        "id": "UC6JmhbJF2KL"
      },
      "execution_count": null,
      "outputs": []
    },
    {
      "cell_type": "code",
      "source": [
        "mypow(3,4);"
      ],
      "metadata": {
        "id": "TEwxPx5JGGx7",
        "outputId": "fa15c515-4918-41e5-afca-64d9197e1940",
        "colab": {
          "base_uri": "https://localhost:8080/"
        }
      },
      "execution_count": null,
      "outputs": [
        {
          "output_type": "stream",
          "name": "stdout",
          "text": [
            "81\n"
          ]
        }
      ]
    },
    {
      "cell_type": "markdown",
      "source": [
        "#####**Programs by using functions**"
      ],
      "metadata": {
        "id": "-LKIlKqDJ3je"
      }
    },
    {
      "cell_type": "code",
      "source": [
        "#Function to calculate area of a circle\n",
        "def circlearea(radius):\n",
        "  area=3.14*radius*radius;\n",
        "  return area;\n",
        "  #print(area)\n",
        "#Calling of function\n",
        "r=int(input(\"Enter radius of circle to calculate its area:\"));\n",
        "result=circlearea(r);\n",
        "print(result);  "
      ],
      "metadata": {
        "id": "6riq4vtNKyx_",
        "colab": {
          "base_uri": "https://localhost:8080/"
        },
        "outputId": "4b371b66-b27b-446f-b59f-1df778a393c9"
      },
      "execution_count": null,
      "outputs": [
        {
          "output_type": "stream",
          "name": "stdout",
          "text": [
            "Enter radius of circle to calculate its area:5\n",
            "78.5\n"
          ]
        }
      ]
    },
    {
      "cell_type": "code",
      "source": [
        "#Function to calculate reverse of a number\n",
        "def revnum(num):\n",
        "  reversed_num = 0\n",
        "  while num != 0 :\n",
        "        rem = num % 10;\n",
        "        reversed_num = 10*reversed_num + rem;\n",
        "        num = num // 10;\n",
        "  return reversed_num;\n",
        "number = int(input(\"Enter the number to be reversed:\"));\n",
        "print(\"Reversed Number is: \",revnum(number));"
      ],
      "metadata": {
        "colab": {
          "base_uri": "https://localhost:8080/"
        },
        "id": "BrTVBlbcUxEf",
        "outputId": "03dfde8e-67a5-4d61-f97b-2d408bb410e2"
      },
      "execution_count": null,
      "outputs": [
        {
          "output_type": "stream",
          "name": "stdout",
          "text": [
            "Enter the number to be reversed:67548\n",
            "Reversed Number is:  84576\n"
          ]
        }
      ]
    },
    {
      "cell_type": "code",
      "source": [
        "#Function to calculate the prime number or not\n",
        "def isprime(num):\n",
        "  if num>1:\n",
        "    for i in range(2,num+1):\n",
        "      if(num%i==0):\n",
        "        return False;\n",
        "      return True;\n",
        "  else:\n",
        "    return False;\n",
        "print(isprime(23));\n",
        "print(isprime(12));  \n"
      ],
      "metadata": {
        "colab": {
          "base_uri": "https://localhost:8080/"
        },
        "id": "EGxMsVN2a6cs",
        "outputId": "1f6a4ca1-79e3-4aef-cf62-f5f8a7c06bd3"
      },
      "execution_count": null,
      "outputs": [
        {
          "output_type": "stream",
          "name": "stdout",
          "text": [
            "True\n",
            "False\n"
          ]
        }
      ]
    },
    {
      "cell_type": "code",
      "source": [
        "#A function to find factorial of a given number\n",
        "#(This is normal version)\n",
        "def factorial(n):\n",
        "  fact=1;\n",
        "  if(n != 0):\n",
        "    for i in range(1,n+1):\n",
        "      fact=fact*i;\n",
        "  return fact;\n",
        "\n",
        "num=int(input(\"Enter a number:\"));  \n",
        "if num<0:\n",
        "  print(\"Factorial does not exist for negative numbers\");\n",
        "else:\n",
        "  print(\"The factorial of\",num,\"is\",factorial(num));"
      ],
      "metadata": {
        "colab": {
          "base_uri": "https://localhost:8080/"
        },
        "id": "KxnGeHvGS2oG",
        "outputId": "4ec7fdb6-319f-45b8-ebad-2d959facebb5"
      },
      "execution_count": null,
      "outputs": [
        {
          "output_type": "stream",
          "name": "stdout",
          "text": [
            "Enter a number:5\n",
            "The factorial of 5 is 120\n"
          ]
        }
      ]
    },
    {
      "cell_type": "code",
      "source": [
        "#A function to find factorial of a given number\n",
        "#(This is recursive version)\n",
        "def factorial(n):\n",
        "  if(n==0):   #Base case\n",
        "    return 1;\n",
        "  return n*factorial(n-1)    #Recursion\n",
        "num=int(input(\"Enter a number:\"));  \n",
        "if num<0:\n",
        "  print(\"Factorial does not exist for negative numbers\");\n",
        "else:\n",
        "  print(\"The factorial of\",num,\"is\",factorial(num));"
      ],
      "metadata": {
        "colab": {
          "base_uri": "https://localhost:8080/"
        },
        "id": "vx6ER2iIUKXg",
        "outputId": "2405c98e-8c66-48aa-f17f-033aed61fca5"
      },
      "execution_count": null,
      "outputs": [
        {
          "output_type": "stream",
          "name": "stdout",
          "text": [
            "Enter a number:5\n",
            "The factorial of 5 is 120\n"
          ]
        }
      ]
    },
    {
      "cell_type": "code",
      "source": [
        "#Function to accept a string and calculate the number of uppercase and lowercase alphabets\n",
        "def string(str):\n",
        "  up=0;\n",
        "  low=0;\n",
        "  for i in str:\n",
        "   if i.isupper()==True:\n",
        "    up=up+1;\n",
        "   if i.islower()==True:\n",
        "    low=low+1;\n",
        "  print(\"String is\",str);  \n",
        "  print(\"uppercase alphabets:\",up);\n",
        "  print(\"lowercase alphabets:\",low);\n",
        "string(\"Jashan\");  "
      ],
      "metadata": {
        "colab": {
          "base_uri": "https://localhost:8080/"
        },
        "id": "DvZN1AGveMN1",
        "outputId": "7ad88caf-011a-45cb-c4fa-adf9e20144a0"
      },
      "execution_count": null,
      "outputs": [
        {
          "output_type": "stream",
          "name": "stdout",
          "text": [
            "String is Jashan\n",
            "uppercase alphabets: 1\n",
            "lowercase alphabets: 5\n"
          ]
        }
      ]
    },
    {
      "cell_type": "code",
      "source": [
        "#Function to count the frequency of items of list using directionary\n",
        "def CountFreq(li):\n",
        "    freq = {}\n",
        "    for item in li:\n",
        "        if item in freq:\n",
        "            freq[item] = freq[item]+1\n",
        "        else:\n",
        "            freq[item] = 1\n",
        "    print(freq) \n",
        "li =[1, 1, 3, 2, 6, 5, 3, 1, 3, 3, 1, 4, 6, 4, 4, 2, 2, 2, 2]\n",
        "CountFreq(li)"
      ],
      "metadata": {
        "colab": {
          "base_uri": "https://localhost:8080/"
        },
        "id": "y9w43Fdeg2__",
        "outputId": "4fd0b19b-a096-483c-e35d-ac5747decf17"
      },
      "execution_count": null,
      "outputs": [
        {
          "output_type": "stream",
          "name": "stdout",
          "text": [
            "{1: 4, 3: 4, 2: 5, 6: 2, 5: 1, 4: 3}\n"
          ]
        }
      ]
    },
    {
      "cell_type": "markdown",
      "source": [
        "#####**Lambda Function**"
      ],
      "metadata": {
        "id": "vqER0yErIt7Q"
      }
    },
    {
      "cell_type": "markdown",
      "source": [
        "Lambda keyword is used to create small Anonymous function.These function are called anonymous because they are not declared as standard function.\n",
        "\n",
        "---\n",
        "Lambda forms can take any number of arguments but return one value.They cannot contain commands or multiple expressions.Syntax:lambda[arg1[arg2,....]]:expression\n"
      ],
      "metadata": {
        "id": "n89HT_ILGZXp"
      }
    },
    {
      "cell_type": "code",
      "source": [
        "#function definition\n",
        "sum=lambda arg1,arg2:arg1+arg2;\n",
        "#call sum function\n",
        "print(\"Value of total is\",sum(10,20));"
      ],
      "metadata": {
        "id": "5kQFxQMUGOCr",
        "outputId": "3fcb98b2-3fc2-4828-8ee3-375bb46ff506",
        "colab": {
          "base_uri": "https://localhost:8080/"
        }
      },
      "execution_count": null,
      "outputs": [
        {
          "output_type": "stream",
          "name": "stdout",
          "text": [
            "Value of total is 30\n"
          ]
        }
      ]
    },
    {
      "cell_type": "markdown",
      "source": [
        "#####**LEGB Rule**"
      ],
      "metadata": {
        "id": "xWtIbnjfI0-s"
      }
    },
    {
      "cell_type": "markdown",
      "source": [
        "LEGB Rule Multiple namespaces can exist independently from each other and they can contain the same variable names on different hierarchy levels. The \"Scope\" defines on which hierarchy level Python searches for a particular \"variable name\" for its  associated object.The order in which Python search the different levels of namespaces before it finds the name-to-object' mapping is-LEGB rule. Example:"
      ],
      "metadata": {
        "id": "1SQou5tDHx8x"
      }
    },
    {
      "cell_type": "code",
      "source": [
        "#scope of a variable\n",
        "x=5;\n",
        "def print_num(number):\n",
        "  x=3;\n",
        "  print(\"number=\",number);\n",
        "  print(\"inside x=\",x);\n",
        "  return number;\n",
        "\n",
        "print(\"outside x=\",x);\n",
        "print_num(4);\n",
        "print(\"outside again x=\",x);  "
      ],
      "metadata": {
        "colab": {
          "base_uri": "https://localhost:8080/"
        },
        "id": "adh4qPvKO4Mz",
        "outputId": "79cdab1c-cce0-49dd-b41b-26f80b866995"
      },
      "execution_count": null,
      "outputs": [
        {
          "output_type": "stream",
          "name": "stdout",
          "text": [
            "outside x= 5\n",
            "number= 4\n",
            "inside x= 3\n",
            "outside again x= 5\n"
          ]
        }
      ]
    },
    {
      "cell_type": "code",
      "source": [
        "#global variable\n",
        "PI=3.14;\n",
        "def perimeter(r):\n",
        "  return 2*PI*r;\n",
        "def area(r):\n",
        "  return PI*r*r;\n",
        "def update_pi(newpi):\n",
        "  global PI;\n",
        "  PI = newpi;\n",
        "print(PI);\n",
        "print(area(100));\n",
        "print(perimeter(10));\n",
        "update_pi(3.14159);\n",
        "input('Updated PI.\\nPress RETURN to continue.')\n",
        "print(PI);\n",
        "print(area(100));\n",
        "print(perimeter(10));\n"
      ],
      "metadata": {
        "colab": {
          "base_uri": "https://localhost:8080/"
        },
        "id": "Afz-MuqXQX9D",
        "outputId": "89b50309-77c4-4353-d553-fe1bec3da3ba"
      },
      "execution_count": null,
      "outputs": [
        {
          "output_type": "stream",
          "name": "stdout",
          "text": [
            "3.14\n",
            "31400.0\n",
            "62.800000000000004\n",
            "Updated PI.\n",
            "Press RETURN to continue.\n",
            "3.14159\n",
            "31415.899999999998\n",
            "62.8318\n"
          ]
        }
      ]
    },
    {
      "cell_type": "code",
      "source": [
        "#if global is not used\n",
        "PI=3.14;\n",
        "def perimeter(r):\n",
        "  return 2*PI*r;\n",
        "def area(r):\n",
        "  return PI*r*r;\n",
        "def update_pi():\n",
        "  #global PI;\n",
        "  PI = 3.14159;\n",
        "  print(\"Local PI\",PI);\n",
        "print(area(100));\n",
        "print(perimeter(10));\n",
        "update_pi();\n",
        "input('Updated PI.\\nPress RETURN to continue.')\n",
        "print(area(100));\n",
        "print(perimeter(10));\n",
        "print(\"Global PI\",PI);\n"
      ],
      "metadata": {
        "colab": {
          "base_uri": "https://localhost:8080/"
        },
        "id": "laUTiDoaSGQJ",
        "outputId": "94143944-f727-4a0b-e1f2-453185e078b3"
      },
      "execution_count": null,
      "outputs": [
        {
          "output_type": "stream",
          "name": "stdout",
          "text": [
            "31400.0\n",
            "62.800000000000004\n",
            "Local PI 3.14159\n",
            "Updated PI.\n",
            "Press RETURN to continue.\n",
            "31400.0\n",
            "62.800000000000004\n",
            "Global PI 3.14\n"
          ]
        }
      ]
    },
    {
      "cell_type": "code",
      "source": [
        "def maximum(a,b):\n",
        "  if(a>b):\n",
        "    return a;\n",
        "  else:\n",
        "    return b; \n",
        "def minimum(a,b):\n",
        "  if a<b:\n",
        "    return a;\n",
        "  else:\n",
        "    return b;\n",
        "x=-1;\n",
        "x=maximum(3 + 6,4);\n",
        "print(x);\n",
        "y=minimum(x,9 - 4);\n",
        "print(x,y);       "
      ],
      "metadata": {
        "colab": {
          "base_uri": "https://localhost:8080/"
        },
        "id": "GeytD-EZPlaY",
        "outputId": "481899a5-67f0-4bfd-b02d-112304d230b7"
      },
      "execution_count": null,
      "outputs": [
        {
          "output_type": "stream",
          "name": "stdout",
          "text": [
            "9\n",
            "9 5\n"
          ]
        }
      ]
    },
    {
      "cell_type": "code",
      "source": [
        "pi='This is global pi';\n",
        "def outer_test():\n",
        "  pi='This is outer pi';\n",
        "def inner_test():\n",
        "  pi='This is inner pi';\n",
        "  print(pi);\n",
        "inner_test();\n",
        "outer_test();\n",
        "print(pi);    "
      ],
      "metadata": {
        "id": "UJ81DFV7I5Od",
        "outputId": "961bfbd9-766b-4689-f2d5-1e54c8196934",
        "colab": {
          "base_uri": "https://localhost:8080/"
        }
      },
      "execution_count": null,
      "outputs": [
        {
          "output_type": "stream",
          "name": "stdout",
          "text": [
            "This is inner pi\n",
            "This is global pi\n"
          ]
        }
      ]
    },
    {
      "cell_type": "code",
      "source": [
        "y=10;\n",
        "def inner():\n",
        "  s=4;\n",
        "  print(\"s\",s);\n",
        "  print(\"y=\",y);\n",
        "inner();\n",
        "#print(s) will show error as out of scope of function  \n",
        "print(\"outer y=\",y);  "
      ],
      "metadata": {
        "id": "kGIikIvPJVZy",
        "outputId": "a338b252-6be4-496e-85e6-02237d49fbbb",
        "colab": {
          "base_uri": "https://localhost:8080/"
        }
      },
      "execution_count": null,
      "outputs": [
        {
          "output_type": "stream",
          "name": "stdout",
          "text": [
            "s 4\n",
            "y= 10\n",
            "outer y= 10\n"
          ]
        }
      ]
    },
    {
      "cell_type": "code",
      "source": [
        "y=10;\n",
        "def inner():\n",
        "  s=4;\n",
        "  y=y+1;\n",
        "  #y=y+1 will show an error as cannot change global var within function for this use of--global word\n",
        "  print(\"y=\",y);\n",
        "inner();\n",
        "#print(s) will show error as out of scope of function  \n",
        "print(\"outer y=\",y); "
      ],
      "metadata": {
        "id": "6BxuZ_6TKNDZ",
        "outputId": "780dcc75-c7b1-4213-d0c1-a66e75642660",
        "colab": {
          "base_uri": "https://localhost:8080/",
          "height": 356
        }
      },
      "execution_count": null,
      "outputs": [
        {
          "output_type": "error",
          "ename": "UnboundLocalError",
          "evalue": "ignored",
          "traceback": [
            "\u001b[0;31m---------------------------------------------------------------------------\u001b[0m",
            "\u001b[0;31mUnboundLocalError\u001b[0m                         Traceback (most recent call last)",
            "\u001b[0;32m<ipython-input-32-fdcd9018c778>\u001b[0m in \u001b[0;36m<module>\u001b[0;34m()\u001b[0m\n\u001b[1;32m      6\u001b[0m   \u001b[0;31m#y=y+1 will show an error as cannot change global var within function for this use of--global word\u001b[0m\u001b[0;34m\u001b[0m\u001b[0;34m\u001b[0m\u001b[0;34m\u001b[0m\u001b[0m\n\u001b[1;32m      7\u001b[0m   \u001b[0mprint\u001b[0m\u001b[0;34m(\u001b[0m\u001b[0;34m\"y=\"\u001b[0m\u001b[0;34m,\u001b[0m\u001b[0my\u001b[0m\u001b[0;34m)\u001b[0m\u001b[0;34m;\u001b[0m\u001b[0;34m\u001b[0m\u001b[0;34m\u001b[0m\u001b[0m\n\u001b[0;32m----> 8\u001b[0;31m \u001b[0minner\u001b[0m\u001b[0;34m(\u001b[0m\u001b[0;34m)\u001b[0m\u001b[0;34m;\u001b[0m\u001b[0;34m\u001b[0m\u001b[0;34m\u001b[0m\u001b[0m\n\u001b[0m\u001b[1;32m      9\u001b[0m \u001b[0;31m#print(s) will show error as out of scope of function\u001b[0m\u001b[0;34m\u001b[0m\u001b[0;34m\u001b[0m\u001b[0;34m\u001b[0m\u001b[0m\n\u001b[1;32m     10\u001b[0m \u001b[0mprint\u001b[0m\u001b[0;34m(\u001b[0m\u001b[0;34m\"outer y=\"\u001b[0m\u001b[0;34m,\u001b[0m\u001b[0my\u001b[0m\u001b[0;34m)\u001b[0m\u001b[0;34m;\u001b[0m\u001b[0;34m\u001b[0m\u001b[0;34m\u001b[0m\u001b[0m\n",
            "\u001b[0;32m<ipython-input-32-fdcd9018c778>\u001b[0m in \u001b[0;36minner\u001b[0;34m()\u001b[0m\n\u001b[1;32m      3\u001b[0m   \u001b[0ms\u001b[0m\u001b[0;34m=\u001b[0m\u001b[0;36m4\u001b[0m\u001b[0;34m;\u001b[0m\u001b[0;34m\u001b[0m\u001b[0;34m\u001b[0m\u001b[0m\n\u001b[1;32m      4\u001b[0m   \u001b[0;31m#global y;\u001b[0m\u001b[0;34m\u001b[0m\u001b[0;34m\u001b[0m\u001b[0;34m\u001b[0m\u001b[0m\n\u001b[0;32m----> 5\u001b[0;31m   \u001b[0my\u001b[0m\u001b[0;34m=\u001b[0m\u001b[0my\u001b[0m\u001b[0;34m+\u001b[0m\u001b[0;36m1\u001b[0m\u001b[0;34m;\u001b[0m\u001b[0;34m\u001b[0m\u001b[0;34m\u001b[0m\u001b[0m\n\u001b[0m\u001b[1;32m      6\u001b[0m   \u001b[0;31m#y=y+1 will show an error as cannot change global var within function for this use of--global word\u001b[0m\u001b[0;34m\u001b[0m\u001b[0;34m\u001b[0m\u001b[0;34m\u001b[0m\u001b[0m\n\u001b[1;32m      7\u001b[0m   \u001b[0mprint\u001b[0m\u001b[0;34m(\u001b[0m\u001b[0;34m\"y=\"\u001b[0m\u001b[0;34m,\u001b[0m\u001b[0my\u001b[0m\u001b[0;34m)\u001b[0m\u001b[0;34m;\u001b[0m\u001b[0;34m\u001b[0m\u001b[0;34m\u001b[0m\u001b[0m\n",
            "\u001b[0;31mUnboundLocalError\u001b[0m: local variable 'y' referenced before assignment"
          ]
        }
      ]
    },
    {
      "cell_type": "code",
      "source": [
        "y=10;\n",
        "def inner():\n",
        "  s=4;\n",
        "  global y;\n",
        "  y=y+1;\n",
        "  print(\"y=\",y);\n",
        "inner();\n",
        "#print(s) will show error as out of scope of function  \n",
        "print(\"outer y=\",y);"
      ],
      "metadata": {
        "id": "uaFLlhYbKzv5",
        "outputId": "eec42583-9300-4329-b8a2-cea8c0260e46",
        "colab": {
          "base_uri": "https://localhost:8080/"
        }
      },
      "execution_count": null,
      "outputs": [
        {
          "output_type": "stream",
          "name": "stdout",
          "text": [
            "y= 11\n",
            "outer y= 11\n"
          ]
        }
      ]
    },
    {
      "cell_type": "code",
      "source": [
        "y=10 #global\n",
        "def outer():  #enclosed\n",
        "   z=4;\n",
        "   def inner():   #local\n",
        "      s=4;\n",
        "      print(\"inner s=\",s);\n",
        "      print(\"outer function\",z);\n",
        "      print(\"y=\",y);\n",
        "   inner();\n",
        "outer();\n",
        "#print(s) will show error as out of scope of function  \n",
        "print(\"global\",y);      "
      ],
      "metadata": {
        "id": "PpKUEGxPK5mw",
        "outputId": "4858fe56-5cbf-4ffd-a3f6-86016ac3bf98",
        "colab": {
          "base_uri": "https://localhost:8080/"
        }
      },
      "execution_count": null,
      "outputs": [
        {
          "output_type": "stream",
          "name": "stdout",
          "text": [
            "inner s= 4\n",
            "outer function 4\n",
            "y= 10\n",
            "global 10\n"
          ]
        }
      ]
    },
    {
      "cell_type": "code",
      "source": [
        "y=10 #global\n",
        "def outer():  #enclosed\n",
        "   z=4;\n",
        "   def inner():   #local\n",
        "      s=4;\n",
        "      print(\"inner s=\",s);\n",
        "      nonlocal z;\n",
        "      z=z+1;\n",
        "      print(\"outer function\",z);\n",
        "      print(\"y=\",y);\n",
        "   inner();\n",
        "outer();\n",
        "#print(s) will show error as out of scope of function  \n",
        "print(\"global\",y);"
      ],
      "metadata": {
        "id": "UuVgfDmcLjWJ",
        "outputId": "d48669c9-64b0-47c5-cf39-1ef8500c6b4e",
        "colab": {
          "base_uri": "https://localhost:8080/"
        }
      },
      "execution_count": null,
      "outputs": [
        {
          "output_type": "stream",
          "name": "stdout",
          "text": [
            "inner s= 4\n",
            "outer function 5\n",
            "y= 10\n",
            "global 10\n"
          ]
        }
      ]
    },
    {
      "cell_type": "code",
      "source": [
        "y=10  #global\n",
        "def outer():    #enclosed\n",
        "  y=5;\n",
        "  def inner():  #local\n",
        "     y=2;\n",
        "     print(\"inner y=\",y);\n",
        "  inner();\n",
        "outer();\n",
        "#LEGB rule first will print local,then will search enclosed,then global and then bracket"
      ],
      "metadata": {
        "id": "PftAVfMIL1sy",
        "outputId": "ccb558ae-14a0-49bc-b32e-374144a62c58",
        "colab": {
          "base_uri": "https://localhost:8080/"
        }
      },
      "execution_count": null,
      "outputs": [
        {
          "output_type": "stream",
          "name": "stdout",
          "text": [
            "inner y= 2\n"
          ]
        }
      ]
    },
    {
      "cell_type": "markdown",
      "source": [
        "###**Modules in Python**"
      ],
      "metadata": {
        "id": "A6hLvevQMdgr"
      }
    },
    {
      "cell_type": "markdown",
      "source": [
        "##### **Math Module**"
      ],
      "metadata": {
        "id": "EcQKxgCcNfpg"
      }
    },
    {
      "cell_type": "code",
      "source": [
        "#importing math module\n",
        "#1. using import keyword\n",
        "import math\n",
        "result=math.sqrt(81);\n",
        "print(result);"
      ],
      "metadata": {
        "id": "ve7comY7Mhj3",
        "outputId": "db4b83b3-8029-49a7-df22-51298618ea79",
        "colab": {
          "base_uri": "https://localhost:8080/"
        }
      },
      "execution_count": null,
      "outputs": [
        {
          "output_type": "stream",
          "name": "stdout",
          "text": [
            "9.0\n"
          ]
        }
      ]
    },
    {
      "cell_type": "code",
      "source": [
        "import math as mt\n",
        "r=mt.sqrt(56)\n",
        "print(r);"
      ],
      "metadata": {
        "id": "jiFKYV3eMy_c",
        "outputId": "0270eeaa-506e-41eb-96f5-fe8045d358d6",
        "colab": {
          "base_uri": "https://localhost:8080/"
        }
      },
      "execution_count": null,
      "outputs": [
        {
          "output_type": "stream",
          "name": "stdout",
          "text": [
            "7.483314773547883\n"
          ]
        }
      ]
    },
    {
      "cell_type": "code",
      "source": [
        "#2.using from keyword\n",
        "from math import ceil\n",
        "print(ceil(6.6));"
      ],
      "metadata": {
        "id": "i9kxH8-YM-aH",
        "outputId": "03a76dc6-70cf-454e-f4d4-fb034367e409",
        "colab": {
          "base_uri": "https://localhost:8080/"
        }
      },
      "execution_count": null,
      "outputs": [
        {
          "output_type": "stream",
          "name": "stdout",
          "text": [
            "7\n"
          ]
        }
      ]
    },
    {
      "cell_type": "code",
      "source": [
        "#to import all the functions from your module,write *\n",
        "from math import *"
      ],
      "metadata": {
        "id": "mKZwE65-NNb-"
      },
      "execution_count": null,
      "outputs": []
    },
    {
      "cell_type": "markdown",
      "source": [
        "#####**Random Module**"
      ],
      "metadata": {
        "id": "-rU43jGUQ9BM"
      }
    },
    {
      "cell_type": "code",
      "source": [
        "import random\n",
        "# random function-it gives a random number between 0 and 1\n",
        "random.random()"
      ],
      "metadata": {
        "id": "YlXTMM9kRCSk",
        "outputId": "6ffdf834-88f0-4840-e8ff-5f04fde010a1",
        "colab": {
          "base_uri": "https://localhost:8080/"
        }
      },
      "execution_count": null,
      "outputs": [
        {
          "output_type": "execute_result",
          "data": {
            "text/plain": [
              "0.15067008603339171"
            ]
          },
          "metadata": {},
          "execution_count": 42
        }
      ]
    },
    {
      "cell_type": "code",
      "source": [
        "#randint(a,b)-it gives a random number between a and b\n",
        "random.randint(15,100)"
      ],
      "metadata": {
        "id": "9n4EMx96RXXL",
        "outputId": "f38fba91-bc94-4936-acc7-8a204c5a012c",
        "colab": {
          "base_uri": "https://localhost:8080/"
        }
      },
      "execution_count": null,
      "outputs": [
        {
          "output_type": "execute_result",
          "data": {
            "text/plain": [
              "89"
            ]
          },
          "metadata": {},
          "execution_count": 43
        }
      ]
    },
    {
      "cell_type": "code",
      "source": [
        "#uniform(a,b)-it gives a floating point random number between a and b\n",
        "random.uniform(5,10)"
      ],
      "metadata": {
        "id": "-xrWRBXTRnxu",
        "outputId": "aefe3e10-cf20-4eb5-dbd0-6c680eee1191",
        "colab": {
          "base_uri": "https://localhost:8080/"
        }
      },
      "execution_count": null,
      "outputs": [
        {
          "output_type": "execute_result",
          "data": {
            "text/plain": [
              "8.249806564889209"
            ]
          },
          "metadata": {},
          "execution_count": 44
        }
      ]
    },
    {
      "cell_type": "markdown",
      "source": [
        "##### **Time Module**"
      ],
      "metadata": {
        "id": "T7tjBocANSdu"
      }
    },
    {
      "cell_type": "code",
      "source": [
        "#import time module\n",
        "from datetime import time\n",
        "a=time();\n",
        "print(\"a=\",a);\n",
        "b=time(9,32,52);\n",
        "print(\"b=\",b);\n",
        "print(\"hour=\",b.hour);\n",
        "print(\"minute=\",b.minute);\n",
        "print(\"second=\",b.second);\n",
        "import datetime\n",
        "print(datetime.datetime.now())  #print current date and time\n",
        "#import datetime;\n",
        "print(datetime.date.today())    #print current date\n",
        "from datetime import date\n",
        "print(date.today());\n",
        "dd=date.today();\n",
        "print(\"year\",dd.year);\n",
        "print(\"month\",dd.month);\n",
        "print(\"day\",dd.day);"
      ],
      "metadata": {
        "id": "uobR6eEmR7PH",
        "outputId": "f4047240-c004-40fb-a900-a94db0437f9a",
        "colab": {
          "base_uri": "https://localhost:8080/"
        }
      },
      "execution_count": null,
      "outputs": [
        {
          "output_type": "stream",
          "name": "stdout",
          "text": [
            "a= 00:00:00\n",
            "b= 09:32:52\n",
            "hour= 9\n",
            "minute= 32\n",
            "second= 52\n",
            "2022-07-15 05:23:56.297968\n",
            "2022-07-15\n",
            "2022-07-15\n",
            "year 2022\n",
            "month 7\n",
            "day 15\n"
          ]
        }
      ]
    },
    {
      "cell_type": "markdown",
      "source": [
        "##### **Calendar Module**"
      ],
      "metadata": {
        "id": "newmkazXNm3U"
      }
    },
    {
      "cell_type": "code",
      "source": [
        "import calendar\n",
        "print(calendar.month(2022,9));"
      ],
      "metadata": {
        "id": "9dCKBxzkUKZi",
        "outputId": "4f7d4183-0bc5-4a13-e143-ba4d001e29fa",
        "colab": {
          "base_uri": "https://localhost:8080/"
        }
      },
      "execution_count": null,
      "outputs": [
        {
          "output_type": "stream",
          "name": "stdout",
          "text": [
            "   September 2022\n",
            "Mo Tu We Th Fr Sa Su\n",
            "          1  2  3  4\n",
            " 5  6  7  8  9 10 11\n",
            "12 13 14 15 16 17 18\n",
            "19 20 21 22 23 24 25\n",
            "26 27 28 29 30\n",
            "\n"
          ]
        }
      ]
    },
    {
      "cell_type": "markdown",
      "source": [
        "##### **Re Module**"
      ],
      "metadata": {
        "id": "OMYJUmAMNrPZ"
      }
    },
    {
      "cell_type": "code",
      "source": [
        "import re\n",
        "txt=\"hello planet\";\n",
        "#Search for a sequence that starts with \"he\",followed by 0 or more (any) characters ,and an \"o\":\n",
        "x=re.findall(\"he.*o\",txt);\n",
        "print(x);"
      ],
      "metadata": {
        "id": "VvNSvyqrUlXM",
        "outputId": "a8ed087d-f0af-4282-c03c-e10033e622a7",
        "colab": {
          "base_uri": "https://localhost:8080/"
        }
      },
      "execution_count": null,
      "outputs": [
        {
          "output_type": "stream",
          "name": "stdout",
          "text": [
            "['hello']\n"
          ]
        }
      ]
    }
  ]
}