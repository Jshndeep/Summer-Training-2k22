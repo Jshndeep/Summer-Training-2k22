{
  "nbformat": 4,
  "nbformat_minor": 0,
  "metadata": {
    "colab": {
      "name": "Numpy_ST.ipynb",
      "provenance": [],
      "authorship_tag": "ABX9TyNcYvzVgrrRYYHmRKAFgyDv",
      "include_colab_link": true
    },
    "kernelspec": {
      "name": "python3",
      "display_name": "Python 3"
    },
    "language_info": {
      "name": "python"
    }
  },
  "cells": [
    {
      "cell_type": "markdown",
      "metadata": {
        "id": "view-in-github",
        "colab_type": "text"
      },
      "source": [
        "<a href=\"https://colab.research.google.com/github/Jshndeep/Summer-Training-2k22/blob/main/Numpy_ST.ipynb\" target=\"_parent\"><img src=\"https://colab.research.google.com/assets/colab-badge.svg\" alt=\"Open In Colab\"/></a>"
      ]
    },
    {
      "cell_type": "markdown",
      "source": [
        "# **Understanding memory allocation in python**"
      ],
      "metadata": {
        "id": "lM3xfUWJDNNR"
      }
    },
    {
      "cell_type": "code",
      "source": [
        "a=10;\n",
        "print(a,id(a));"
      ],
      "metadata": {
        "colab": {
          "base_uri": "https://localhost:8080/"
        },
        "id": "_4eGiIfNDYmp",
        "outputId": "6ec1c7bf-23f5-484a-af2d-aebe885e85e3"
      },
      "execution_count": null,
      "outputs": [
        {
          "output_type": "stream",
          "name": "stdout",
          "text": [
            "10 11256352\n"
          ]
        }
      ]
    },
    {
      "cell_type": "code",
      "source": [
        "b=a\n",
        "print(a,id(a),b,id(b));"
      ],
      "metadata": {
        "colab": {
          "base_uri": "https://localhost:8080/"
        },
        "id": "1d25LkR8DmD3",
        "outputId": "f013f702-ad84-4e2b-a8ef-f99b00c5e00a"
      },
      "execution_count": null,
      "outputs": [
        {
          "output_type": "stream",
          "name": "stdout",
          "text": [
            "10 11256352 10 11256352\n"
          ]
        }
      ]
    },
    {
      "cell_type": "code",
      "source": [
        "a=20\n",
        "print(a,id(a),b,id(b));"
      ],
      "metadata": {
        "colab": {
          "base_uri": "https://localhost:8080/"
        },
        "id": "HlH7RQTtDsKh",
        "outputId": "6f3c9a56-d678-435f-a490-fb6dbd21e3e4"
      },
      "execution_count": null,
      "outputs": [
        {
          "output_type": "stream",
          "name": "stdout",
          "text": [
            "20 11256672 10 11256352\n"
          ]
        }
      ]
    },
    {
      "cell_type": "code",
      "source": [
        "c=10\n",
        "print(c,id(c),a,id(a),b,id(b));"
      ],
      "metadata": {
        "colab": {
          "base_uri": "https://localhost:8080/"
        },
        "id": "sKmlqMaLDvjx",
        "outputId": "31847849-c909-4336-8063-60bdef0aed73"
      },
      "execution_count": null,
      "outputs": [
        {
          "output_type": "stream",
          "name": "stdout",
          "text": [
            "10 11256352 20 11256672 10 11256352\n"
          ]
        }
      ]
    },
    {
      "cell_type": "markdown",
      "source": [
        "# **Best Programming Practices**"
      ],
      "metadata": {
        "id": "BFGnQsX6N-92"
      }
    },
    {
      "cell_type": "code",
      "source": [
        "#Start with comments\n",
        "#Variable names - Camel Casing , Hungarian Notation\n",
        "#No code repeatation - Always make functions"
      ],
      "metadata": {
        "id": "iKyFNIcJOFgR"
      },
      "execution_count": null,
      "outputs": []
    },
    {
      "cell_type": "markdown",
      "source": [
        "#**Numpy Basics**"
      ],
      "metadata": {
        "id": "UcMNurSmUpe8"
      }
    },
    {
      "cell_type": "code",
      "execution_count": null,
      "metadata": {
        "id": "HYZuCG8fUij-"
      },
      "outputs": [],
      "source": [
        "import numpy as np"
      ]
    },
    {
      "cell_type": "code",
      "source": [
        "#One Dimensional Array\n",
        "n1=np.array([2,3,4,5])"
      ],
      "metadata": {
        "id": "91mf8za3I-lC"
      },
      "execution_count": null,
      "outputs": []
    },
    {
      "cell_type": "code",
      "source": [
        "print(n1.shape)"
      ],
      "metadata": {
        "colab": {
          "base_uri": "https://localhost:8080/"
        },
        "id": "uGNr4vXKU7df",
        "outputId": "9fda226f-1851-4fb5-bb65-4e88e32e1e36"
      },
      "execution_count": null,
      "outputs": [
        {
          "output_type": "stream",
          "name": "stdout",
          "text": [
            "(4,)\n"
          ]
        }
      ]
    },
    {
      "cell_type": "code",
      "source": [
        "print(type(n1));"
      ],
      "metadata": {
        "colab": {
          "base_uri": "https://localhost:8080/"
        },
        "id": "msOcAI4HVBTL",
        "outputId": "21cc9a72-413a-4015-c2bc-bf8b6f33bf0b"
      },
      "execution_count": null,
      "outputs": [
        {
          "output_type": "stream",
          "name": "stdout",
          "text": [
            "<class 'numpy.ndarray'>\n"
          ]
        }
      ]
    },
    {
      "cell_type": "code",
      "source": [
        "#Two Dimensional Array\n",
        "arr=np.array([[1,2,3],[4,5,6]])      \n",
        "#Wrong Syntax:- arr=np.array([1,2,3],[4,5,6]) \n",
        "print(arr)"
      ],
      "metadata": {
        "colab": {
          "base_uri": "https://localhost:8080/"
        },
        "id": "jbQbIoORJfuz",
        "outputId": "6c76a5a7-a618-4ad7-aa81-3ef00c46001b"
      },
      "execution_count": null,
      "outputs": [
        {
          "output_type": "stream",
          "name": "stdout",
          "text": [
            "[[1 2 3]\n",
            " [4 5 6]]\n"
          ]
        }
      ]
    },
    {
      "cell_type": "code",
      "source": [
        "#Use of arange function\n",
        "print(np.arange(5))"
      ],
      "metadata": {
        "colab": {
          "base_uri": "https://localhost:8080/"
        },
        "id": "lt2N_3t1KJFZ",
        "outputId": "44920770-988f-4e17-8b53-77f958d58b5f"
      },
      "execution_count": null,
      "outputs": [
        {
          "output_type": "stream",
          "name": "stdout",
          "text": [
            "[0 1 2 3 4]\n"
          ]
        }
      ]
    },
    {
      "cell_type": "code",
      "source": [
        "#Example 1\n",
        "n2=np.arange(20,14,-1)\n",
        "print(n2);\n",
        "n3=n2.reshape(3,2)\n",
        "print(n3)"
      ],
      "metadata": {
        "colab": {
          "base_uri": "https://localhost:8080/"
        },
        "id": "TqNEeDYBVFwV",
        "outputId": "60f6256e-7fa2-4735-e8db-86c20c8a0c1b"
      },
      "execution_count": null,
      "outputs": [
        {
          "output_type": "stream",
          "name": "stdout",
          "text": [
            "[20 19 18 17 16 15]\n",
            "[[20 19]\n",
            " [18 17]\n",
            " [16 15]]\n"
          ]
        }
      ]
    },
    {
      "cell_type": "code",
      "source": [
        "#Example 2\n",
        "nn1=np.arange(24).reshape(3,4,2);\n",
        "print(nn1);\n",
        "nn2=np.arange(24,0,-1).reshape(3,4,2);\n",
        "print(nn2);"
      ],
      "metadata": {
        "colab": {
          "base_uri": "https://localhost:8080/"
        },
        "id": "jXG8WlGdVzta",
        "outputId": "4135c2fa-5469-4c3f-c3c6-14cd1e3a3008"
      },
      "execution_count": null,
      "outputs": [
        {
          "output_type": "stream",
          "name": "stdout",
          "text": [
            "[[[ 0  1]\n",
            "  [ 2  3]\n",
            "  [ 4  5]\n",
            "  [ 6  7]]\n",
            "\n",
            " [[ 8  9]\n",
            "  [10 11]\n",
            "  [12 13]\n",
            "  [14 15]]\n",
            "\n",
            " [[16 17]\n",
            "  [18 19]\n",
            "  [20 21]\n",
            "  [22 23]]]\n",
            "[[[24 23]\n",
            "  [22 21]\n",
            "  [20 19]\n",
            "  [18 17]]\n",
            "\n",
            " [[16 15]\n",
            "  [14 13]\n",
            "  [12 11]\n",
            "  [10  9]]\n",
            "\n",
            " [[ 8  7]\n",
            "  [ 6  5]\n",
            "  [ 4  3]\n",
            "  [ 2  1]]]\n"
          ]
        }
      ]
    },
    {
      "cell_type": "code",
      "source": [
        "#Basic Operation:- +\n",
        "nn1+2"
      ],
      "metadata": {
        "colab": {
          "base_uri": "https://localhost:8080/"
        },
        "id": "gGrp6ZVRWN4z",
        "outputId": "46db36e4-6fd8-4fd3-d29e-d9069c849202"
      },
      "execution_count": null,
      "outputs": [
        {
          "output_type": "execute_result",
          "data": {
            "text/plain": [
              "array([[[ 2,  3],\n",
              "        [ 4,  5],\n",
              "        [ 6,  7],\n",
              "        [ 8,  9]],\n",
              "\n",
              "       [[10, 11],\n",
              "        [12, 13],\n",
              "        [14, 15],\n",
              "        [16, 17]],\n",
              "\n",
              "       [[18, 19],\n",
              "        [20, 21],\n",
              "        [22, 23],\n",
              "        [24, 25]]])"
            ]
          },
          "metadata": {},
          "execution_count": 12
        }
      ]
    },
    {
      "cell_type": "code",
      "source": [
        "#Example 3\n",
        "nn1=np.arange(4).reshape(2,2);\n",
        "print(nn1);\n",
        "nn2=np.arange(4,0,-1).reshape(2,2);\n",
        "print(nn2);"
      ],
      "metadata": {
        "colab": {
          "base_uri": "https://localhost:8080/"
        },
        "id": "Z0N_O4XqWS9h",
        "outputId": "f2426760-49f0-401e-91ac-be61e4a421e9"
      },
      "execution_count": null,
      "outputs": [
        {
          "output_type": "stream",
          "name": "stdout",
          "text": [
            "[[0 1]\n",
            " [2 3]]\n",
            "[[4 3]\n",
            " [2 1]]\n"
          ]
        }
      ]
    },
    {
      "cell_type": "code",
      "source": [
        "#Basic Operation:- +\n",
        "n3=nn1+nn2 \n",
        "print(n3)\n",
        "#Using universal function\n",
        "n3=np.add(nn1,nn2)\n",
        "print(n3)"
      ],
      "metadata": {
        "id": "wqbjeeYRXtde",
        "colab": {
          "base_uri": "https://localhost:8080/"
        },
        "outputId": "4607a717-32a5-4d16-95f3-aefa5b11a0ef"
      },
      "execution_count": null,
      "outputs": [
        {
          "output_type": "stream",
          "name": "stdout",
          "text": [
            "[[4 4]\n",
            " [4 4]]\n"
          ]
        }
      ]
    },
    {
      "cell_type": "code",
      "source": [
        "#Basic Operations:- *,dot\n",
        "print(nn1*nn2);\n",
        "print(nn1.dot(nn2));"
      ],
      "metadata": {
        "colab": {
          "base_uri": "https://localhost:8080/"
        },
        "id": "8qmhUbf2KvUz",
        "outputId": "c5cc9684-ed74-4436-97e8-a7a1ffcb9957"
      },
      "execution_count": null,
      "outputs": [
        {
          "output_type": "stream",
          "name": "stdout",
          "text": [
            "[[0 3]\n",
            " [4 3]]\n",
            "[[ 2  1]\n",
            " [14  9]]\n"
          ]
        }
      ]
    },
    {
      "cell_type": "code",
      "source": [
        "#Example 4\n",
        "arr1=np.arange(24).reshape(6,4)\n",
        "print(arr1)"
      ],
      "metadata": {
        "colab": {
          "base_uri": "https://localhost:8080/"
        },
        "id": "jXt1O9ziOur1",
        "outputId": "766fc139-235f-4c8f-928c-5aea4203db07"
      },
      "execution_count": null,
      "outputs": [
        {
          "output_type": "stream",
          "name": "stdout",
          "text": [
            "[[ 0  1  2  3]\n",
            " [ 4  5  6  7]\n",
            " [ 8  9 10 11]\n",
            " [12 13 14 15]\n",
            " [16 17 18 19]\n",
            " [20 21 22 23]]\n"
          ]
        }
      ]
    },
    {
      "cell_type": "code",
      "source": [
        "#Display the max and min of each column in the array passed as argument \n",
        "print (arr1[:,0].max())\n",
        "print (arr1[:,1].max())\n",
        "print (arr1[:,2].max())\n",
        "print (arr1[:,3].max())\n",
        "#Instead of doing this,we can use for loop"
      ],
      "metadata": {
        "colab": {
          "base_uri": "https://localhost:8080/"
        },
        "id": "nhagpK8UPMVj",
        "outputId": "6d9ed980-d62c-4192-870c-cebeaae9a538"
      },
      "execution_count": null,
      "outputs": [
        {
          "output_type": "stream",
          "name": "stdout",
          "text": [
            "20\n",
            "21\n",
            "22\n",
            "23\n"
          ]
        }
      ]
    },
    {
      "cell_type": "code",
      "source": [
        "t1=arr1.shape\n",
        "print(t1,type(t1))"
      ],
      "metadata": {
        "colab": {
          "base_uri": "https://localhost:8080/"
        },
        "id": "SlhbqSkBN139",
        "outputId": "5c139fc5-e66c-4bf9-de64-cbc1fd899a42"
      },
      "execution_count": null,
      "outputs": [
        {
          "output_type": "stream",
          "name": "stdout",
          "text": [
            "(6, 4) <class 'tuple'>\n"
          ]
        }
      ]
    },
    {
      "cell_type": "code",
      "source": [
        "#Tuple unpacking \n",
        "r,c = arr1.shape\n",
        "for i in range(c):\n",
        "  print (arr1[:,i].max())"
      ],
      "metadata": {
        "colab": {
          "base_uri": "https://localhost:8080/"
        },
        "id": "hp4lRw2HPiFA",
        "outputId": "2b012d7a-3c94-4444-f997-22ca3a1bc0e6"
      },
      "execution_count": null,
      "outputs": [
        {
          "output_type": "stream",
          "name": "stdout",
          "text": [
            "20\n",
            "21\n",
            "22\n",
            "23\n"
          ]
        }
      ]
    },
    {
      "cell_type": "code",
      "source": [
        "#Example 5\n",
        "arr2=np.array([1,2,3,4,5,6,7,8,9])\n",
        "print(arr1)"
      ],
      "metadata": {
        "colab": {
          "base_uri": "https://localhost:8080/"
        },
        "id": "C7vgUL7-LkRc",
        "outputId": "31fd00a4-545d-4813-fdb5-d2e11db73a2a"
      },
      "execution_count": null,
      "outputs": [
        {
          "output_type": "stream",
          "name": "stdout",
          "text": [
            "[[ 0  1  2  3]\n",
            " [ 4  5  6  7]\n",
            " [ 8  9 10 11]\n",
            " [12 13 14 15]\n",
            " [16 17 18 19]\n",
            " [20 21 22 23]]\n"
          ]
        }
      ]
    },
    {
      "cell_type": "code",
      "source": [
        "import matplotlib.pyplot as plt\n",
        "plt.hist(arr2,bins=7)   #Bins are the number of intervals you want to divide all of your data into, such that it can be displayed as bars on a histogram.\n",
        "#plt.hist(arr1,bins=9) "
      ],
      "metadata": {
        "colab": {
          "base_uri": "https://localhost:8080/",
          "height": 334
        },
        "id": "OCovqNmZL6fR",
        "outputId": "783d305c-3cef-4a59-ba60-3cb24ab1014f"
      },
      "execution_count": null,
      "outputs": [
        {
          "output_type": "execute_result",
          "data": {
            "text/plain": [
              "(array([2., 1., 1., 1., 1., 1., 2.]),\n",
              " array([1.        , 2.14285714, 3.28571429, 4.42857143, 5.57142857,\n",
              "        6.71428571, 7.85714286, 9.        ]),\n",
              " <a list of 7 Patch objects>)"
            ]
          },
          "metadata": {},
          "execution_count": 66
        },
        {
          "output_type": "display_data",
          "data": {
            "text/plain": [
              "<Figure size 432x288 with 1 Axes>"
            ],
            "image/png": "[encoded data removed]"
          },
          "metadata": {
            "needs_background": "light"
          }
        }
      ]
    },
    {
      "cell_type": "code",
      "source": [
        "#Example 6\n",
        "arr3 = np.array([1,2,9,7,8,6,8,9,7,8,8,9,2,3])\n",
        "print(arr3);  \n",
        "print(\"Most frequent value in the array:\",np.bincount(arr3).argmax())"
      ],
      "metadata": {
        "colab": {
          "base_uri": "https://localhost:8080/"
        },
        "id": "krbA39GDWHMz",
        "outputId": "e4030942-7ca0-4f1c-e3c2-0263a731e656"
      },
      "execution_count": null,
      "outputs": [
        {
          "output_type": "stream",
          "name": "stdout",
          "text": [
            "[1 2 9 7 8 6 8 9 7 8 8 9 2 3]\n",
            "Most frequent value in the array: 8\n"
          ]
        }
      ]
    },
    {
      "cell_type": "markdown",
      "source": [
        "#**Reading wine dataset(using numpy)**"
      ],
      "metadata": {
        "id": "xDdsiwZRQntD"
      }
    },
    {
      "cell_type": "code",
      "source": [
        "import numpy as np\n",
        "url= \"https://raw.githubusercontent.com/sarwansingh/Python/master/ClassExamples/data/wines/winequality-red.csv\""
      ],
      "metadata": {
        "id": "6lHPOIYjQeMQ"
      },
      "execution_count": null,
      "outputs": []
    },
    {
      "cell_type": "code",
      "source": [
        "wfile=np.genfromtxt(url,delimiter=\";\",skip_header=1);\n",
        "print(type(wfile)) "
      ],
      "metadata": {
        "colab": {
          "base_uri": "https://localhost:8080/"
        },
        "id": "ySBoLNbmQs9W",
        "outputId": "a467077b-3135-4286-f018-2a7f92539592"
      },
      "execution_count": null,
      "outputs": [
        {
          "output_type": "stream",
          "name": "stdout",
          "text": [
            "<class 'numpy.ndarray'>\n"
          ]
        }
      ]
    },
    {
      "cell_type": "code",
      "source": [
        "print(wfile.size)\n",
        "print(wfile.shape)"
      ],
      "metadata": {
        "colab": {
          "base_uri": "https://localhost:8080/"
        },
        "id": "XR52bQ8mQxP6",
        "outputId": "554521a0-05de-4bec-822b-c0dbbfaecb54"
      },
      "execution_count": null,
      "outputs": [
        {
          "output_type": "stream",
          "name": "stdout",
          "text": [
            "19188\n",
            "(1599, 12)\n"
          ]
        }
      ]
    },
    {
      "cell_type": "code",
      "source": [
        "#Print first five records in array\n",
        "print(wfile[:5])"
      ],
      "metadata": {
        "colab": {
          "base_uri": "https://localhost:8080/"
        },
        "id": "dRJFOqheQYi3",
        "outputId": "f358dfb3-8b43-4dff-ee38-cb4dd19f8810"
      },
      "execution_count": null,
      "outputs": [
        {
          "output_type": "stream",
          "name": "stdout",
          "text": [
            "[[7.400e+00 7.000e-01 0.000e+00 1.900e+00 7.600e-02 1.100e+01 3.400e+01\n",
            "  9.978e-01 3.510e+00 5.600e-01 9.400e+00 5.000e+00]\n",
            " [7.800e+00 8.800e-01 0.000e+00 2.600e+00 9.800e-02 2.500e+01 6.700e+01\n",
            "  9.968e-01 3.200e+00 6.800e-01 9.800e+00 5.000e+00]\n",
            " [7.800e+00 7.600e-01 4.000e-02 2.300e+00 9.200e-02 1.500e+01 5.400e+01\n",
            "  9.970e-01 3.260e+00 6.500e-01 9.800e+00 5.000e+00]\n",
            " [1.120e+01 2.800e-01 5.600e-01 1.900e+00 7.500e-02 1.700e+01 6.000e+01\n",
            "  9.980e-01 3.160e+00 5.800e-01 9.800e+00 6.000e+00]\n",
            " [7.400e+00 7.000e-01 0.000e+00 1.900e+00 7.600e-02 1.100e+01 3.400e+01\n",
            "  9.978e-01 3.510e+00 5.600e-01 9.400e+00 5.000e+00]]\n"
          ]
        }
      ]
    },
    {
      "cell_type": "code",
      "source": [
        "#Display first three columns of 10-15th row\n",
        "print(wfile[9:15,0:3])"
      ],
      "metadata": {
        "colab": {
          "base_uri": "https://localhost:8080/"
        },
        "id": "Bz6PfdbSQy4G",
        "outputId": "5ed5d08f-5401-436d-fee8-05691f99d222"
      },
      "execution_count": null,
      "outputs": [
        {
          "output_type": "stream",
          "name": "stdout",
          "text": [
            "[[7.5   0.5   0.36 ]\n",
            " [6.7   0.58  0.08 ]\n",
            " [7.5   0.5   0.36 ]\n",
            " [5.6   0.615 0.   ]\n",
            " [7.8   0.61  0.29 ]\n",
            " [8.9   0.62  0.18 ]]\n"
          ]
        }
      ]
    },
    {
      "cell_type": "code",
      "source": [
        "#Display column no 2,4,6 of 3-6th row\n",
        "print ( wfile [2:6,[2,4,6]])"
      ],
      "metadata": {
        "colab": {
          "base_uri": "https://localhost:8080/"
        },
        "id": "Jo0RXtu1Q2mr",
        "outputId": "0305e83a-97de-4c99-ee29-d6c7bae8f46d"
      },
      "execution_count": null,
      "outputs": [
        {
          "output_type": "stream",
          "name": "stdout",
          "text": [
            "[[4.0e-02 9.2e-02 5.4e+01]\n",
            " [5.6e-01 7.5e-02 6.0e+01]\n",
            " [0.0e+00 7.6e-02 3.4e+01]\n",
            " [0.0e+00 7.5e-02 4.0e+01]]\n"
          ]
        }
      ]
    },
    {
      "cell_type": "code",
      "source": [
        "#Display the maximum number in column 1\n",
        "print ( wfile[:,0].max())\n",
        "#Display the minimum number in column 1\n",
        "print ( wfile[:,0].min())"
      ],
      "metadata": {
        "colab": {
          "base_uri": "https://localhost:8080/"
        },
        "id": "OZS6MwisRSZh",
        "outputId": "e522b8b6-dea8-480e-ad0a-fce59fa9bfa4"
      },
      "execution_count": null,
      "outputs": [
        {
          "output_type": "stream",
          "name": "stdout",
          "text": [
            "15.9\n",
            "4.6\n"
          ]
        }
      ]
    },
    {
      "cell_type": "code",
      "source": [
        "#Display the max and min of each column\n",
        "def showMaxMin(wfile):\n",
        "  #Tuple unpacking\n",
        "  rowCount,colCount=wfile.shape\n",
        "  print(rowCount,colCount)\n",
        "  for i in range(colCount):\n",
        "    print(\"Max of column\",i+1,\"is\",wfile[:,i].max())  \n",
        "    print(\"Min of column\",i+1,\"is\",wfile[:,i].min())\n",
        "    print()\n",
        "#Call the function\n",
        "showMaxMin(wfile)"
      ],
      "metadata": {
        "colab": {
          "base_uri": "https://localhost:8080/"
        },
        "id": "BHb4X9CnRs_h",
        "outputId": "d5dd3e51-9f67-4600-d462-a4baa675ab76"
      },
      "execution_count": null,
      "outputs": [
        {
          "output_type": "stream",
          "name": "stdout",
          "text": [
            "1599 12\n",
            "Max of column 1 is 15.9\n",
            "Min of column 1 is 4.6\n",
            "\n",
            "Max of column 2 is 1.58\n",
            "Min of column 2 is 0.12\n",
            "\n",
            "Max of column 3 is 1.0\n",
            "Min of column 3 is 0.0\n",
            "\n",
            "Max of column 4 is 15.5\n",
            "Min of column 4 is 0.9\n",
            "\n",
            "Max of column 5 is 0.611\n",
            "Min of column 5 is 0.012\n",
            "\n",
            "Max of column 6 is 72.0\n",
            "Min of column 6 is 1.0\n",
            "\n",
            "Max of column 7 is 289.0\n",
            "Min of column 7 is 6.0\n",
            "\n",
            "Max of column 8 is 1.00369\n",
            "Min of column 8 is 0.99007\n",
            "\n",
            "Max of column 9 is 4.01\n",
            "Min of column 9 is 2.74\n",
            "\n",
            "Max of column 10 is 2.0\n",
            "Min of column 10 is 0.33\n",
            "\n",
            "Max of column 11 is 14.9\n",
            "Min of column 11 is 8.4\n",
            "\n",
            "Max of column 12 is 8.0\n",
            "Min of column 12 is 3.0\n",
            "\n"
          ]
        }
      ]
    },
    {
      "cell_type": "code",
      "source": [
        "#Print standard deviation, mean and variance for each column\n",
        "def showSdMeanVar(wfile):\n",
        "  rowCount,colCount=wfile.shape\n",
        "  for i in range(colCount):\n",
        "    print(\"Standard Deviation for column\",i+1,\"is:\",np.std(wfile[:,i]))\n",
        "    print(\"Mean for column\",i+1,\"is:\",np.mean(wfile[:,i]))\n",
        "    print(\"Variance for column\",i+1,\"is:\",np.var(wfile[:,i]))\n",
        "    print()\n",
        "#Call the function \n",
        "showSdMeanVar(wfile)"
      ],
      "metadata": {
        "colab": {
          "base_uri": "https://localhost:8080/"
        },
        "id": "ol8VZRSWR0ZC",
        "outputId": "b8bfd81d-2873-4ecf-ea1a-fbbe2c339964"
      },
      "execution_count": null,
      "outputs": [
        {
          "output_type": "stream",
          "name": "stdout",
          "text": [
            "Standard Deviation for column 1 is: 1.7405518001102729\n",
            "Mean for column 1 is: 8.31963727329581\n",
            "Variance for column 1 is: 3.0295205688671114\n",
            "\n",
            "Standard Deviation for column 2 is: 0.17900370424469014\n",
            "Mean for column 2 is: 0.5278205128205128\n",
            "Variance for column 2 is: 0.0320423261333205\n",
            "\n",
            "Standard Deviation for column 3 is: 0.19474021445233364\n",
            "Mean for column 3 is: 0.2709756097560976\n",
            "Variance for column 3 is: 0.03792375112494089\n",
            "\n",
            "Standard Deviation for column 4 is: 1.4094871124880495\n",
            "Mean for column 4 is: 2.53880550343965\n",
            "Variance for column 4 is: 1.9866539202698996\n",
            "\n",
            "Standard Deviation for column 5 is: 0.04705058260331571\n",
            "Mean for column 5 is: 0.08746654158849279\n",
            "Variance for column 5 is: 0.0022137573233114347\n",
            "\n",
            "Standard Deviation for column 6 is: 10.45688561493072\n",
            "Mean for column 6 is: 15.874921826141339\n",
            "Variance for column 6 is: 109.34645676374501\n",
            "\n",
            "Standard Deviation for column 7 is: 32.88503665178374\n",
            "Mean for column 7 is: 46.46779237023139\n",
            "Variance for column 7 is: 1081.42563558916\n",
            "\n",
            "Standard Deviation for column 8 is: 0.0018867437008323914\n",
            "Mean for column 8 is: 0.9967466791744841\n",
            "Variance for column 8 is: 3.5598017926307083e-06\n",
            "\n",
            "Standard Deviation for column 9 is: 0.15433818141060165\n",
            "Mean for column 9 is: 3.3111131957473416\n",
            "Variance for column 9 is: 0.023820274241131787\n",
            "\n",
            "Standard Deviation for column 10 is: 0.16945396724179546\n",
            "Mean for column 10 is: 0.6581488430268917\n",
            "Variance for column 10 is: 0.02871464701398349\n",
            "\n",
            "Standard Deviation for column 11 is: 1.0653343003437483\n",
            "Mean for column 11 is: 10.422983114446529\n",
            "Variance for column 11 is: 1.1349371714889036\n",
            "\n",
            "Standard Deviation for column 12 is: 0.8073168769639513\n",
            "Mean for column 12 is: 5.6360225140712945\n",
            "Variance for column 12 is: 0.6517605398308277\n",
            "\n"
          ]
        }
      ]
    }
  ]
}