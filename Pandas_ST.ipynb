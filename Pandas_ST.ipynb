{
  "nbformat": 4,
  "nbformat_minor": 0,
  "metadata": {
    "colab": {
      "name": "Pandas_ST.ipynb",
      "provenance": [],
      "toc_visible": true,
      "authorship_tag": "ABX9TyMLxpo1FvBJW8PcR5EJuqUV",
      "include_colab_link": true
    },
    "kernelspec": {
      "name": "python3",
      "display_name": "Python 3"
    },
    "language_info": {
      "name": "python"
    }
  },
  "cells": [
    {
      "cell_type": "markdown",
      "metadata": {
        "id": "view-in-github",
        "colab_type": "text"
      },
      "source": [
        "<a href=\"https://colab.research.google.com/github/Jshndeep/Summer-Training-2k22/blob/main/Pandas_ST.ipynb\" target=\"_parent\"><img src=\"https://colab.research.google.com/assets/colab-badge.svg\" alt=\"Open In Colab\"/></a>"
      ]
    },
    {
      "cell_type": "markdown",
      "source": [
        "# **Pandas**"
      ],
      "metadata": {
        "id": "SuLENUU7ZQ5i"
      }
    },
    {
      "cell_type": "markdown",
      "source": [
        "* Pandas is Python package for data analysis.\n",
        "* Pandas is an open source python library built on top of Numpy\n",
        "* Pandas can accomplish five typical steps in the processing and analysis of data, regardless of the origin of data:- \n",
        " \n",
        "    * load\n",
        "    * prepare\n",
        "    * manipulate\n",
        "    * model\n",
        "    * analyze\n"
      ],
      "metadata": {
        "id": "rkCSZRwKZVUq"
      }
    },
    {
      "cell_type": "markdown",
      "source": [
        "**Why Pandas?**"
      ],
      "metadata": {
        "id": "f2G1xDQ2bQpO"
      }
    },
    {
      "cell_type": "markdown",
      "source": [
        "* Big part of data science is data cleaning.\n",
        "* Pandas is a power tool for data cleaning."
      ],
      "metadata": {
        "id": "a8dURX26bUBo"
      }
    },
    {
      "cell_type": "markdown",
      "source": [
        "**Key Features of Pandas**"
      ],
      "metadata": {
        "id": "no9qD7fQbjI5"
      }
    },
    {
      "cell_type": "markdown",
      "source": [
        "* Fast and efficient dataframe object with default and customized indexing.\n",
        "* Label based slicing,indexing and subsetting of large datasets.\n",
        "* Columns from a data structure can be deleted or inserted.\n",
        "* High performance merging and joining of data.\n",
        "* Time series functionality."
      ],
      "metadata": {
        "id": "JxsONzMPb1X9"
      }
    },
    {
      "cell_type": "markdown",
      "source": [
        "## **Numpy vs Pandas**"
      ],
      "metadata": {
        "id": "mjTqs8cwaYKY"
      }
    },
    {
      "cell_type": "markdown",
      "source": [
        "* Pandas is designed for working with tabular or heterogenous data.\n",
        "* Numpy is best suited for working with homogenous numerical array data.\n",
        "* **Numpy** is required by **Pandas** (and by virtually all numerical tools for Python)\n",
        "* Numpy is faster than Pandas.\n",
        "* Both are faster than normal Python arrays.\n",
        "* **Essential difference**:-\n",
        "   * The Numpy array has an **implicitly defined integer index** used to access the values.\n",
        "   * The Pandas Series has an **explicitly defined index** associated with the values."
      ],
      "metadata": {
        "id": "a1fTvnWNafBe"
      }
    },
    {
      "cell_type": "markdown",
      "source": [
        "**Pandas and Numpy**"
      ],
      "metadata": {
        "id": "jtBaA-h8csR6"
      }
    },
    {
      "cell_type": "markdown",
      "source": [
        "* Pandas and Numpy both hold data.\n",
        "* Pandas has column names as well.\n",
        "* Makes it easier to manipulate data."
      ],
      "metadata": {
        "id": "kDKcQMVFcwHG"
      }
    },
    {
      "cell_type": "markdown",
      "source": [
        "**Pandas Numpy Scikit-Learn Workflow**\n"
      ],
      "metadata": {
        "id": "bDoUDBRzdB01"
      }
    },
    {
      "cell_type": "markdown",
      "source": [
        "* Start with CSV\n",
        "* Convert to Pandas\n",
        "* Slice and dice in Pandas\n",
        "* Convert to Numpy array to feed to scikit-learn"
      ],
      "metadata": {
        "id": "xRDBJsj9dNwv"
      }
    },
    {
      "cell_type": "markdown",
      "source": [
        "## **Data Structures**\n"
      ],
      "metadata": {
        "id": "t9wnrv5wd-5Y"
      }
    },
    {
      "cell_type": "markdown",
      "source": [
        "* Pandas deals with the following three data structures:-\n",
        "    * Series\n",
        "    * DataFrame\n",
        "    * Panel\n",
        "* These data structures are built on top of Numpy array,which means they are fast.\n",
        "* DataFrame is a container of Series,Panel is a container of DataFrame.    \n"
      ],
      "metadata": {
        "id": "t_SCAp5LeFFV"
      }
    },
    {
      "cell_type": "markdown",
      "source": [
        "#### **Python Series**\n",
        "\n",
        "\n",
        "\n",
        " \n"
      ],
      "metadata": {
        "id": "N0LIvPRXe6bD"
      }
    },
    {
      "cell_type": "markdown",
      "source": [
        "* Series is a **1D** labeled **homogenous** array,size **immutable**.\n",
        "* Syntax:-   pandas.Series(data,index,dtype,copy)\n",
        "* A series can be created using various inputs-\n",
        "     * Array\n",
        "     * Dict\n",
        "     * Scalar value or constant"
      ],
      "metadata": {
        "id": "MjtmFGD8fNub"
      }
    },
    {
      "cell_type": "code",
      "execution_count": null,
      "metadata": {
        "colab": {
          "base_uri": "https://localhost:8080/"
        },
        "id": "F4fLniQgIKO7",
        "outputId": "93b6440c-a44d-4b2e-f952-4a2926e28f69"
      },
      "outputs": [
        {
          "output_type": "stream",
          "name": "stdout",
          "text": [
            "Series([], dtype: float64)\n"
          ]
        },
        {
          "output_type": "stream",
          "name": "stderr",
          "text": [
            "/usr/local/lib/python3.7/dist-packages/ipykernel_launcher.py:2: DeprecationWarning: The default dtype for empty Series will be 'object' instead of 'float64' in a future version. Specify a dtype explicitly to silence this warning.\n",
            "  \n"
          ]
        }
      ],
      "source": [
        "#Creating an empty series\n",
        "#Import the pandas library and aliasing as pd\n",
        "import pandas as pd\n",
        "s=pd.Series()\n",
        "print(s)"
      ]
    },
    {
      "cell_type": "code",
      "source": [
        "#Creating a series from ndarray\n",
        "import pandas as pd\n",
        "import numpy as np\n",
        "data=np.array(['a','b','c','d'])\n",
        "s=pd.Series(data)\n",
        "print(s)"
      ],
      "metadata": {
        "colab": {
          "base_uri": "https://localhost:8080/"
        },
        "id": "u2yW4xOdIfAQ",
        "outputId": "c6c20b94-9824-4dc1-c506-3dbbfbfd7599"
      },
      "execution_count": 1,
      "outputs": [
        {
          "output_type": "stream",
          "name": "stdout",
          "text": [
            "0    a\n",
            "1    b\n",
            "2    c\n",
            "3    d\n",
            "dtype: object\n"
          ]
        }
      ]
    },
    {
      "cell_type": "code",
      "source": [
        "#If data is an ndarray,then index passed must be of the same length.If no index is passed,then by default index will be range(n) i.e. 0 to n-1\n",
        "data=np.array(['a','b','c','d'])\n",
        "s=pd.Series(data,index=[100,101,102,'indexd'])\n",
        "print(s)"
      ],
      "metadata": {
        "colab": {
          "base_uri": "https://localhost:8080/"
        },
        "id": "W6T5vkjehZAu",
        "outputId": "7f583635-2aed-44bd-b67e-0d4b3c6c6711"
      },
      "execution_count": 3,
      "outputs": [
        {
          "output_type": "stream",
          "name": "stdout",
          "text": [
            "100       a\n",
            "101       b\n",
            "102       c\n",
            "indexd    d\n",
            "dtype: object\n"
          ]
        }
      ]
    },
    {
      "cell_type": "code",
      "source": [
        "#Creating a series from dict\n",
        "#A dict can be passed as a input and if no index is specified,then the dictionary keys are taken in a sorted order to construct index\n",
        "data={'a':0,'b':1,'c':2}\n",
        "s=pd.Series(data)\n",
        "print(s)"
      ],
      "metadata": {
        "colab": {
          "base_uri": "https://localhost:8080/"
        },
        "id": "i1ScaeVbI6QW",
        "outputId": "0ee4bed1-9b83-42b8-e79f-1c3e6bc00b6c"
      },
      "execution_count": 5,
      "outputs": [
        {
          "output_type": "stream",
          "name": "stdout",
          "text": [
            "a    0\n",
            "b    1\n",
            "c    2\n",
            "dtype: int64\n"
          ]
        }
      ]
    },
    {
      "cell_type": "code",
      "source": [
        "#If index is passed,the values in the data corresponding to the labels in the index will be pulled out\n",
        "s=pd.Series(data,index=['b','c','d','a'])\n",
        "print(s)"
      ],
      "metadata": {
        "colab": {
          "base_uri": "https://localhost:8080/"
        },
        "id": "zvEVpWwoh2Lv",
        "outputId": "0f637fe9-e2ff-4d2e-85c0-1a90fca4e79c"
      },
      "execution_count": 6,
      "outputs": [
        {
          "output_type": "stream",
          "name": "stdout",
          "text": [
            "b    1.0\n",
            "c    2.0\n",
            "d    NaN\n",
            "a    0.0\n",
            "dtype: float64\n"
          ]
        }
      ]
    },
    {
      "cell_type": "code",
      "source": [
        "#Creating a series from a scalar\n",
        "#If data is a scalar value,an index must be provided.The value will be repeated to match the length of index\n",
        "s=pd.Series(5,index=[0,1,2,3])\n",
        "print(s)"
      ],
      "metadata": {
        "colab": {
          "base_uri": "https://localhost:8080/"
        },
        "id": "31yuxmaEJOkR",
        "outputId": "15cbe6e6-14e5-41af-ad1b-b504452e4cd7"
      },
      "execution_count": null,
      "outputs": [
        {
          "output_type": "stream",
          "name": "stdout",
          "text": [
            "0    5\n",
            "1    5\n",
            "2    5\n",
            "3    5\n",
            "dtype: int64\n"
          ]
        }
      ]
    },
    {
      "cell_type": "code",
      "source": [
        "#Retrieving data from series with position/label(index)\n",
        "s=pd.Series([1,2,3,4,5],index=['a','b','c','d','e'])\n",
        "print(s[0])   #Retrieve the first element\n",
        "print(s[:3])  #Retrieve the first three elements\n",
        "print(s[-3:]) #Retrieve the last three elements\n",
        "print(s['a']) #Retrieve a single element\n",
        "print(s[['a','c','d']])  #Retrieve multiple elements"
      ],
      "metadata": {
        "colab": {
          "base_uri": "https://localhost:8080/"
        },
        "id": "sxB5gpI_JXrU",
        "outputId": "574aa7d2-de61-484e-b297-3a931956d988"
      },
      "execution_count": null,
      "outputs": [
        {
          "output_type": "stream",
          "name": "stdout",
          "text": [
            "1\n",
            "a    1\n",
            "b    2\n",
            "c    3\n",
            "dtype: int64\n",
            "c    3\n",
            "d    4\n",
            "e    5\n",
            "dtype: int64\n",
            "1\n",
            "a    1\n",
            "c    3\n",
            "d    4\n",
            "dtype: int64\n"
          ]
        }
      ]
    },
    {
      "cell_type": "code",
      "source": [
        "s=pd.Series({2:'a',1:'b',3:'c'},index=[3,2])\n",
        "print(s)"
      ],
      "metadata": {
        "colab": {
          "base_uri": "https://localhost:8080/"
        },
        "id": "v3lmOacpJ3vL",
        "outputId": "4853d1ed-ceb8-416b-8c43-77e67f37545e"
      },
      "execution_count": 7,
      "outputs": [
        {
          "output_type": "stream",
          "name": "stdout",
          "text": [
            "3    c\n",
            "2    a\n",
            "dtype: object\n"
          ]
        }
      ]
    },
    {
      "cell_type": "code",
      "source": [
        "#Series as a specialized dictionary\n",
        "population_dict={'Amritsar':2498201,'Jalandhar':2793723,'Ludhiana':347282,\n",
        "                 'Hoshiarpur':1527362,'Bathinda':1388322,'Fatehgarh Sahib':600163,'Patiala':1893527}\n",
        "population=pd.Series(population_dict)\n",
        "population"
      ],
      "metadata": {
        "colab": {
          "base_uri": "https://localhost:8080/"
        },
        "id": "cFjnym24kNRB",
        "outputId": "7272d90a-ea7a-464c-e394-9e832257a0ef"
      },
      "execution_count": 8,
      "outputs": [
        {
          "output_type": "execute_result",
          "data": {
            "text/plain": [
              "Amritsar           2498201\n",
              "Jalandhar          2793723\n",
              "Ludhiana            347282\n",
              "Hoshiarpur         1527362\n",
              "Bathinda           1388322\n",
              "Fatehgarh Sahib     600163\n",
              "Patiala            1893527\n",
              "dtype: int64"
            ]
          },
          "metadata": {},
          "execution_count": 8
        }
      ]
    },
    {
      "cell_type": "code",
      "source": [
        "population['Ludhiana']"
      ],
      "metadata": {
        "colab": {
          "base_uri": "https://localhost:8080/"
        },
        "id": "yTwI9MHdlOTR",
        "outputId": "14993da9-4ee6-4120-d3d1-d599136c7371"
      },
      "execution_count": 9,
      "outputs": [
        {
          "output_type": "execute_result",
          "data": {
            "text/plain": [
              "347282"
            ]
          },
          "metadata": {},
          "execution_count": 9
        }
      ]
    },
    {
      "cell_type": "code",
      "source": [
        "population['Ludhiana':'Bathinda']"
      ],
      "metadata": {
        "colab": {
          "base_uri": "https://localhost:8080/"
        },
        "id": "LJGDuVIalTS6",
        "outputId": "30a04bbc-fc1a-4b0e-a843-487285af19ee"
      },
      "execution_count": 12,
      "outputs": [
        {
          "output_type": "execute_result",
          "data": {
            "text/plain": [
              "Ludhiana       347282\n",
              "Hoshiarpur    1527362\n",
              "Bathinda      1388322\n",
              "dtype: int64"
            ]
          },
          "metadata": {},
          "execution_count": 12
        }
      ]
    },
    {
      "cell_type": "markdown",
      "source": [
        "#### **Pandas DataFrame**"
      ],
      "metadata": {
        "id": "5HFjcqiYlm7U"
      }
    },
    {
      "cell_type": "markdown",
      "source": [
        "* General **2D** labeled(rows and columns),size **mutable**,**tabular** structure with potentially **heterogeneously** typed columns\n",
        "* Syntax:- pandas.DataFrame(data,index,columns,dtype,copy)\n",
        "* pandas DataFrame can be created using various inputs like-\n",
        "   * Lists\n",
        "   * Dict\n",
        "   * Series\n",
        "   * Numpy ndarrays\n",
        "   * Another Dataframe"
      ],
      "metadata": {
        "id": "XPUg-leElsBX"
      }
    },
    {
      "cell_type": "code",
      "source": [
        "#Creating an empty dataframe\n",
        "df=pd.DataFrame()\n",
        "print(df)"
      ],
      "metadata": {
        "id": "c_xLRST4KdPH",
        "colab": {
          "base_uri": "https://localhost:8080/"
        },
        "outputId": "488f4d76-c3e9-4b78-81e3-a01e505ddd9b"
      },
      "execution_count": 13,
      "outputs": [
        {
          "output_type": "stream",
          "name": "stdout",
          "text": [
            "Empty DataFrame\n",
            "Columns: []\n",
            "Index: []\n"
          ]
        }
      ]
    },
    {
      "cell_type": "code",
      "source": [
        "#Creating a dataframe from lists\n",
        "#Example 1\n",
        "data=[1,2,3,4]\n",
        "df=pd.DataFrame(data)\n",
        "print(df)"
      ],
      "metadata": {
        "colab": {
          "base_uri": "https://localhost:8080/"
        },
        "id": "myDB9m9SKhMP",
        "outputId": "223a62ec-9311-49e2-8337-e00062674556"
      },
      "execution_count": 16,
      "outputs": [
        {
          "output_type": "stream",
          "name": "stdout",
          "text": [
            "   0\n",
            "0  1\n",
            "1  2\n",
            "2  3\n",
            "3  4\n"
          ]
        }
      ]
    },
    {
      "cell_type": "code",
      "source": [
        "#Example 2\n",
        "data=[['Amit',10],['Sumit',12],['Himmat',1350]]\n",
        "df=pd.DataFrame(data,columns=['Name','Rollno'],dtype=float)\n",
        "print(df)"
      ],
      "metadata": {
        "colab": {
          "base_uri": "https://localhost:8080/"
        },
        "id": "KcMDLuJ7KrOP",
        "outputId": "ad2019d8-f9db-4c2f-e267-d63a0387d524"
      },
      "execution_count": null,
      "outputs": [
        {
          "output_type": "stream",
          "name": "stdout",
          "text": [
            "     Name  Rollno\n",
            "0    Amit    10.0\n",
            "1   Sumit    12.0\n",
            "2  Himmat  1350.0\n"
          ]
        },
        {
          "output_type": "stream",
          "name": "stderr",
          "text": [
            "/usr/local/lib/python3.7/dist-packages/IPython/core/interactiveshell.py:2882: FutureWarning: Could not cast to float64, falling back to object. This behavior is deprecated. In a future version, when a dtype is passed to 'DataFrame', either all columns will be cast to that dtype, or a TypeError will be raised\n",
            "  exec(code_obj, self.user_global_ns, self.user_ns)\n"
          ]
        }
      ]
    },
    {
      "cell_type": "code",
      "source": [
        "#Creating a dataframe from Dict of ndarrays/lists\n",
        "data={'Name':['Amit','Sumit','Rita','Geeta'],'Age':[13,14,13,15]}\n",
        "df=pd.DataFrame(data,index=['rank1','rank2','rank3','rank4'])\n",
        "print(df)"
      ],
      "metadata": {
        "colab": {
          "base_uri": "https://localhost:8080/"
        },
        "id": "4pcZgCHKLUZv",
        "outputId": "869cdf4f-c4af-42dc-f812-849333e7b35d"
      },
      "execution_count": null,
      "outputs": [
        {
          "output_type": "stream",
          "name": "stdout",
          "text": [
            "        Name  Age\n",
            "rank1   Amit   13\n",
            "rank2  Sumit   14\n",
            "rank3   Rita   13\n",
            "rank4  Geeta   15\n"
          ]
        }
      ]
    },
    {
      "cell_type": "code",
      "source": [
        "#Creating a dataframe from list of dicts\n",
        "#Example 1\n",
        "data=[{'a':1,'b':2},{'a':3,'b':4,'c':5}]\n",
        "df=pd.DataFrame(data,index=['rank1','rank2'])\n",
        "print(df)"
      ],
      "metadata": {
        "colab": {
          "base_uri": "https://localhost:8080/"
        },
        "id": "xlrOk0hQL3mo",
        "outputId": "2e7cca19-f720-44f7-993c-3e92a6f3a8f8"
      },
      "execution_count": null,
      "outputs": [
        {
          "output_type": "stream",
          "name": "stdout",
          "text": [
            "       a  b    c\n",
            "rank1  1  2  NaN\n",
            "rank2  3  4  5.0\n"
          ]
        }
      ]
    },
    {
      "cell_type": "code",
      "source": [
        "#Example 2\n",
        "data=[{'a':i,'b':2*i} for i in range(3)]\n",
        "df=pd.DataFrame(data)\n",
        "print(df)"
      ],
      "metadata": {
        "colab": {
          "base_uri": "https://localhost:8080/"
        },
        "id": "oGoTWKJdMLcg",
        "outputId": "88190db7-cc55-4e9f-eae2-a29635425ff9"
      },
      "execution_count": null,
      "outputs": [
        {
          "output_type": "stream",
          "name": "stdout",
          "text": [
            "   a  b\n",
            "0  0  0\n",
            "1  1  2\n",
            "2  2  4\n"
          ]
        }
      ]
    },
    {
      "cell_type": "code",
      "source": [
        "#Creating a dataframe from 2D Numpy array\n",
        "arr=np.random.rand(3,2)\n",
        "df=pd.DataFrame(arr,columns=['abc','def'],index=['a','b','c'])\n",
        "print(df)"
      ],
      "metadata": {
        "colab": {
          "base_uri": "https://localhost:8080/"
        },
        "id": "dwBhFoHfMbWk",
        "outputId": "55d785ef-4e84-4c73-cd7c-1fa0c64e2991"
      },
      "execution_count": 21,
      "outputs": [
        {
          "output_type": "stream",
          "name": "stdout",
          "text": [
            "        abc       def\n",
            "a  0.518216  0.511451\n",
            "b  0.830215  0.771449\n",
            "c  0.987811  0.842054\n"
          ]
        }
      ]
    },
    {
      "cell_type": "code",
      "source": [
        "#Creating a dataframe from a numpy structured array\n",
        "A=np.zeros(3,dtype=[('A','i8'),('B','f8')])\n",
        "df=pd.DataFrame(A)\n",
        "print(df)"
      ],
      "metadata": {
        "colab": {
          "base_uri": "https://localhost:8080/"
        },
        "id": "x26u0LbKM1Lo",
        "outputId": "0ce6eb6d-7c54-45e4-ecad-c61dbc94612e"
      },
      "execution_count": 20,
      "outputs": [
        {
          "output_type": "stream",
          "name": "stdout",
          "text": [
            "   A    B\n",
            "0  0  0.0\n",
            "1  0  0.0\n",
            "2  0  0.0\n"
          ]
        }
      ]
    },
    {
      "cell_type": "code",
      "source": [
        "#Creating a dataframe from a dict of series\n",
        "d={'one':pd.Series([1,2,3],index=['a','b','c']),'two':pd.Series([1,2,3,4],index=['a','b','c','d'])}\n",
        "df=pd.DataFrame(d)\n",
        "print(df)"
      ],
      "metadata": {
        "colab": {
          "base_uri": "https://localhost:8080/"
        },
        "id": "a82Qi8RfNfEN",
        "outputId": "b8dd0230-7d50-4c14-9e7d-aec5da9d80e4"
      },
      "execution_count": 23,
      "outputs": [
        {
          "output_type": "stream",
          "name": "stdout",
          "text": [
            "   one  two\n",
            "a  1.0    1\n",
            "b  2.0    2\n",
            "c  3.0    3\n",
            "d  NaN    4\n"
          ]
        }
      ]
    },
    {
      "cell_type": "code",
      "source": [
        "print(df['one'])    #column selection"
      ],
      "metadata": {
        "colab": {
          "base_uri": "https://localhost:8080/"
        },
        "id": "Lp2rIiAjODP0",
        "outputId": "d4faec24-1dea-491c-babc-0914f0570d26"
      },
      "execution_count": 24,
      "outputs": [
        {
          "output_type": "stream",
          "name": "stdout",
          "text": [
            "a    1.0\n",
            "b    2.0\n",
            "c    3.0\n",
            "d    NaN\n",
            "Name: one, dtype: float64\n"
          ]
        }
      ]
    },
    {
      "cell_type": "code",
      "source": [
        "#Adding column\n",
        "df['three']=pd.Series([10,20,30],index=['a','b','c'])\n",
        "df['four']=df['three']+df['one']\n",
        "print(df)"
      ],
      "metadata": {
        "id": "K97X2bLnOOSh",
        "colab": {
          "base_uri": "https://localhost:8080/"
        },
        "outputId": "54eaca2f-257e-4fcc-ac74-257b99334db5"
      },
      "execution_count": 25,
      "outputs": [
        {
          "output_type": "stream",
          "name": "stdout",
          "text": [
            "   one  two  three  four\n",
            "a  1.0    1   10.0  11.0\n",
            "b  2.0    2   20.0  22.0\n",
            "c  3.0    3   30.0  33.0\n",
            "d  NaN    4    NaN   NaN\n"
          ]
        }
      ]
    }
  ]
}